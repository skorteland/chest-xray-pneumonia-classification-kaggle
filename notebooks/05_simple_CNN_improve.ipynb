{
 "cells": [
  {
   "cell_type": "markdown",
   "id": "d0bedde6",
   "metadata": {},
   "source": [
    "# A simple baseline CNN with improvements\n",
    "Our baseline CNN has an accuracy of around 77%. Let's see if we can improve! We will test the following:\n",
    "1. Data augmentation\n",
    "2. Balance dataset\n",
    "3. Dropout\n",
    "4. Batch normalization\n",
    "5. \n",
    "\n",
    "## import required libraries\n"
   ]
  },
  {
   "cell_type": "code",
   "execution_count": 1,
   "id": "70aab055",
   "metadata": {},
   "outputs": [],
   "source": [
    "import os\n",
    "import sys\n",
    "import torch\n",
    "import torch.optim as optim\n",
    "from torchinfo import summary\n",
    "\n",
    "\n",
    "module_path = os.path.abspath(os.path.join('..')) # project root\n",
    "# add project root to sys.path\n",
    "if module_path not in sys.path:\n",
    "    sys.path.append(module_path) \n",
    "from src.data_loader import get_dataloader\n",
    "from src.transforms import get_train_transforms, get_val_transforms\n",
    "from src.models import simplecnn\n",
    "from src.train import train_model\n",
    "from src.evaluate import evaluate_model\n",
    "from src.plot_metrics import plot_learningcurve, plot_confusionmatrix, plot_learningrate\n"
   ]
  },
  {
   "cell_type": "markdown",
   "id": "bbfc46ad",
   "metadata": {},
   "source": [
    "## 1. Add data augmentation (accuracy 89%, + 13%)"
   ]
  },
  {
   "cell_type": "markdown",
   "id": "f82490ad",
   "metadata": {},
   "source": [
    "In the previous notebook (03_simple_CNN.ipynb) we explored a simple CNN and trained it on the original dataset. The results showed that the model overfitted the original training dataset. To prevent this overfitting, lets try data augmentation.\n",
    " Data augmentation creates new training examples through applying small modifications to the original training images. Examples of such modifications are cropping, rotation, or flipping. Data augnmentation helps in similating slight variability in real world data, so that the model is able to generalize better on unseen data.\n",
    "\n",
    "Data augmentation should only be applied to the training dataset and not to the validation and test set, because during validation and testing, we want to measure performance on data that resembles unaltered, realistic inputs.\n",
    "\n",
    "In Pytorch, defining a dataset using torchvision.transforms, the augmentation is applied each time an image is loaded during training. Every epoch (and every batch) the model sees slightly different versions of the same training images. Thus, when the augmentation is applied, the number of training samples per epoch stays the same (namely the number of images in the original, un-augmented training set), but the model sees a slightly different version of each image every time it is loaded. As a result, the model sees more variety over multiple epochs. "
   ]
  },
  {
   "cell_type": "markdown",
   "id": "a11f39f1",
   "metadata": {},
   "source": [
    "### Configuration\n",
    "Set hyperparameters and device for training. Use GPU if available, otherwise use the CPU"
   ]
  },
  {
   "cell_type": "code",
   "execution_count": 2,
   "id": "7f07d137",
   "metadata": {},
   "outputs": [],
   "source": [
    "data_dir = \"../data/raw/chest_xray\"\n",
    "batch_size = 32\n",
    "epochs = 10\n",
    "learning_rate = 0.001\n",
    "img_size = 224 # make smaller for faster CPU training\n",
    "n_channels = 1 \n",
    "\n",
    "# get device for training\n",
    "#device  = torch.accelerator.current_accelerator().type if torch.accelerator.is_available() else \"cpu\"\n",
    "device = \"cuda\" if torch.cuda.is_available() else \"cpu\"\n"
   ]
  },
  {
   "cell_type": "markdown",
   "id": "740cc55d",
   "metadata": {},
   "source": [
    "### Load data\n",
    "Here we apply the data augmentation to the train dataset by setting augment to 'True' when retreiving the train transform. The data augmentation consists of the following steps:\n",
    "- RandomHorizontalFlip(p=0.5): randomly flip the image with 50% probability. This represents variations in patient position\n",
    "- RandomRotation(10): Randomly rotate the image in the range -10 to 10 degrees. This represents slight positioning differences during scanning.\n",
    "- RandomResizedCrop(size,scale=(0.9,0.1)): randomply crop the image and resize it. This represents variablity in cropping or zooming level.\n",
    "- ColorJitter(brightness=0.1, contrast=0.1): This represents variability in image acquisition, like exposure and contrast."
   ]
  },
  {
   "cell_type": "code",
   "execution_count": 3,
   "id": "af904253",
   "metadata": {},
   "outputs": [],
   "source": [
    "# set num_workers to 0, safer on Windows with CPU\n",
    "train_transform = get_train_transforms(img_size,augment=True) # apply data augmentation\n",
    "val_transform = get_val_transforms(img_size)\n",
    "train_dataloader = get_dataloader(os.path.join(data_dir,'train'), batch_size=batch_size, num_workers=0,transform=train_transform)\n",
    "val_dataloader = get_dataloader(os.path.join(data_dir,'val'), batch_size=batch_size, num_workers=0,transform=val_transform)\n",
    "test_dataloader = get_dataloader(os.path.join(data_dir,'test'), batch_size=batch_size, num_workers=0,transform=val_transform)"
   ]
  },
  {
   "cell_type": "markdown",
   "id": "e7a45718",
   "metadata": {},
   "source": [
    "### Model setup\n",
    "#### Create instance of SimpleCNN model "
   ]
  },
  {
   "cell_type": "code",
   "execution_count": null,
   "id": "a85957fe",
   "metadata": {},
   "outputs": [
    {
     "data": {
      "text/plain": [
       "==========================================================================================\n",
       "Layer (type:depth-idx)                   Output Shape              Param #\n",
       "==========================================================================================\n",
       "SimpleCNN                                [32, 1]                   --\n",
       "├─Sequential: 1-1                        [32, 64, 28, 28]          --\n",
       "│    └─Sequential: 2-1                   [32, 16, 112, 112]        --\n",
       "│    │    └─Conv2d: 3-1                  [32, 16, 224, 224]        160\n",
       "│    │    └─ReLU: 3-2                    [32, 16, 224, 224]        --\n",
       "│    │    └─MaxPool2d: 3-3               [32, 16, 112, 112]        --\n",
       "│    └─Sequential: 2-2                   [32, 32, 56, 56]          --\n",
       "│    │    └─Conv2d: 3-4                  [32, 32, 112, 112]        4,640\n",
       "│    │    └─ReLU: 3-5                    [32, 32, 112, 112]        --\n",
       "│    │    └─MaxPool2d: 3-6               [32, 32, 56, 56]          --\n",
       "│    └─Sequential: 2-3                   [32, 64, 28, 28]          --\n",
       "│    │    └─Conv2d: 3-7                  [32, 64, 56, 56]          18,496\n",
       "│    │    └─ReLU: 3-8                    [32, 64, 56, 56]          --\n",
       "│    │    └─MaxPool2d: 3-9               [32, 64, 28, 28]          --\n",
       "├─Sequential: 1-2                        [32, 1]                   --\n",
       "│    └─Flatten: 2-4                      [32, 50176]               --\n",
       "│    └─Linear: 2-5                       [32, 128]                 6,422,656\n",
       "│    └─ReLU: 2-6                         [32, 128]                 --\n",
       "│    └─Linear: 2-7                       [32, 1]                   129\n",
       "==========================================================================================\n",
       "Total params: 6,446,081\n",
       "Trainable params: 6,446,081\n",
       "Non-trainable params: 0\n",
       "Total mult-adds (Units.GIGABYTES): 4.18\n",
       "==========================================================================================\n",
       "Input size (MB): 6.42\n",
       "Forward/backward pass size (MB): 359.69\n",
       "Params size (MB): 25.78\n",
       "Estimated Total Size (MB): 391.90\n",
       "=========================================================================================="
      ]
     },
     "execution_count": 5,
     "metadata": {},
     "output_type": "execute_result"
    }
   ],
   "source": [
    "model_augment = simplecnn.get_simplecnn(img_size,n_channels,use_batchnorm=False, use_dropout=False)\n",
    "\n",
    "# loss function\n",
    "loss_function = torch.nn.BCEWithLogitsLoss()\n",
    "\n",
    "# optimizer\n",
    "optimizer = torch.optim.Adam(model_augment.parameters(), lr=learning_rate)\n",
    "\n",
    "# print the model summary\n",
    "summary(model_augment,input_size=[batch_size,n_channels,img_size,img_size])"
   ]
  },
  {
   "cell_type": "markdown",
   "id": "967bda6e",
   "metadata": {},
   "source": [
    "### Train the model\n"
   ]
  },
  {
   "cell_type": "code",
   "execution_count": 5,
   "id": "68cb0519",
   "metadata": {},
   "outputs": [
    {
     "name": "stdout",
     "output_type": "stream",
     "text": [
      " Epoch 1 / 10:\n"
     ]
    },
    {
     "name": "stderr",
     "output_type": "stream",
     "text": [
      "Training: 100%|██████████| 163/163 [06:14<00:00,  2.30s/it]\n"
     ]
    },
    {
     "name": "stdout",
     "output_type": "stream",
     "text": [
      "  Average train loss:0.233753  \n",
      " Accuracy on the train dataset: 90.84%\n"
     ]
    },
    {
     "name": "stderr",
     "output_type": "stream",
     "text": [
      "Validation: 100%|██████████| 20/20 [00:22<00:00,  1.11s/it]\n"
     ]
    },
    {
     "name": "stdout",
     "output_type": "stream",
     "text": [
      "  Average val loss:0.607367  \n",
      " Accuracy on the validation dataset: 83.97%\n",
      " Epoch 2 / 10:\n"
     ]
    },
    {
     "name": "stderr",
     "output_type": "stream",
     "text": [
      "Training: 100%|██████████| 163/163 [04:12<00:00,  1.55s/it]\n"
     ]
    },
    {
     "name": "stdout",
     "output_type": "stream",
     "text": [
      "  Average train loss:0.133503  \n",
      " Accuracy on the train dataset: 95.05%\n"
     ]
    },
    {
     "name": "stderr",
     "output_type": "stream",
     "text": [
      "Validation: 100%|██████████| 20/20 [00:17<00:00,  1.17it/s]\n"
     ]
    },
    {
     "name": "stdout",
     "output_type": "stream",
     "text": [
      "  Average val loss:0.345529  \n",
      " Accuracy on the validation dataset: 86.22%\n",
      " Epoch 3 / 10:\n"
     ]
    },
    {
     "name": "stderr",
     "output_type": "stream",
     "text": [
      "Training: 100%|██████████| 163/163 [04:10<00:00,  1.54s/it]\n"
     ]
    },
    {
     "name": "stdout",
     "output_type": "stream",
     "text": [
      "  Average train loss:0.124214  \n",
      " Accuracy on the train dataset: 95.55%\n"
     ]
    },
    {
     "name": "stderr",
     "output_type": "stream",
     "text": [
      "Validation: 100%|██████████| 20/20 [00:16<00:00,  1.24it/s]\n"
     ]
    },
    {
     "name": "stdout",
     "output_type": "stream",
     "text": [
      "  Average val loss:0.358853  \n",
      " Accuracy on the validation dataset: 87.02%\n",
      " Epoch 4 / 10:\n"
     ]
    },
    {
     "name": "stderr",
     "output_type": "stream",
     "text": [
      "Training: 100%|██████████| 163/163 [04:11<00:00,  1.54s/it]\n"
     ]
    },
    {
     "name": "stdout",
     "output_type": "stream",
     "text": [
      "  Average train loss:0.114854  \n",
      " Accuracy on the train dataset: 95.78%\n"
     ]
    },
    {
     "name": "stderr",
     "output_type": "stream",
     "text": [
      "Validation: 100%|██████████| 20/20 [00:15<00:00,  1.28it/s]\n"
     ]
    },
    {
     "name": "stdout",
     "output_type": "stream",
     "text": [
      "  Average val loss:0.499574  \n",
      " Accuracy on the validation dataset: 83.01%\n",
      " Epoch 5 / 10:\n"
     ]
    },
    {
     "name": "stderr",
     "output_type": "stream",
     "text": [
      "Training: 100%|██████████| 163/163 [04:15<00:00,  1.57s/it]\n"
     ]
    },
    {
     "name": "stdout",
     "output_type": "stream",
     "text": [
      "  Average train loss:0.098657  \n",
      " Accuracy on the train dataset: 96.45%\n"
     ]
    },
    {
     "name": "stderr",
     "output_type": "stream",
     "text": [
      "Validation: 100%|██████████| 20/20 [00:16<00:00,  1.23it/s]\n"
     ]
    },
    {
     "name": "stdout",
     "output_type": "stream",
     "text": [
      "  Average val loss:0.291171  \n",
      " Accuracy on the validation dataset: 90.22%\n",
      " Epoch 6 / 10:\n"
     ]
    },
    {
     "name": "stderr",
     "output_type": "stream",
     "text": [
      "Training: 100%|██████████| 163/163 [04:12<00:00,  1.55s/it]\n"
     ]
    },
    {
     "name": "stdout",
     "output_type": "stream",
     "text": [
      "  Average train loss:0.099408  \n",
      " Accuracy on the train dataset: 96.30%\n"
     ]
    },
    {
     "name": "stderr",
     "output_type": "stream",
     "text": [
      "Validation: 100%|██████████| 20/20 [00:15<00:00,  1.29it/s]\n"
     ]
    },
    {
     "name": "stdout",
     "output_type": "stream",
     "text": [
      "  Average val loss:0.416308  \n",
      " Accuracy on the validation dataset: 87.34%\n",
      " Epoch 7 / 10:\n"
     ]
    },
    {
     "name": "stderr",
     "output_type": "stream",
     "text": [
      "Training: 100%|██████████| 163/163 [04:20<00:00,  1.60s/it]\n"
     ]
    },
    {
     "name": "stdout",
     "output_type": "stream",
     "text": [
      "  Average train loss:0.085014  \n",
      " Accuracy on the train dataset: 96.82%\n"
     ]
    },
    {
     "name": "stderr",
     "output_type": "stream",
     "text": [
      "Validation: 100%|██████████| 20/20 [00:15<00:00,  1.27it/s]\n"
     ]
    },
    {
     "name": "stdout",
     "output_type": "stream",
     "text": [
      "  Average val loss:0.299288  \n",
      " Accuracy on the validation dataset: 88.78%\n",
      " Epoch 8 / 10:\n"
     ]
    },
    {
     "name": "stderr",
     "output_type": "stream",
     "text": [
      "Training: 100%|██████████| 163/163 [04:10<00:00,  1.53s/it]\n"
     ]
    },
    {
     "name": "stdout",
     "output_type": "stream",
     "text": [
      "  Average train loss:0.084828  \n",
      " Accuracy on the train dataset: 96.97%\n"
     ]
    },
    {
     "name": "stderr",
     "output_type": "stream",
     "text": [
      "Validation: 100%|██████████| 20/20 [00:16<00:00,  1.23it/s]\n"
     ]
    },
    {
     "name": "stdout",
     "output_type": "stream",
     "text": [
      "  Average val loss:0.317666  \n",
      " Accuracy on the validation dataset: 89.58%\n",
      " Epoch 9 / 10:\n"
     ]
    },
    {
     "name": "stderr",
     "output_type": "stream",
     "text": [
      "Training: 100%|██████████| 163/163 [04:14<00:00,  1.56s/it]\n"
     ]
    },
    {
     "name": "stdout",
     "output_type": "stream",
     "text": [
      "  Average train loss:0.071472  \n",
      " Accuracy on the train dataset: 97.49%\n"
     ]
    },
    {
     "name": "stderr",
     "output_type": "stream",
     "text": [
      "Validation: 100%|██████████| 20/20 [00:15<00:00,  1.29it/s]\n"
     ]
    },
    {
     "name": "stdout",
     "output_type": "stream",
     "text": [
      "  Average val loss:0.273429  \n",
      " Accuracy on the validation dataset: 90.71%\n",
      " Epoch 10 / 10:\n"
     ]
    },
    {
     "name": "stderr",
     "output_type": "stream",
     "text": [
      "Training: 100%|██████████| 163/163 [04:20<00:00,  1.60s/it]\n"
     ]
    },
    {
     "name": "stdout",
     "output_type": "stream",
     "text": [
      "  Average train loss:0.073973  \n",
      " Accuracy on the train dataset: 97.26%\n"
     ]
    },
    {
     "name": "stderr",
     "output_type": "stream",
     "text": [
      "Validation: 100%|██████████| 20/20 [00:15<00:00,  1.30it/s]"
     ]
    },
    {
     "name": "stdout",
     "output_type": "stream",
     "text": [
      "  Average val loss:0.289386  \n",
      " Accuracy on the validation dataset: 89.58%\n",
      "Done!\n"
     ]
    },
    {
     "name": "stderr",
     "output_type": "stream",
     "text": [
      "\n"
     ]
    }
   ],
   "source": [
    "metrics_history= train_model(model_augment,train_dataloader,test_dataloader,optimizer, loss_function,device,epochs)"
   ]
  },
  {
   "cell_type": "markdown",
   "id": "6e5a1d59",
   "metadata": {},
   "source": [
    "### Save the model"
   ]
  },
  {
   "cell_type": "code",
   "execution_count": 7,
   "id": "388a333f",
   "metadata": {},
   "outputs": [],
   "source": [
    "torch.save(model_augment,'../models/simplecnn_dataaugment_10ep.pth')"
   ]
  },
  {
   "cell_type": "markdown",
   "id": "d9a46491",
   "metadata": {},
   "source": [
    "### Results"
   ]
  },
  {
   "cell_type": "code",
   "execution_count": 8,
   "id": "51bf2915",
   "metadata": {},
   "outputs": [
    {
     "name": "stderr",
     "output_type": "stream",
     "text": [
      "Validation: 100%|██████████| 20/20 [00:17<00:00,  1.16it/s]\n"
     ]
    },
    {
     "name": "stdout",
     "output_type": "stream",
     "text": [
      "Accuracy on the test set: 89.58%\n",
      "Precision: 0.92, Recall: 0.92, F1 score: 0.92, AUC: 0.89\n",
      "classification_report :              precision    recall  f1-score   support\n",
      "\n",
      "           0       0.86      0.86      0.86       234\n",
      "           1       0.92      0.92      0.92       390\n",
      "\n",
      "    accuracy                           0.90       624\n",
      "   macro avg       0.89      0.89      0.89       624\n",
      "weighted avg       0.90      0.90      0.90       624\n",
      "\n"
     ]
    },
    {
     "data": {
      "image/png": "[encoded data removed]",
      "text/plain": [
       "<Figure size 640x480 with 2 Axes>"
      ]
     },
     "metadata": {},
     "output_type": "display_data"
    },
    {
     "data": {
      "image/png": "[encoded data removed]",
      "text/plain": [
       "<Figure size 640x480 with 2 Axes>"
      ]
     },
     "metadata": {},
     "output_type": "display_data"
    }
   ],
   "source": [
    "plot_learningcurve(metrics_history)\n",
    "\n",
    "eval_metrics = evaluate_model(model_augment, test_dataloader, loss_function, device=\"cpu\")\n",
    "       \n",
    "    \n",
    "print(f\"Accuracy on the test set: {eval_metrics['accuracy']:.2%}\")\n",
    "\n",
    "print(f\"Precision: {eval_metrics['precision']:.2f}, Recall: {eval_metrics['recall']:.2f}, F1 score: {eval_metrics['f1']:.2f}, AUC: {eval_metrics['auc']:.2f}\")\n",
    "\n",
    "print(f'classification_report :{eval_metrics['classification report']}')\n",
    "# Calculate the confusion matrix using the true labels and predicision for the complete test set\n",
    "plot_confusionmatrix(eval_metrics['confusion matrix'])"
   ]
  },
  {
   "cell_type": "markdown",
   "id": "e2aec190",
   "metadata": {},
   "source": [
    "### Conclusion\n",
    "- Adding data augmentation to our training dataset has improved the model performance. The accuracy on the test dataset now is 89%. The F1 score is 0.92."
   ]
  },
  {
   "cell_type": "markdown",
   "id": "c6bc75c3",
   "metadata": {},
   "source": [
    "## 2. Balance the training dataset\n",
    "The current training dataset is imbalanced, there are more pneumonia images than there are normal images. This can lead to a model that does not perform well on the under-represented class, i.e. the model becomes biased toward the majority class. This is also what we see in the confusion matrix, the model has more difficulty to correctly identify normal images (more false negatives than false positives, it predicts 'Pneumonia' too often).\n",
    "Here we will use Pytorch's 'WeightedRandomSampler' to assign a higher probability to the minority class, so that both classes are seen equally during training.\n"
   ]
  },
  {
   "cell_type": "markdown",
   "id": "85f2edec",
   "metadata": {},
   "source": [
    "### load data\n",
    "Here we create a new train dataloader, that balances the dataset\n"
   ]
  },
  {
   "cell_type": "code",
   "execution_count": 4,
   "id": "b27cf80b",
   "metadata": {},
   "outputs": [],
   "source": [
    "balanced_train_dataloader = get_dataloader(os.path.join(data_dir,'train'), batch_size=batch_size, num_workers=0,transform=train_transform,balance=True)\n"
   ]
  },
  {
   "cell_type": "markdown",
   "id": "d38f6506",
   "metadata": {},
   "source": [
    "### Model setup"
   ]
  },
  {
   "cell_type": "code",
   "execution_count": null,
   "id": "38878d01",
   "metadata": {},
   "outputs": [
    {
     "data": {
      "text/plain": [
       "==========================================================================================\n",
       "Layer (type:depth-idx)                   Output Shape              Param #\n",
       "==========================================================================================\n",
       "SimpleCNN                                [32, 1]                   --\n",
       "├─Sequential: 1-1                        [32, 64, 28, 28]          --\n",
       "│    └─Sequential: 2-1                   [32, 16, 112, 112]        --\n",
       "│    │    └─Conv2d: 3-1                  [32, 16, 224, 224]        160\n",
       "│    │    └─ReLU: 3-2                    [32, 16, 224, 224]        --\n",
       "│    │    └─MaxPool2d: 3-3               [32, 16, 112, 112]        --\n",
       "│    └─Sequential: 2-2                   [32, 32, 56, 56]          --\n",
       "│    │    └─Conv2d: 3-4                  [32, 32, 112, 112]        4,640\n",
       "│    │    └─ReLU: 3-5                    [32, 32, 112, 112]        --\n",
       "│    │    └─MaxPool2d: 3-6               [32, 32, 56, 56]          --\n",
       "│    └─Sequential: 2-3                   [32, 64, 28, 28]          --\n",
       "│    │    └─Conv2d: 3-7                  [32, 64, 56, 56]          18,496\n",
       "│    │    └─ReLU: 3-8                    [32, 64, 56, 56]          --\n",
       "│    │    └─MaxPool2d: 3-9               [32, 64, 28, 28]          --\n",
       "├─Sequential: 1-2                        [32, 1]                   --\n",
       "│    └─Flatten: 2-4                      [32, 50176]               --\n",
       "│    └─Linear: 2-5                       [32, 128]                 6,422,656\n",
       "│    └─ReLU: 2-6                         [32, 128]                 --\n",
       "│    └─Linear: 2-7                       [32, 1]                   129\n",
       "==========================================================================================\n",
       "Total params: 6,446,081\n",
       "Trainable params: 6,446,081\n",
       "Non-trainable params: 0\n",
       "Total mult-adds (Units.GIGABYTES): 4.18\n",
       "==========================================================================================\n",
       "Input size (MB): 6.42\n",
       "Forward/backward pass size (MB): 359.69\n",
       "Params size (MB): 25.78\n",
       "Estimated Total Size (MB): 391.90\n",
       "=========================================================================================="
      ]
     },
     "execution_count": 10,
     "metadata": {},
     "output_type": "execute_result"
    }
   ],
   "source": [
    "model_balance = simplecnn.get_simplecnn(img_size,n_channels,use_batchnorm=False, use_dropout=False)\n",
    "\n",
    "# loss function\n",
    "loss_function = torch.nn.BCEWithLogitsLoss()\n",
    "\n",
    "# optimizer\n",
    "optimizer = torch.optim.Adam(model_balance.parameters(), lr=learning_rate)\n",
    "\n",
    "# print the model summary\n",
    "summary(model_balance,input_size=[batch_size,n_channels,img_size,img_size])"
   ]
  },
  {
   "cell_type": "markdown",
   "id": "acfecf15",
   "metadata": {},
   "source": [
    "### Train the model"
   ]
  },
  {
   "cell_type": "code",
   "execution_count": 11,
   "id": "ad6a7ecb",
   "metadata": {},
   "outputs": [
    {
     "name": "stdout",
     "output_type": "stream",
     "text": [
      " Epoch 1 / 10:\n"
     ]
    },
    {
     "name": "stderr",
     "output_type": "stream",
     "text": [
      "Training: 100%|██████████| 163/163 [04:59<00:00,  1.84s/it]\n"
     ]
    },
    {
     "name": "stdout",
     "output_type": "stream",
     "text": [
      "  Average train loss:0.316915  \n",
      " Accuracy on the train dataset: 85.56%\n"
     ]
    },
    {
     "name": "stderr",
     "output_type": "stream",
     "text": [
      "Validation: 100%|██████████| 20/20 [00:15<00:00,  1.26it/s]\n"
     ]
    },
    {
     "name": "stdout",
     "output_type": "stream",
     "text": [
      "  Average val loss:0.338865  \n",
      " Accuracy on the validation dataset: 85.90%\n",
      " Epoch 2 / 10:\n"
     ]
    },
    {
     "name": "stderr",
     "output_type": "stream",
     "text": [
      "Training: 100%|██████████| 163/163 [04:44<00:00,  1.74s/it]\n"
     ]
    },
    {
     "name": "stdout",
     "output_type": "stream",
     "text": [
      "  Average train loss:0.133077  \n",
      " Accuracy on the train dataset: 95.03%\n"
     ]
    },
    {
     "name": "stderr",
     "output_type": "stream",
     "text": [
      "Validation: 100%|██████████| 20/20 [00:14<00:00,  1.35it/s]\n"
     ]
    },
    {
     "name": "stdout",
     "output_type": "stream",
     "text": [
      "  Average val loss:0.458561  \n",
      " Accuracy on the validation dataset: 81.73%\n",
      " Epoch 3 / 10:\n"
     ]
    },
    {
     "name": "stderr",
     "output_type": "stream",
     "text": [
      "Training: 100%|██████████| 163/163 [04:34<00:00,  1.68s/it]\n"
     ]
    },
    {
     "name": "stdout",
     "output_type": "stream",
     "text": [
      "  Average train loss:0.145693  \n",
      " Accuracy on the train dataset: 94.19%\n"
     ]
    },
    {
     "name": "stderr",
     "output_type": "stream",
     "text": [
      "Validation: 100%|██████████| 20/20 [00:14<00:00,  1.35it/s]\n"
     ]
    },
    {
     "name": "stdout",
     "output_type": "stream",
     "text": [
      "  Average val loss:0.392531  \n",
      " Accuracy on the validation dataset: 86.38%\n",
      " Epoch 4 / 10:\n"
     ]
    },
    {
     "name": "stderr",
     "output_type": "stream",
     "text": [
      "Training: 100%|██████████| 163/163 [04:47<00:00,  1.77s/it]\n"
     ]
    },
    {
     "name": "stdout",
     "output_type": "stream",
     "text": [
      "  Average train loss:0.112218  \n",
      " Accuracy on the train dataset: 95.86%\n"
     ]
    },
    {
     "name": "stderr",
     "output_type": "stream",
     "text": [
      "Validation: 100%|██████████| 20/20 [00:15<00:00,  1.30it/s]\n"
     ]
    },
    {
     "name": "stdout",
     "output_type": "stream",
     "text": [
      "  Average val loss:0.412269  \n",
      " Accuracy on the validation dataset: 85.42%\n",
      " Epoch 5 / 10:\n"
     ]
    },
    {
     "name": "stderr",
     "output_type": "stream",
     "text": [
      "Training: 100%|██████████| 163/163 [04:47<00:00,  1.76s/it]\n"
     ]
    },
    {
     "name": "stdout",
     "output_type": "stream",
     "text": [
      "  Average train loss:0.101795  \n",
      " Accuracy on the train dataset: 95.88%\n"
     ]
    },
    {
     "name": "stderr",
     "output_type": "stream",
     "text": [
      "Validation: 100%|██████████| 20/20 [00:15<00:00,  1.30it/s]\n"
     ]
    },
    {
     "name": "stdout",
     "output_type": "stream",
     "text": [
      "  Average val loss:0.365989  \n",
      " Accuracy on the validation dataset: 86.70%\n",
      " Epoch 6 / 10:\n"
     ]
    },
    {
     "name": "stderr",
     "output_type": "stream",
     "text": [
      "Training: 100%|██████████| 163/163 [04:51<00:00,  1.79s/it]\n"
     ]
    },
    {
     "name": "stdout",
     "output_type": "stream",
     "text": [
      "  Average train loss:0.086663  \n",
      " Accuracy on the train dataset: 96.63%\n"
     ]
    },
    {
     "name": "stderr",
     "output_type": "stream",
     "text": [
      "Validation: 100%|██████████| 20/20 [00:15<00:00,  1.31it/s]\n"
     ]
    },
    {
     "name": "stdout",
     "output_type": "stream",
     "text": [
      "  Average val loss:0.362755  \n",
      " Accuracy on the validation dataset: 87.02%\n",
      " Epoch 7 / 10:\n"
     ]
    },
    {
     "name": "stderr",
     "output_type": "stream",
     "text": [
      "Training: 100%|██████████| 163/163 [04:46<00:00,  1.76s/it]\n"
     ]
    },
    {
     "name": "stdout",
     "output_type": "stream",
     "text": [
      "  Average train loss:0.090650  \n",
      " Accuracy on the train dataset: 96.53%\n"
     ]
    },
    {
     "name": "stderr",
     "output_type": "stream",
     "text": [
      "Validation: 100%|██████████| 20/20 [00:15<00:00,  1.31it/s]\n"
     ]
    },
    {
     "name": "stdout",
     "output_type": "stream",
     "text": [
      "  Average val loss:0.376498  \n",
      " Accuracy on the validation dataset: 86.86%\n",
      " Epoch 8 / 10:\n"
     ]
    },
    {
     "name": "stderr",
     "output_type": "stream",
     "text": [
      "Training: 100%|██████████| 163/163 [04:42<00:00,  1.73s/it]\n"
     ]
    },
    {
     "name": "stdout",
     "output_type": "stream",
     "text": [
      "  Average train loss:0.078869  \n",
      " Accuracy on the train dataset: 97.11%\n"
     ]
    },
    {
     "name": "stderr",
     "output_type": "stream",
     "text": [
      "Validation: 100%|██████████| 20/20 [00:15<00:00,  1.31it/s]\n"
     ]
    },
    {
     "name": "stdout",
     "output_type": "stream",
     "text": [
      "  Average val loss:0.307651  \n",
      " Accuracy on the validation dataset: 88.46%\n",
      " Epoch 9 / 10:\n"
     ]
    },
    {
     "name": "stderr",
     "output_type": "stream",
     "text": [
      "Training: 100%|██████████| 163/163 [04:44<00:00,  1.75s/it]\n"
     ]
    },
    {
     "name": "stdout",
     "output_type": "stream",
     "text": [
      "  Average train loss:0.073401  \n",
      " Accuracy on the train dataset: 97.24%\n"
     ]
    },
    {
     "name": "stderr",
     "output_type": "stream",
     "text": [
      "Validation: 100%|██████████| 20/20 [00:15<00:00,  1.31it/s]\n"
     ]
    },
    {
     "name": "stdout",
     "output_type": "stream",
     "text": [
      "  Average val loss:0.475790  \n",
      " Accuracy on the validation dataset: 84.94%\n",
      " Epoch 10 / 10:\n"
     ]
    },
    {
     "name": "stderr",
     "output_type": "stream",
     "text": [
      "Training: 100%|██████████| 163/163 [04:43<00:00,  1.74s/it]\n"
     ]
    },
    {
     "name": "stdout",
     "output_type": "stream",
     "text": [
      "  Average train loss:0.076568  \n",
      " Accuracy on the train dataset: 97.24%\n"
     ]
    },
    {
     "name": "stderr",
     "output_type": "stream",
     "text": [
      "Validation: 100%|██████████| 20/20 [00:15<00:00,  1.31it/s]"
     ]
    },
    {
     "name": "stdout",
     "output_type": "stream",
     "text": [
      "  Average val loss:0.492820  \n",
      " Accuracy on the validation dataset: 83.97%\n",
      "Done!\n"
     ]
    },
    {
     "name": "stderr",
     "output_type": "stream",
     "text": [
      "\n"
     ]
    }
   ],
   "source": [
    "metrics_history= train_model(model_balance,balanced_train_dataloader,test_dataloader,optimizer, loss_function,device,epochs)"
   ]
  },
  {
   "cell_type": "markdown",
   "id": "017597bd",
   "metadata": {},
   "source": [
    "### Save the model"
   ]
  },
  {
   "cell_type": "code",
   "execution_count": 12,
   "id": "64635189",
   "metadata": {},
   "outputs": [],
   "source": [
    "torch.save(model_balance,'../models/simplecnn_balanced_10ep.pth')"
   ]
  },
  {
   "cell_type": "markdown",
   "id": "1f7b2a75",
   "metadata": {},
   "source": [
    "### Results"
   ]
  },
  {
   "cell_type": "code",
   "execution_count": 13,
   "id": "eb6d2936",
   "metadata": {},
   "outputs": [
    {
     "name": "stderr",
     "output_type": "stream",
     "text": [
      "Validation: 100%|██████████| 20/20 [00:15<00:00,  1.26it/s]\n"
     ]
    },
    {
     "name": "stdout",
     "output_type": "stream",
     "text": [
      "Accuracy on the test set: 83.97%\n",
      "Precision: 0.81, Recall: 0.98, F1 score: 0.88, AUC: 0.79\n",
      "classification_report :              precision    recall  f1-score   support\n",
      "\n",
      "           0       0.94      0.61      0.74       234\n",
      "           1       0.81      0.98      0.88       390\n",
      "\n",
      "    accuracy                           0.84       624\n",
      "   macro avg       0.87      0.79      0.81       624\n",
      "weighted avg       0.86      0.84      0.83       624\n",
      "\n"
     ]
    },
    {
     "data": {
      "image/png": "[encoded data removed]",
      "text/plain": [
       "<Figure size 640x480 with 2 Axes>"
      ]
     },
     "metadata": {},
     "output_type": "display_data"
    },
    {
     "data": {
      "image/png": "[encoded data removed]",
      "text/plain": [
       "<Figure size 640x480 with 2 Axes>"
      ]
     },
     "metadata": {},
     "output_type": "display_data"
    }
   ],
   "source": [
    "plot_learningcurve(metrics_history)\n",
    "\n",
    "eval_metrics = evaluate_model(model_balance, test_dataloader, loss_function, device=\"cpu\")\n",
    "       \n",
    "    \n",
    "print(f\"Accuracy on the test set: {eval_metrics['accuracy']:.2%}\")\n",
    "\n",
    "print(f\"Precision: {eval_metrics['precision']:.2f}, Recall: {eval_metrics['recall']:.2f}, F1 score: {eval_metrics['f1']:.2f}, AUC: {eval_metrics['auc']:.2f}\")\n",
    "\n",
    "print(f'classification_report :{eval_metrics['classification report']}')\n",
    "# Calculate the confusion matrix using the true labels and predicision for the complete test set\n",
    "plot_confusionmatrix(eval_metrics['confusion matrix'])"
   ]
  },
  {
   "cell_type": "markdown",
   "id": "0cae750b",
   "metadata": {},
   "source": [
    "## 3. Add Dropout\n",
    "Dropout is a regularization technique used in deep learning models to improve generalization and prevent overfitting, especially used in CNN's. During training, a dropout layer randomly 'drops', or deactivates, a portion of the neuron's in the layer it's applied to. For example, if the dropout rate is set to 0.2, then 20% of the neurons in that layer are randomly ignored during each training step. This way, the network is prevented to rely too heavily on specific neurons, promoting redundancy and making the model more robust.\n",
    "\n",
    "So, lets try to add a dropout layer right after the last convolutional layer, before entering the fully connected layer. And let's set the dropout rate to 0.5\n",
    "\n",
    "### Model setup"
   ]
  },
  {
   "cell_type": "code",
   "execution_count": null,
   "id": "cb171f95",
   "metadata": {},
   "outputs": [
    {
     "data": {
      "text/plain": [
       "==========================================================================================\n",
       "Layer (type:depth-idx)                   Output Shape              Param #\n",
       "==========================================================================================\n",
       "SimpleCNN                                [32, 1]                   --\n",
       "├─Sequential: 1-1                        [32, 64, 28, 28]          --\n",
       "│    └─Sequential: 2-1                   [32, 16, 112, 112]        --\n",
       "│    │    └─Conv2d: 3-1                  [32, 16, 224, 224]        160\n",
       "│    │    └─ReLU: 3-2                    [32, 16, 224, 224]        --\n",
       "│    │    └─MaxPool2d: 3-3               [32, 16, 112, 112]        --\n",
       "│    └─Sequential: 2-2                   [32, 32, 56, 56]          --\n",
       "│    │    └─Conv2d: 3-4                  [32, 32, 112, 112]        4,640\n",
       "│    │    └─ReLU: 3-5                    [32, 32, 112, 112]        --\n",
       "│    │    └─MaxPool2d: 3-6               [32, 32, 56, 56]          --\n",
       "│    └─Sequential: 2-3                   [32, 64, 28, 28]          --\n",
       "│    │    └─Conv2d: 3-7                  [32, 64, 56, 56]          18,496\n",
       "│    │    └─ReLU: 3-8                    [32, 64, 56, 56]          --\n",
       "│    │    └─MaxPool2d: 3-9               [32, 64, 28, 28]          --\n",
       "├─Sequential: 1-2                        [32, 1]                   --\n",
       "│    └─Flatten: 2-4                      [32, 50176]               --\n",
       "│    └─Dropout: 2-5                      [32, 50176]               --\n",
       "│    └─Linear: 2-6                       [32, 128]                 6,422,656\n",
       "│    └─ReLU: 2-7                         [32, 128]                 --\n",
       "│    └─Dropout: 2-8                      [32, 128]                 --\n",
       "│    └─Linear: 2-9                       [32, 1]                   129\n",
       "==========================================================================================\n",
       "Total params: 6,446,081\n",
       "Trainable params: 6,446,081\n",
       "Non-trainable params: 0\n",
       "Total mult-adds (Units.GIGABYTES): 4.18\n",
       "==========================================================================================\n",
       "Input size (MB): 6.42\n",
       "Forward/backward pass size (MB): 359.69\n",
       "Params size (MB): 25.78\n",
       "Estimated Total Size (MB): 391.90\n",
       "=========================================================================================="
      ]
     },
     "execution_count": 5,
     "metadata": {},
     "output_type": "execute_result"
    }
   ],
   "source": [
    "model_dropout = simplecnn.get_simplecnn(img_size,n_channels,use_batchnorm=False, use_dropout=True,dropout_prob=0.5)\n",
    "\n",
    "# loss function\n",
    "loss_function = torch.nn.BCEWithLogitsLoss()\n",
    "\n",
    "#optimizer\n",
    "optimizer = torch.optim.Adam(model_dropout.parameters(), lr=learning_rate)\n",
    "\n",
    "# print the model summary\n",
    "summary(model_dropout,input_size=[batch_size,n_channels,img_size,img_size])\n"
   ]
  },
  {
   "cell_type": "markdown",
   "id": "a5c62529",
   "metadata": {},
   "source": [
    "### Train the model"
   ]
  },
  {
   "cell_type": "code",
   "execution_count": 6,
   "id": "58ab87e9",
   "metadata": {},
   "outputs": [
    {
     "name": "stdout",
     "output_type": "stream",
     "text": [
      " Epoch 1 / 10:\n"
     ]
    },
    {
     "name": "stderr",
     "output_type": "stream",
     "text": [
      "Training: 100%|██████████| 163/163 [04:55<00:00,  1.81s/it]\n"
     ]
    },
    {
     "name": "stdout",
     "output_type": "stream",
     "text": [
      "  Average train loss:0.297850  \n",
      " Accuracy on the train dataset: 87.10%\n"
     ]
    },
    {
     "name": "stderr",
     "output_type": "stream",
     "text": [
      "Validation: 100%|██████████| 20/20 [00:14<00:00,  1.35it/s]\n"
     ]
    },
    {
     "name": "stdout",
     "output_type": "stream",
     "text": [
      "  Average val loss:0.357788  \n",
      " Accuracy on the validation dataset: 85.26%\n",
      " Epoch 2 / 10:\n"
     ]
    },
    {
     "name": "stderr",
     "output_type": "stream",
     "text": [
      "Training: 100%|██████████| 163/163 [04:38<00:00,  1.71s/it]\n"
     ]
    },
    {
     "name": "stdout",
     "output_type": "stream",
     "text": [
      "  Average train loss:0.182811  \n",
      " Accuracy on the train dataset: 92.87%\n"
     ]
    },
    {
     "name": "stderr",
     "output_type": "stream",
     "text": [
      "Validation: 100%|██████████| 20/20 [00:14<00:00,  1.37it/s]\n"
     ]
    },
    {
     "name": "stdout",
     "output_type": "stream",
     "text": [
      "  Average val loss:0.338020  \n",
      " Accuracy on the validation dataset: 87.82%\n",
      " Epoch 3 / 10:\n"
     ]
    },
    {
     "name": "stderr",
     "output_type": "stream",
     "text": [
      "Training: 100%|██████████| 163/163 [04:41<00:00,  1.73s/it]\n"
     ]
    },
    {
     "name": "stdout",
     "output_type": "stream",
     "text": [
      "  Average train loss:0.148951  \n",
      " Accuracy on the train dataset: 94.17%\n"
     ]
    },
    {
     "name": "stderr",
     "output_type": "stream",
     "text": [
      "Validation: 100%|██████████| 20/20 [00:14<00:00,  1.36it/s]\n"
     ]
    },
    {
     "name": "stdout",
     "output_type": "stream",
     "text": [
      "  Average val loss:0.467330  \n",
      " Accuracy on the validation dataset: 83.65%\n",
      " Epoch 4 / 10:\n"
     ]
    },
    {
     "name": "stderr",
     "output_type": "stream",
     "text": [
      "Training: 100%|██████████| 163/163 [04:38<00:00,  1.71s/it]\n"
     ]
    },
    {
     "name": "stdout",
     "output_type": "stream",
     "text": [
      "  Average train loss:0.137932  \n",
      " Accuracy on the train dataset: 94.71%\n"
     ]
    },
    {
     "name": "stderr",
     "output_type": "stream",
     "text": [
      "Validation: 100%|██████████| 20/20 [00:14<00:00,  1.36it/s]\n"
     ]
    },
    {
     "name": "stdout",
     "output_type": "stream",
     "text": [
      "  Average val loss:0.324203  \n",
      " Accuracy on the validation dataset: 86.06%\n",
      " Epoch 5 / 10:\n"
     ]
    },
    {
     "name": "stderr",
     "output_type": "stream",
     "text": [
      "Training: 100%|██████████| 163/163 [04:42<00:00,  1.73s/it]\n"
     ]
    },
    {
     "name": "stdout",
     "output_type": "stream",
     "text": [
      "  Average train loss:0.132783  \n",
      " Accuracy on the train dataset: 95.13%\n"
     ]
    },
    {
     "name": "stderr",
     "output_type": "stream",
     "text": [
      "Validation: 100%|██████████| 20/20 [00:14<00:00,  1.35it/s]\n"
     ]
    },
    {
     "name": "stdout",
     "output_type": "stream",
     "text": [
      "  Average val loss:0.274360  \n",
      " Accuracy on the validation dataset: 87.82%\n",
      " Epoch 6 / 10:\n"
     ]
    },
    {
     "name": "stderr",
     "output_type": "stream",
     "text": [
      "Training: 100%|██████████| 163/163 [04:43<00:00,  1.74s/it]\n"
     ]
    },
    {
     "name": "stdout",
     "output_type": "stream",
     "text": [
      "  Average train loss:0.109420  \n",
      " Accuracy on the train dataset: 96.18%\n"
     ]
    },
    {
     "name": "stderr",
     "output_type": "stream",
     "text": [
      "Validation: 100%|██████████| 20/20 [00:14<00:00,  1.36it/s]\n"
     ]
    },
    {
     "name": "stdout",
     "output_type": "stream",
     "text": [
      "  Average val loss:0.292320  \n",
      " Accuracy on the validation dataset: 89.10%\n",
      " Epoch 7 / 10:\n"
     ]
    },
    {
     "name": "stderr",
     "output_type": "stream",
     "text": [
      "Training: 100%|██████████| 163/163 [04:42<00:00,  1.73s/it]\n"
     ]
    },
    {
     "name": "stdout",
     "output_type": "stream",
     "text": [
      "  Average train loss:0.113339  \n",
      " Accuracy on the train dataset: 96.01%\n"
     ]
    },
    {
     "name": "stderr",
     "output_type": "stream",
     "text": [
      "Validation: 100%|██████████| 20/20 [00:14<00:00,  1.36it/s]\n"
     ]
    },
    {
     "name": "stdout",
     "output_type": "stream",
     "text": [
      "  Average val loss:0.368839  \n",
      " Accuracy on the validation dataset: 86.70%\n",
      " Epoch 8 / 10:\n"
     ]
    },
    {
     "name": "stderr",
     "output_type": "stream",
     "text": [
      "Training: 100%|██████████| 163/163 [04:39<00:00,  1.72s/it]\n"
     ]
    },
    {
     "name": "stdout",
     "output_type": "stream",
     "text": [
      "  Average train loss:0.101177  \n",
      " Accuracy on the train dataset: 96.40%\n"
     ]
    },
    {
     "name": "stderr",
     "output_type": "stream",
     "text": [
      "Validation: 100%|██████████| 20/20 [00:14<00:00,  1.35it/s]\n"
     ]
    },
    {
     "name": "stdout",
     "output_type": "stream",
     "text": [
      "  Average val loss:0.340245  \n",
      " Accuracy on the validation dataset: 88.46%\n",
      " Epoch 9 / 10:\n"
     ]
    },
    {
     "name": "stderr",
     "output_type": "stream",
     "text": [
      "Training: 100%|██████████| 163/163 [04:41<00:00,  1.73s/it]\n"
     ]
    },
    {
     "name": "stdout",
     "output_type": "stream",
     "text": [
      "  Average train loss:0.112094  \n",
      " Accuracy on the train dataset: 96.13%\n"
     ]
    },
    {
     "name": "stderr",
     "output_type": "stream",
     "text": [
      "Validation: 100%|██████████| 20/20 [00:14<00:00,  1.35it/s]\n"
     ]
    },
    {
     "name": "stdout",
     "output_type": "stream",
     "text": [
      "  Average val loss:0.356199  \n",
      " Accuracy on the validation dataset: 87.18%\n",
      " Epoch 10 / 10:\n"
     ]
    },
    {
     "name": "stderr",
     "output_type": "stream",
     "text": [
      "Training: 100%|██████████| 163/163 [04:39<00:00,  1.71s/it]\n"
     ]
    },
    {
     "name": "stdout",
     "output_type": "stream",
     "text": [
      "  Average train loss:0.096818  \n",
      " Accuracy on the train dataset: 96.89%\n"
     ]
    },
    {
     "name": "stderr",
     "output_type": "stream",
     "text": [
      "Validation: 100%|██████████| 20/20 [00:14<00:00,  1.37it/s]"
     ]
    },
    {
     "name": "stdout",
     "output_type": "stream",
     "text": [
      "  Average val loss:0.355299  \n",
      " Accuracy on the validation dataset: 86.22%\n",
      "Done!\n"
     ]
    },
    {
     "name": "stderr",
     "output_type": "stream",
     "text": [
      "\n"
     ]
    }
   ],
   "source": [
    "metrics_history = train_model(model_dropout,balanced_train_dataloader,test_dataloader,optimizer, loss_function,device,epochs)"
   ]
  },
  {
   "cell_type": "markdown",
   "id": "2071ae51",
   "metadata": {},
   "source": [
    "### Save the model"
   ]
  },
  {
   "cell_type": "code",
   "execution_count": 7,
   "id": "f6c73d01",
   "metadata": {},
   "outputs": [],
   "source": [
    "torch.save(model_dropout,'../models/simplecnn_dropout_10ep.pth')"
   ]
  },
  {
   "cell_type": "markdown",
   "id": "7c65c3e8",
   "metadata": {},
   "source": [
    "### Results"
   ]
  },
  {
   "cell_type": "code",
   "execution_count": 8,
   "id": "720c6d3b",
   "metadata": {},
   "outputs": [
    {
     "name": "stderr",
     "output_type": "stream",
     "text": [
      "Validation: 100%|██████████| 20/20 [00:22<00:00,  1.12s/it]\n"
     ]
    },
    {
     "name": "stdout",
     "output_type": "stream",
     "text": [
      "Accuracy on the test set: 86.22%\n",
      "Precision: 0.83, Recall: 0.98, F1 score: 0.90, AUC: 0.82\n",
      "classification_report :              precision    recall  f1-score   support\n",
      "\n",
      "           0       0.95      0.67      0.78       234\n",
      "           1       0.83      0.98      0.90       390\n",
      "\n",
      "    accuracy                           0.86       624\n",
      "   macro avg       0.89      0.82      0.84       624\n",
      "weighted avg       0.88      0.86      0.86       624\n",
      "\n"
     ]
    },
    {
     "data": {
      "image/png": "[encoded data removed]",
      "text/plain": [
       "<Figure size 640x480 with 2 Axes>"
      ]
     },
     "metadata": {},
     "output_type": "display_data"
    },
    {
     "data": {
      "image/png": "[encoded data removed]",
      "text/plain": [
       "<Figure size 640x480 with 2 Axes>"
      ]
     },
     "metadata": {},
     "output_type": "display_data"
    }
   ],
   "source": [
    "plot_learningcurve(metrics_history)\n",
    "\n",
    "eval_metrics = evaluate_model(model_dropout, test_dataloader, loss_function, device=\"cpu\")\n",
    "       \n",
    "    \n",
    "print(f\"Accuracy on the test set: {eval_metrics['accuracy']:.2%}\")\n",
    "\n",
    "print(f\"Precision: {eval_metrics['precision']:.2f}, Recall: {eval_metrics['recall']:.2f}, F1 score: {eval_metrics['f1']:.2f}, AUC: {eval_metrics['auc']:.2f}\")\n",
    "\n",
    "print(f'classification_report :{eval_metrics['classification report']}')\n",
    "# Calculate the confusion matrix using the true labels and predicision for the complete test set\n",
    "plot_confusionmatrix(eval_metrics['confusion matrix'])\n"
   ]
  },
  {
   "cell_type": "markdown",
   "id": "b7023971",
   "metadata": {},
   "source": [
    "## 3. Add batch normalization\n",
    "Deep networks can experience internal convariance shift. This means that the distribution of inputs to each layer changes during training, which forces the network to constantly adapt, and this can slow down training. Batch normalization normalizes the inputs to each layer, which ensures a more stable and faster convergence. Batchnormalization works best when it is placed after a convulutional layer but before the activation function. This allows the network to stabilize its inputs while still allowing the non-linear transformation to take place effectively.\n",
    "Let's see if batchnormalization can improve our relatively simple model!\n",
    "\n",
    "### Model setup"
   ]
  },
  {
   "cell_type": "code",
   "execution_count": null,
   "id": "f78e6d2b",
   "metadata": {},
   "outputs": [
    {
     "data": {
      "text/plain": [
       "==========================================================================================\n",
       "Layer (type:depth-idx)                   Output Shape              Param #\n",
       "==========================================================================================\n",
       "SimpleCNN                                [32, 1]                   --\n",
       "├─Sequential: 1-1                        [32, 64, 28, 28]          --\n",
       "│    └─Sequential: 2-1                   [32, 16, 112, 112]        --\n",
       "│    │    └─Conv2d: 3-1                  [32, 16, 224, 224]        160\n",
       "│    │    └─BatchNorm2d: 3-2             [32, 16, 224, 224]        32\n",
       "│    │    └─ReLU: 3-3                    [32, 16, 224, 224]        --\n",
       "│    │    └─MaxPool2d: 3-4               [32, 16, 112, 112]        --\n",
       "│    └─Sequential: 2-2                   [32, 32, 56, 56]          --\n",
       "│    │    └─Conv2d: 3-5                  [32, 32, 112, 112]        4,640\n",
       "│    │    └─BatchNorm2d: 3-6             [32, 32, 112, 112]        64\n",
       "│    │    └─ReLU: 3-7                    [32, 32, 112, 112]        --\n",
       "│    │    └─MaxPool2d: 3-8               [32, 32, 56, 56]          --\n",
       "│    └─Sequential: 2-3                   [32, 64, 28, 28]          --\n",
       "│    │    └─Conv2d: 3-9                  [32, 64, 56, 56]          18,496\n",
       "│    │    └─BatchNorm2d: 3-10            [32, 64, 56, 56]          128\n",
       "│    │    └─ReLU: 3-11                   [32, 64, 56, 56]          --\n",
       "│    │    └─MaxPool2d: 3-12              [32, 64, 28, 28]          --\n",
       "├─Sequential: 1-2                        [32, 1]                   --\n",
       "│    └─Flatten: 2-4                      [32, 50176]               --\n",
       "│    └─Dropout: 2-5                      [32, 50176]               --\n",
       "│    └─Linear: 2-6                       [32, 128]                 6,422,656\n",
       "│    └─ReLU: 2-7                         [32, 128]                 --\n",
       "│    └─Dropout: 2-8                      [32, 128]                 --\n",
       "│    └─Linear: 2-9                       [32, 1]                   129\n",
       "==========================================================================================\n",
       "Total params: 6,446,305\n",
       "Trainable params: 6,446,305\n",
       "Non-trainable params: 0\n",
       "Total mult-adds (Units.GIGABYTES): 4.18\n",
       "==========================================================================================\n",
       "Input size (MB): 6.42\n",
       "Forward/backward pass size (MB): 719.36\n",
       "Params size (MB): 25.79\n",
       "Estimated Total Size (MB): 751.56\n",
       "=========================================================================================="
      ]
     },
     "execution_count": 10,
     "metadata": {},
     "output_type": "execute_result"
    }
   ],
   "source": [
    "model_batchnorm = simplecnn.get_simplecnn(img_size,n_channels,use_batchnorm=True, use_dropout=True,dropout_prob=0.5)\n",
    "\n",
    "# loss function\n",
    "loss_function = torch.nn.BCEWithLogitsLoss()\n",
    "\n",
    "#optimizer\n",
    "optimizer = torch.optim.Adam(model_batchnorm.parameters(), lr=learning_rate)\n",
    "\n",
    "# print the model summary\n",
    "summary(model_batchnorm,input_size=[batch_size,n_channels,img_size,img_size])\n"
   ]
  },
  {
   "cell_type": "markdown",
   "id": "57330ab5",
   "metadata": {},
   "source": [
    "### Train the model\n"
   ]
  },
  {
   "cell_type": "code",
   "execution_count": 11,
   "id": "735a3c6c",
   "metadata": {},
   "outputs": [
    {
     "name": "stdout",
     "output_type": "stream",
     "text": [
      " Epoch 1 / 10:\n"
     ]
    },
    {
     "name": "stderr",
     "output_type": "stream",
     "text": [
      "Training: 100%|██████████| 163/163 [06:01<00:00,  2.22s/it]\n"
     ]
    },
    {
     "name": "stdout",
     "output_type": "stream",
     "text": [
      "  Average train loss:0.597902  \n",
      " Accuracy on the train dataset: 87.62%\n"
     ]
    },
    {
     "name": "stderr",
     "output_type": "stream",
     "text": [
      "Validation: 100%|██████████| 20/20 [00:17<00:00,  1.17it/s]\n"
     ]
    },
    {
     "name": "stdout",
     "output_type": "stream",
     "text": [
      "  Average val loss:0.316630  \n",
      " Accuracy on the validation dataset: 87.02%\n",
      " Epoch 2 / 10:\n"
     ]
    },
    {
     "name": "stderr",
     "output_type": "stream",
     "text": [
      "Training: 100%|██████████| 163/163 [05:35<00:00,  2.06s/it]\n"
     ]
    },
    {
     "name": "stdout",
     "output_type": "stream",
     "text": [
      "  Average train loss:0.199159  \n",
      " Accuracy on the train dataset: 92.64%\n"
     ]
    },
    {
     "name": "stderr",
     "output_type": "stream",
     "text": [
      "Validation: 100%|██████████| 20/20 [00:15<00:00,  1.27it/s]\n"
     ]
    },
    {
     "name": "stdout",
     "output_type": "stream",
     "text": [
      "  Average val loss:0.305874  \n",
      " Accuracy on the validation dataset: 87.02%\n",
      " Epoch 3 / 10:\n"
     ]
    },
    {
     "name": "stderr",
     "output_type": "stream",
     "text": [
      "Training: 100%|██████████| 163/163 [05:26<00:00,  2.00s/it]\n"
     ]
    },
    {
     "name": "stdout",
     "output_type": "stream",
     "text": [
      "  Average train loss:0.175536  \n",
      " Accuracy on the train dataset: 93.87%\n"
     ]
    },
    {
     "name": "stderr",
     "output_type": "stream",
     "text": [
      "Validation: 100%|██████████| 20/20 [00:15<00:00,  1.26it/s]\n"
     ]
    },
    {
     "name": "stdout",
     "output_type": "stream",
     "text": [
      "  Average val loss:0.290171  \n",
      " Accuracy on the validation dataset: 87.34%\n",
      " Epoch 4 / 10:\n"
     ]
    },
    {
     "name": "stderr",
     "output_type": "stream",
     "text": [
      "Training: 100%|██████████| 163/163 [05:22<00:00,  1.98s/it]\n"
     ]
    },
    {
     "name": "stdout",
     "output_type": "stream",
     "text": [
      "  Average train loss:0.158174  \n",
      " Accuracy on the train dataset: 94.56%\n"
     ]
    },
    {
     "name": "stderr",
     "output_type": "stream",
     "text": [
      "Validation: 100%|██████████| 20/20 [00:15<00:00,  1.30it/s]\n"
     ]
    },
    {
     "name": "stdout",
     "output_type": "stream",
     "text": [
      "  Average val loss:0.470244  \n",
      " Accuracy on the validation dataset: 83.97%\n",
      " Epoch 5 / 10:\n"
     ]
    },
    {
     "name": "stderr",
     "output_type": "stream",
     "text": [
      "Training: 100%|██████████| 163/163 [05:15<00:00,  1.93s/it]\n"
     ]
    },
    {
     "name": "stdout",
     "output_type": "stream",
     "text": [
      "  Average train loss:0.164724  \n",
      " Accuracy on the train dataset: 93.94%\n"
     ]
    },
    {
     "name": "stderr",
     "output_type": "stream",
     "text": [
      "Validation: 100%|██████████| 20/20 [00:16<00:00,  1.20it/s]\n"
     ]
    },
    {
     "name": "stdout",
     "output_type": "stream",
     "text": [
      "  Average val loss:0.341271  \n",
      " Accuracy on the validation dataset: 88.94%\n",
      " Epoch 6 / 10:\n"
     ]
    },
    {
     "name": "stderr",
     "output_type": "stream",
     "text": [
      "Training: 100%|██████████| 163/163 [05:15<00:00,  1.94s/it]\n"
     ]
    },
    {
     "name": "stdout",
     "output_type": "stream",
     "text": [
      "  Average train loss:0.158157  \n",
      " Accuracy on the train dataset: 94.31%\n"
     ]
    },
    {
     "name": "stderr",
     "output_type": "stream",
     "text": [
      "Validation: 100%|██████████| 20/20 [00:15<00:00,  1.32it/s]\n"
     ]
    },
    {
     "name": "stdout",
     "output_type": "stream",
     "text": [
      "  Average val loss:0.303509  \n",
      " Accuracy on the validation dataset: 87.18%\n",
      " Epoch 7 / 10:\n"
     ]
    },
    {
     "name": "stderr",
     "output_type": "stream",
     "text": [
      "Training: 100%|██████████| 163/163 [05:11<00:00,  1.91s/it]\n"
     ]
    },
    {
     "name": "stdout",
     "output_type": "stream",
     "text": [
      "  Average train loss:0.146509  \n",
      " Accuracy on the train dataset: 94.56%\n"
     ]
    },
    {
     "name": "stderr",
     "output_type": "stream",
     "text": [
      "Validation: 100%|██████████| 20/20 [00:14<00:00,  1.35it/s]\n"
     ]
    },
    {
     "name": "stdout",
     "output_type": "stream",
     "text": [
      "  Average val loss:0.331946  \n",
      " Accuracy on the validation dataset: 88.14%\n",
      " Epoch 8 / 10:\n"
     ]
    },
    {
     "name": "stderr",
     "output_type": "stream",
     "text": [
      "Training: 100%|██████████| 163/163 [05:13<00:00,  1.93s/it]\n"
     ]
    },
    {
     "name": "stdout",
     "output_type": "stream",
     "text": [
      "  Average train loss:0.139239  \n",
      " Accuracy on the train dataset: 95.05%\n"
     ]
    },
    {
     "name": "stderr",
     "output_type": "stream",
     "text": [
      "Validation: 100%|██████████| 20/20 [00:15<00:00,  1.30it/s]\n"
     ]
    },
    {
     "name": "stdout",
     "output_type": "stream",
     "text": [
      "  Average val loss:0.349952  \n",
      " Accuracy on the validation dataset: 88.94%\n",
      " Epoch 9 / 10:\n"
     ]
    },
    {
     "name": "stderr",
     "output_type": "stream",
     "text": [
      "Training: 100%|██████████| 163/163 [05:21<00:00,  1.98s/it]\n"
     ]
    },
    {
     "name": "stdout",
     "output_type": "stream",
     "text": [
      "  Average train loss:0.138782  \n",
      " Accuracy on the train dataset: 94.98%\n"
     ]
    },
    {
     "name": "stderr",
     "output_type": "stream",
     "text": [
      "Validation: 100%|██████████| 20/20 [00:16<00:00,  1.23it/s]\n"
     ]
    },
    {
     "name": "stdout",
     "output_type": "stream",
     "text": [
      "  Average val loss:0.376468  \n",
      " Accuracy on the validation dataset: 87.02%\n",
      " Epoch 10 / 10:\n"
     ]
    },
    {
     "name": "stderr",
     "output_type": "stream",
     "text": [
      "Training: 100%|██████████| 163/163 [05:15<00:00,  1.93s/it]\n"
     ]
    },
    {
     "name": "stdout",
     "output_type": "stream",
     "text": [
      "  Average train loss:0.147940  \n",
      " Accuracy on the train dataset: 95.00%\n"
     ]
    },
    {
     "name": "stderr",
     "output_type": "stream",
     "text": [
      "Validation: 100%|██████████| 20/20 [00:15<00:00,  1.29it/s]"
     ]
    },
    {
     "name": "stdout",
     "output_type": "stream",
     "text": [
      "  Average val loss:0.343603  \n",
      " Accuracy on the validation dataset: 88.14%\n",
      "Done!\n"
     ]
    },
    {
     "name": "stderr",
     "output_type": "stream",
     "text": [
      "\n"
     ]
    }
   ],
   "source": [
    "metrics_history = train_model(model_batchnorm,balanced_train_dataloader,test_dataloader,optimizer, loss_function,device,epochs)"
   ]
  },
  {
   "cell_type": "markdown",
   "id": "4dbc3ea6",
   "metadata": {},
   "source": [
    "### Save the model"
   ]
  },
  {
   "cell_type": "code",
   "execution_count": 12,
   "id": "3d1dc1c2",
   "metadata": {},
   "outputs": [],
   "source": [
    "torch.save(model_batchnorm,'../models/simplecnn_batchnorm_10ep.pth')"
   ]
  },
  {
   "cell_type": "markdown",
   "id": "68cd97b2",
   "metadata": {},
   "source": [
    "### Results"
   ]
  },
  {
   "cell_type": "code",
   "execution_count": 13,
   "id": "2141ac41",
   "metadata": {},
   "outputs": [
    {
     "name": "stderr",
     "output_type": "stream",
     "text": [
      "Validation: 100%|██████████| 20/20 [00:15<00:00,  1.30it/s]\n"
     ]
    },
    {
     "name": "stdout",
     "output_type": "stream",
     "text": [
      "Accuracy on the test set: 88.14%\n",
      "Precision: 0.87, Recall: 0.96, F1 score: 0.91, AUC: 0.86\n",
      "classification_report :              precision    recall  f1-score   support\n",
      "\n",
      "           0       0.92      0.75      0.83       234\n",
      "           1       0.87      0.96      0.91       390\n",
      "\n",
      "    accuracy                           0.88       624\n",
      "   macro avg       0.89      0.86      0.87       624\n",
      "weighted avg       0.88      0.88      0.88       624\n",
      "\n"
     ]
    },
    {
     "data": {
      "image/png": "[encoded data removed]",
      "text/plain": [
       "<Figure size 640x480 with 2 Axes>"
      ]
     },
     "metadata": {},
     "output_type": "display_data"
    },
    {
     "data": {
      "image/png": "[encoded data removed]",
      "text/plain": [
       "<Figure size 640x480 with 2 Axes>"
      ]
     },
     "metadata": {},
     "output_type": "display_data"
    }
   ],
   "source": [
    "plot_learningcurve(metrics_history)\n",
    "\n",
    "eval_metrics = evaluate_model(model_batchnorm, test_dataloader, loss_function, device=\"cpu\")\n",
    "       \n",
    "    \n",
    "print(f\"Accuracy on the test set: {eval_metrics['accuracy']:.2%}\")\n",
    "\n",
    "print(f\"Precision: {eval_metrics['precision']:.2f}, Recall: {eval_metrics['recall']:.2f}, F1 score: {eval_metrics['f1']:.2f}, AUC: {eval_metrics['auc']:.2f}\")\n",
    "\n",
    "print(f'classification_report :{eval_metrics['classification report']}')\n",
    "# Calculate the confusion matrix using the true labels and predicision for the complete test set\n",
    "plot_confusionmatrix(eval_metrics['confusion matrix'])"
   ]
  },
  {
   "cell_type": "markdown",
   "id": "bfd029a2",
   "metadata": {},
   "source": [
    "## 4. Add weight decay (L2)\n",
    "This penalizes larger weights in the model, thereby applying regularization. Weight decay is implemented via the weight_decay parameter in the optimizer\n",
    "### model setup"
   ]
  },
  {
   "cell_type": "code",
   "execution_count": null,
   "id": "4dbab128",
   "metadata": {},
   "outputs": [
    {
     "data": {
      "text/plain": [
       "==========================================================================================\n",
       "Layer (type:depth-idx)                   Output Shape              Param #\n",
       "==========================================================================================\n",
       "SimpleCNN                                [32, 1]                   --\n",
       "├─Sequential: 1-1                        [32, 64, 28, 28]          --\n",
       "│    └─Sequential: 2-1                   [32, 16, 112, 112]        --\n",
       "│    │    └─Conv2d: 3-1                  [32, 16, 224, 224]        160\n",
       "│    │    └─BatchNorm2d: 3-2             [32, 16, 224, 224]        32\n",
       "│    │    └─ReLU: 3-3                    [32, 16, 224, 224]        --\n",
       "│    │    └─MaxPool2d: 3-4               [32, 16, 112, 112]        --\n",
       "│    └─Sequential: 2-2                   [32, 32, 56, 56]          --\n",
       "│    │    └─Conv2d: 3-5                  [32, 32, 112, 112]        4,640\n",
       "│    │    └─BatchNorm2d: 3-6             [32, 32, 112, 112]        64\n",
       "│    │    └─ReLU: 3-7                    [32, 32, 112, 112]        --\n",
       "│    │    └─MaxPool2d: 3-8               [32, 32, 56, 56]          --\n",
       "│    └─Sequential: 2-3                   [32, 64, 28, 28]          --\n",
       "│    │    └─Conv2d: 3-9                  [32, 64, 56, 56]          18,496\n",
       "│    │    └─BatchNorm2d: 3-10            [32, 64, 56, 56]          128\n",
       "│    │    └─ReLU: 3-11                   [32, 64, 56, 56]          --\n",
       "│    │    └─MaxPool2d: 3-12              [32, 64, 28, 28]          --\n",
       "├─Sequential: 1-2                        [32, 1]                   --\n",
       "│    └─Flatten: 2-4                      [32, 50176]               --\n",
       "│    └─Dropout: 2-5                      [32, 50176]               --\n",
       "│    └─Linear: 2-6                       [32, 128]                 6,422,656\n",
       "│    └─ReLU: 2-7                         [32, 128]                 --\n",
       "│    └─Dropout: 2-8                      [32, 128]                 --\n",
       "│    └─Linear: 2-9                       [32, 1]                   129\n",
       "==========================================================================================\n",
       "Total params: 6,446,305\n",
       "Trainable params: 6,446,305\n",
       "Non-trainable params: 0\n",
       "Total mult-adds (Units.GIGABYTES): 4.18\n",
       "==========================================================================================\n",
       "Input size (MB): 6.42\n",
       "Forward/backward pass size (MB): 719.36\n",
       "Params size (MB): 25.79\n",
       "Estimated Total Size (MB): 751.56\n",
       "=========================================================================================="
      ]
     },
     "execution_count": 14,
     "metadata": {},
     "output_type": "execute_result"
    }
   ],
   "source": [
    "### model setup\n",
    "model_weightdecay = simplecnn.get_simplecnn(img_size,n_channels,use_batchnorm=True, use_dropout=True,dropout_prob=0.5)\n",
    "\n",
    "# loss function\n",
    "loss_function = torch.nn.BCEWithLogitsLoss()\n",
    "\n",
    "#optimizer with weight decay\n",
    "optimizer = torch.optim.Adam(model_weightdecay.parameters(), lr=learning_rate,weight_decay=1e-4)\n",
    "\n",
    "# print the model summary\n",
    "summary(model_weightdecay,input_size=[batch_size,n_channels,img_size,img_size])"
   ]
  },
  {
   "cell_type": "code",
   "execution_count": 15,
   "id": "994df096",
   "metadata": {},
   "outputs": [
    {
     "name": "stdout",
     "output_type": "stream",
     "text": [
      " Epoch 1 / 10:\n"
     ]
    },
    {
     "name": "stderr",
     "output_type": "stream",
     "text": [
      "Training: 100%|██████████| 163/163 [05:11<00:00,  1.91s/it]\n"
     ]
    },
    {
     "name": "stdout",
     "output_type": "stream",
     "text": [
      "  Average train loss:0.640183  \n",
      " Accuracy on the train dataset: 85.93%\n"
     ]
    },
    {
     "name": "stderr",
     "output_type": "stream",
     "text": [
      "Validation: 100%|██████████| 20/20 [00:15<00:00,  1.28it/s]\n"
     ]
    },
    {
     "name": "stdout",
     "output_type": "stream",
     "text": [
      "  Average val loss:0.313225  \n",
      " Accuracy on the validation dataset: 88.30%\n",
      " Epoch 2 / 10:\n"
     ]
    },
    {
     "name": "stderr",
     "output_type": "stream",
     "text": [
      "Training: 100%|██████████| 163/163 [05:13<00:00,  1.92s/it]\n"
     ]
    },
    {
     "name": "stdout",
     "output_type": "stream",
     "text": [
      "  Average train loss:0.206211  \n",
      " Accuracy on the train dataset: 92.54%\n"
     ]
    },
    {
     "name": "stderr",
     "output_type": "stream",
     "text": [
      "Validation: 100%|██████████| 20/20 [00:15<00:00,  1.26it/s]\n"
     ]
    },
    {
     "name": "stdout",
     "output_type": "stream",
     "text": [
      "  Average val loss:0.287036  \n",
      " Accuracy on the validation dataset: 87.66%\n",
      " Epoch 3 / 10:\n"
     ]
    },
    {
     "name": "stderr",
     "output_type": "stream",
     "text": [
      "Training: 100%|██████████| 163/163 [05:17<00:00,  1.95s/it]\n"
     ]
    },
    {
     "name": "stdout",
     "output_type": "stream",
     "text": [
      "  Average train loss:0.188974  \n",
      " Accuracy on the train dataset: 93.35%\n"
     ]
    },
    {
     "name": "stderr",
     "output_type": "stream",
     "text": [
      "Validation: 100%|██████████| 20/20 [00:16<00:00,  1.22it/s]\n"
     ]
    },
    {
     "name": "stdout",
     "output_type": "stream",
     "text": [
      "  Average val loss:0.308531  \n",
      " Accuracy on the validation dataset: 88.30%\n",
      " Epoch 4 / 10:\n"
     ]
    },
    {
     "name": "stderr",
     "output_type": "stream",
     "text": [
      "Training: 100%|██████████| 163/163 [05:15<00:00,  1.94s/it]\n"
     ]
    },
    {
     "name": "stdout",
     "output_type": "stream",
     "text": [
      "  Average train loss:0.173691  \n",
      " Accuracy on the train dataset: 93.50%\n"
     ]
    },
    {
     "name": "stderr",
     "output_type": "stream",
     "text": [
      "Validation: 100%|██████████| 20/20 [00:16<00:00,  1.18it/s]\n"
     ]
    },
    {
     "name": "stdout",
     "output_type": "stream",
     "text": [
      "  Average val loss:0.282199  \n",
      " Accuracy on the validation dataset: 89.10%\n",
      " Epoch 5 / 10:\n"
     ]
    },
    {
     "name": "stderr",
     "output_type": "stream",
     "text": [
      "Training: 100%|██████████| 163/163 [05:48<00:00,  2.14s/it]\n"
     ]
    },
    {
     "name": "stdout",
     "output_type": "stream",
     "text": [
      "  Average train loss:0.141948  \n",
      " Accuracy on the train dataset: 95.07%\n"
     ]
    },
    {
     "name": "stderr",
     "output_type": "stream",
     "text": [
      "Validation: 100%|██████████| 20/20 [00:20<00:00,  1.02s/it]\n"
     ]
    },
    {
     "name": "stdout",
     "output_type": "stream",
     "text": [
      "  Average val loss:0.339773  \n",
      " Accuracy on the validation dataset: 87.66%\n",
      " Epoch 6 / 10:\n"
     ]
    },
    {
     "name": "stderr",
     "output_type": "stream",
     "text": [
      "Training: 100%|██████████| 163/163 [05:09<00:00,  1.90s/it]\n"
     ]
    },
    {
     "name": "stdout",
     "output_type": "stream",
     "text": [
      "  Average train loss:0.146260  \n",
      " Accuracy on the train dataset: 94.80%\n"
     ]
    },
    {
     "name": "stderr",
     "output_type": "stream",
     "text": [
      "Validation: 100%|██████████| 20/20 [00:16<00:00,  1.23it/s]\n"
     ]
    },
    {
     "name": "stdout",
     "output_type": "stream",
     "text": [
      "  Average val loss:0.299390  \n",
      " Accuracy on the validation dataset: 87.34%\n",
      " Epoch 7 / 10:\n"
     ]
    },
    {
     "name": "stderr",
     "output_type": "stream",
     "text": [
      "Training: 100%|██████████| 163/163 [05:15<00:00,  1.94s/it]\n"
     ]
    },
    {
     "name": "stdout",
     "output_type": "stream",
     "text": [
      "  Average train loss:0.132617  \n",
      " Accuracy on the train dataset: 94.86%\n"
     ]
    },
    {
     "name": "stderr",
     "output_type": "stream",
     "text": [
      "Validation: 100%|██████████| 20/20 [00:15<00:00,  1.32it/s]\n"
     ]
    },
    {
     "name": "stdout",
     "output_type": "stream",
     "text": [
      "  Average val loss:0.395906  \n",
      " Accuracy on the validation dataset: 86.22%\n",
      " Epoch 8 / 10:\n"
     ]
    },
    {
     "name": "stderr",
     "output_type": "stream",
     "text": [
      "Training: 100%|██████████| 163/163 [05:17<00:00,  1.95s/it]\n"
     ]
    },
    {
     "name": "stdout",
     "output_type": "stream",
     "text": [
      "  Average train loss:0.125905  \n",
      " Accuracy on the train dataset: 95.19%\n"
     ]
    },
    {
     "name": "stderr",
     "output_type": "stream",
     "text": [
      "Validation: 100%|██████████| 20/20 [00:16<00:00,  1.21it/s]\n"
     ]
    },
    {
     "name": "stdout",
     "output_type": "stream",
     "text": [
      "  Average val loss:0.299866  \n",
      " Accuracy on the validation dataset: 88.46%\n",
      " Epoch 9 / 10:\n"
     ]
    },
    {
     "name": "stderr",
     "output_type": "stream",
     "text": [
      "Training: 100%|██████████| 163/163 [05:16<00:00,  1.94s/it]\n"
     ]
    },
    {
     "name": "stdout",
     "output_type": "stream",
     "text": [
      "  Average train loss:0.147819  \n",
      " Accuracy on the train dataset: 94.40%\n"
     ]
    },
    {
     "name": "stderr",
     "output_type": "stream",
     "text": [
      "Validation: 100%|██████████| 20/20 [00:16<00:00,  1.24it/s]\n"
     ]
    },
    {
     "name": "stdout",
     "output_type": "stream",
     "text": [
      "  Average val loss:0.298815  \n",
      " Accuracy on the validation dataset: 86.86%\n",
      " Epoch 10 / 10:\n"
     ]
    },
    {
     "name": "stderr",
     "output_type": "stream",
     "text": [
      "Training: 100%|██████████| 163/163 [05:17<00:00,  1.95s/it]\n"
     ]
    },
    {
     "name": "stdout",
     "output_type": "stream",
     "text": [
      "  Average train loss:0.144101  \n",
      " Accuracy on the train dataset: 95.09%\n"
     ]
    },
    {
     "name": "stderr",
     "output_type": "stream",
     "text": [
      "Validation: 100%|██████████| 20/20 [00:16<00:00,  1.24it/s]"
     ]
    },
    {
     "name": "stdout",
     "output_type": "stream",
     "text": [
      "  Average val loss:0.364330  \n",
      " Accuracy on the validation dataset: 86.38%\n",
      "Done!\n"
     ]
    },
    {
     "name": "stderr",
     "output_type": "stream",
     "text": [
      "\n"
     ]
    }
   ],
   "source": [
    "metrics_history = train_model(model_weightdecay,balanced_train_dataloader,test_dataloader,optimizer, loss_function,device,epochs)"
   ]
  },
  {
   "cell_type": "markdown",
   "id": "4d67c8bc",
   "metadata": {},
   "source": [
    "### Save the model"
   ]
  },
  {
   "cell_type": "code",
   "execution_count": 16,
   "id": "bd294ef7",
   "metadata": {},
   "outputs": [],
   "source": [
    "torch.save(model_weightdecay,'../models/simplecnn_weightdecay_10ep.pth')"
   ]
  },
  {
   "cell_type": "markdown",
   "id": "89c91191",
   "metadata": {},
   "source": [
    "### Results"
   ]
  },
  {
   "cell_type": "code",
   "execution_count": 18,
   "id": "690b62e3",
   "metadata": {},
   "outputs": [
    {
     "name": "stderr",
     "output_type": "stream",
     "text": [
      "Validation: 100%|██████████| 20/20 [00:16<00:00,  1.22it/s]\n"
     ]
    },
    {
     "name": "stdout",
     "output_type": "stream",
     "text": [
      "Accuracy on the test set: 86.38%\n",
      "Precision: 0.85, Recall: 0.95, F1 score: 0.90, AUC: 0.83\n",
      "classification_report :              precision    recall  f1-score   support\n",
      "\n",
      "           0       0.90      0.72      0.80       234\n",
      "           1       0.85      0.95      0.90       390\n",
      "\n",
      "    accuracy                           0.86       624\n",
      "   macro avg       0.87      0.83      0.85       624\n",
      "weighted avg       0.87      0.86      0.86       624\n",
      "\n"
     ]
    },
    {
     "data": {
      "image/png": "[encoded data removed]",
      "text/plain": [
       "<Figure size 640x480 with 2 Axes>"
      ]
     },
     "metadata": {},
     "output_type": "display_data"
    },
    {
     "data": {
      "image/png": "[encoded data removed]",
      "text/plain": [
       "<Figure size 640x480 with 2 Axes>"
      ]
     },
     "metadata": {},
     "output_type": "display_data"
    }
   ],
   "source": [
    "plot_learningcurve(metrics_history)\n",
    "\n",
    "eval_metrics = evaluate_model(model_weightdecay, test_dataloader, loss_function, device=\"cpu\")\n",
    "       \n",
    "    \n",
    "print(f\"Accuracy on the test set: {eval_metrics['accuracy']:.2%}\")\n",
    "\n",
    "print(f\"Precision: {eval_metrics['precision']:.2f}, Recall: {eval_metrics['recall']:.2f}, F1 score: {eval_metrics['f1']:.2f}, AUC: {eval_metrics['auc']:.2f}\")\n",
    "\n",
    "print(f'classification_report :{eval_metrics['classification report']}')\n",
    "# Calculate the confusion matrix using the true labels and predicision for the complete test set\n",
    "plot_confusionmatrix(eval_metrics['confusion matrix'])"
   ]
  },
  {
   "cell_type": "markdown",
   "id": "0fc57d28",
   "metadata": {},
   "source": [
    "## 6. Learning rate scheduler\n",
    "A learing rate scheduler can be used to dynamically adjust the learning rate during training. The learning rate will be large early in the training, while it will decrease later in the training to achieve a fine fit.\n",
    "Here we use Pytorch's CosineAnnealingLR scheduler, which adjusts the learning rate following a cosine curve. This scheduler enables a smooth transition between high and low learning rates throughout the training.\n",
    "\n",
    "### Model setup"
   ]
  },
  {
   "cell_type": "code",
   "execution_count": null,
   "id": "870516f6",
   "metadata": {},
   "outputs": [
    {
     "data": {
      "text/plain": [
       "==========================================================================================\n",
       "Layer (type:depth-idx)                   Output Shape              Param #\n",
       "==========================================================================================\n",
       "SimpleCNN                                [32, 1]                   --\n",
       "├─Sequential: 1-1                        [32, 64, 28, 28]          --\n",
       "│    └─Sequential: 2-1                   [32, 16, 112, 112]        --\n",
       "│    │    └─Conv2d: 3-1                  [32, 16, 224, 224]        160\n",
       "│    │    └─BatchNorm2d: 3-2             [32, 16, 224, 224]        32\n",
       "│    │    └─ReLU: 3-3                    [32, 16, 224, 224]        --\n",
       "│    │    └─MaxPool2d: 3-4               [32, 16, 112, 112]        --\n",
       "│    └─Sequential: 2-2                   [32, 32, 56, 56]          --\n",
       "│    │    └─Conv2d: 3-5                  [32, 32, 112, 112]        4,640\n",
       "│    │    └─BatchNorm2d: 3-6             [32, 32, 112, 112]        64\n",
       "│    │    └─ReLU: 3-7                    [32, 32, 112, 112]        --\n",
       "│    │    └─MaxPool2d: 3-8               [32, 32, 56, 56]          --\n",
       "│    └─Sequential: 2-3                   [32, 64, 28, 28]          --\n",
       "│    │    └─Conv2d: 3-9                  [32, 64, 56, 56]          18,496\n",
       "│    │    └─BatchNorm2d: 3-10            [32, 64, 56, 56]          128\n",
       "│    │    └─ReLU: 3-11                   [32, 64, 56, 56]          --\n",
       "│    │    └─MaxPool2d: 3-12              [32, 64, 28, 28]          --\n",
       "├─Sequential: 1-2                        [32, 1]                   --\n",
       "│    └─Flatten: 2-4                      [32, 50176]               --\n",
       "│    └─Dropout: 2-5                      [32, 50176]               --\n",
       "│    └─Linear: 2-6                       [32, 128]                 6,422,656\n",
       "│    └─ReLU: 2-7                         [32, 128]                 --\n",
       "│    └─Dropout: 2-8                      [32, 128]                 --\n",
       "│    └─Linear: 2-9                       [32, 1]                   129\n",
       "==========================================================================================\n",
       "Total params: 6,446,305\n",
       "Trainable params: 6,446,305\n",
       "Non-trainable params: 0\n",
       "Total mult-adds (Units.GIGABYTES): 4.18\n",
       "==========================================================================================\n",
       "Input size (MB): 6.42\n",
       "Forward/backward pass size (MB): 719.36\n",
       "Params size (MB): 25.79\n",
       "Estimated Total Size (MB): 751.56\n",
       "=========================================================================================="
      ]
     },
     "execution_count": 5,
     "metadata": {},
     "output_type": "execute_result"
    }
   ],
   "source": [
    "model_scheduler = simplecnn.get_simplecnn(img_size,n_channels,use_batchnorm=True, use_dropout=True,dropout_prob=0.5)\n",
    "\n",
    "# loss function\n",
    "loss_function = torch.nn.BCEWithLogitsLoss()\n",
    "\n",
    "#optimizer with weight decay\n",
    "optimizer = torch.optim.Adam(model_scheduler.parameters(), lr=learning_rate,weight_decay=1e-4)\n",
    "\n",
    "# scheduler \n",
    "scheduler = optim.lr_scheduler.CosineAnnealingLR(optimizer, T_max=epochs, eta_min=learning_rate*0.1)\n",
    "# print the model summary\n",
    "summary(model_scheduler,input_size=[batch_size,n_channels,img_size,img_size])"
   ]
  },
  {
   "cell_type": "markdown",
   "id": "77728fca",
   "metadata": {},
   "source": [
    "### Train the model"
   ]
  },
  {
   "cell_type": "code",
   "execution_count": 6,
   "id": "f7a33637",
   "metadata": {},
   "outputs": [
    {
     "ename": "TypeError",
     "evalue": "to() received an invalid combination of arguments - got (CosineAnnealingLR), but expected one of:\n * (torch.device device = None, torch.dtype dtype = None, bool non_blocking = False, bool copy = False, *, torch.memory_format memory_format = None)\n * (torch.dtype dtype, bool non_blocking = False, bool copy = False, *, torch.memory_format memory_format = None)\n * (Tensor tensor, bool non_blocking = False, bool copy = False, *, torch.memory_format memory_format = None)\n",
     "output_type": "error",
     "traceback": [
      "\u001b[31m---------------------------------------------------------------------------\u001b[39m",
      "\u001b[31mTypeError\u001b[39m                                 Traceback (most recent call last)",
      "\u001b[36mCell\u001b[39m\u001b[36m \u001b[39m\u001b[32mIn[6]\u001b[39m\u001b[32m, line 1\u001b[39m\n\u001b[32m----> \u001b[39m\u001b[32m1\u001b[39m metrics_history = \u001b[43mtrain_model\u001b[49m\u001b[43m(\u001b[49m\u001b[43mmodel_scheduler\u001b[49m\u001b[43m,\u001b[49m\u001b[43mbalanced_train_dataloader\u001b[49m\u001b[43m,\u001b[49m\u001b[43mtest_dataloader\u001b[49m\u001b[43m,\u001b[49m\u001b[43moptimizer\u001b[49m\u001b[43m,\u001b[49m\u001b[43m \u001b[49m\u001b[43mloss_function\u001b[49m\u001b[43m,\u001b[49m\u001b[43mscheduler\u001b[49m\u001b[43m,\u001b[49m\u001b[43mdevice\u001b[49m\u001b[43m,\u001b[49m\u001b[43mepochs\u001b[49m\u001b[43m)\u001b[49m\n",
      "\u001b[36mFile \u001b[39m\u001b[32mf:\\SuzeAnne\\projects\\chest_xray_classifier\\src\\train.py:31\u001b[39m, in \u001b[36mtrain_model\u001b[39m\u001b[34m(model, train_dataloader, val_dataloader, optimizer, loss_function, device, epochs, scheduler)\u001b[39m\n\u001b[32m      9\u001b[39m \u001b[38;5;28;01mdef\u001b[39;00m\u001b[38;5;250m \u001b[39m\u001b[34mtrain_model\u001b[39m(model, train_dataloader, val_dataloader, optimizer, loss_function,device=\u001b[33m\"\u001b[39m\u001b[33mcpu\u001b[39m\u001b[33m\"\u001b[39m, epochs=\u001b[32m5\u001b[39m, scheduler=\u001b[38;5;28;01mNone\u001b[39;00m):\n\u001b[32m     10\u001b[39m \u001b[38;5;250m    \u001b[39m\u001b[33;03m\"\"\"\u001b[39;00m\n\u001b[32m     11\u001b[39m \u001b[33;03m    Train a model over the specified number of epochs.\u001b[39;00m\n\u001b[32m     12\u001b[39m \n\u001b[32m   (...)\u001b[39m\u001b[32m     29\u001b[39m \u001b[33;03m                lrs: the learning rate over the epochs (only changes when a scheduler is specified)\u001b[39;00m\n\u001b[32m     30\u001b[39m \u001b[33;03m    \"\"\"\u001b[39;00m\n\u001b[32m---> \u001b[39m\u001b[32m31\u001b[39m     model = \u001b[43mmodel\u001b[49m\u001b[43m.\u001b[49m\u001b[43mto\u001b[49m\u001b[43m(\u001b[49m\u001b[43mdevice\u001b[49m\u001b[43m)\u001b[49m\n\u001b[32m     33\u001b[39m     train_loss_history = [] \u001b[38;5;66;03m# keep track of the train loss over the epochs\u001b[39;00m\n\u001b[32m     34\u001b[39m     train_accuracy_history = [] \u001b[38;5;66;03m# keep track of train accuracy over the epochs\u001b[39;00m\n",
      "\u001b[36mFile \u001b[39m\u001b[32mc:\\Users\\Suze-Anne\\.conda\\envs\\deeplearning_pytorch\\Lib\\site-packages\\torch\\nn\\modules\\module.py:1314\u001b[39m, in \u001b[36mModule.to\u001b[39m\u001b[34m(self, *args, **kwargs)\u001b[39m\n\u001b[32m   1228\u001b[39m \u001b[38;5;28;01mdef\u001b[39;00m\u001b[38;5;250m \u001b[39m\u001b[34mto\u001b[39m(\u001b[38;5;28mself\u001b[39m, *args, **kwargs):\n\u001b[32m   1229\u001b[39m \u001b[38;5;250m    \u001b[39m\u001b[33mr\u001b[39m\u001b[33;03m\"\"\"Move and/or cast the parameters and buffers.\u001b[39;00m\n\u001b[32m   1230\u001b[39m \n\u001b[32m   1231\u001b[39m \u001b[33;03m    This can be called as\u001b[39;00m\n\u001b[32m   (...)\u001b[39m\u001b[32m   1312\u001b[39m \n\u001b[32m   1313\u001b[39m \u001b[33;03m    \"\"\"\u001b[39;00m\n\u001b[32m-> \u001b[39m\u001b[32m1314\u001b[39m     device, dtype, non_blocking, convert_to_format = \u001b[43mtorch\u001b[49m\u001b[43m.\u001b[49m\u001b[43m_C\u001b[49m\u001b[43m.\u001b[49m\u001b[43m_nn\u001b[49m\u001b[43m.\u001b[49m\u001b[43m_parse_to\u001b[49m\u001b[43m(\u001b[49m\n\u001b[32m   1315\u001b[39m \u001b[43m        \u001b[49m\u001b[43m*\u001b[49m\u001b[43margs\u001b[49m\u001b[43m,\u001b[49m\u001b[43m \u001b[49m\u001b[43m*\u001b[49m\u001b[43m*\u001b[49m\u001b[43mkwargs\u001b[49m\n\u001b[32m   1316\u001b[39m \u001b[43m    \u001b[49m\u001b[43m)\u001b[49m\n\u001b[32m   1318\u001b[39m     \u001b[38;5;28;01mif\u001b[39;00m dtype \u001b[38;5;129;01mis\u001b[39;00m \u001b[38;5;129;01mnot\u001b[39;00m \u001b[38;5;28;01mNone\u001b[39;00m:\n\u001b[32m   1319\u001b[39m         \u001b[38;5;28;01mif\u001b[39;00m \u001b[38;5;129;01mnot\u001b[39;00m (dtype.is_floating_point \u001b[38;5;129;01mor\u001b[39;00m dtype.is_complex):\n",
      "\u001b[31mTypeError\u001b[39m: to() received an invalid combination of arguments - got (CosineAnnealingLR), but expected one of:\n * (torch.device device = None, torch.dtype dtype = None, bool non_blocking = False, bool copy = False, *, torch.memory_format memory_format = None)\n * (torch.dtype dtype, bool non_blocking = False, bool copy = False, *, torch.memory_format memory_format = None)\n * (Tensor tensor, bool non_blocking = False, bool copy = False, *, torch.memory_format memory_format = None)\n"
     ]
    }
   ],
   "source": [
    "metrics_history = train_model(model_scheduler,balanced_train_dataloader,test_dataloader,optimizer, loss_function,scheduler,device,epochs)"
   ]
  },
  {
   "cell_type": "markdown",
   "id": "f8ecc05a",
   "metadata": {},
   "source": [
    "### Save the model"
   ]
  },
  {
   "cell_type": "code",
   "execution_count": null,
   "id": "41200820",
   "metadata": {},
   "outputs": [],
   "source": [
    "torch.save(model_scheduler,'../models/simplecnn_scheduler_10ep.pth')"
   ]
  },
  {
   "cell_type": "code",
   "execution_count": null,
   "id": "33f06083",
   "metadata": {},
   "outputs": [
    {
     "name": "stderr",
     "output_type": "stream",
     "text": [
      "Validation: 100%|██████████| 20/20 [00:14<00:00,  1.42it/s]\n"
     ]
    },
    {
     "name": "stdout",
     "output_type": "stream",
     "text": [
      "Accuracy on the test set: 87.34%\n",
      "Precision: 0.92, Recall: 0.87, F1 score: 0.90, AUC: 0.87\n",
      "classification_report :              precision    recall  f1-score   support\n",
      "\n",
      "           0       0.81      0.87      0.84       234\n",
      "           1       0.92      0.87      0.90       390\n",
      "\n",
      "    accuracy                           0.87       624\n",
      "   macro avg       0.86      0.87      0.87       624\n",
      "weighted avg       0.88      0.87      0.87       624\n",
      "\n"
     ]
    },
    {
     "data": {
      "image/png": "[encoded data removed]",
      "text/plain": [
       "<Figure size 640x480 with 2 Axes>"
      ]
     },
     "metadata": {},
     "output_type": "display_data"
    },
    {
     "data": {
      "image/png": "[encoded data removed]",
      "text/plain": [
       "<Figure size 640x480 with 2 Axes>"
      ]
     },
     "metadata": {},
     "output_type": "display_data"
    }
   ],
   "source": [
    "plot_learningcurve(metrics_history)\n",
    "\n",
    "plot_learningrate(metrics_history['lrs'])\n",
    "\n",
    "eval_metrics = evaluate_model(model_scheduler, test_dataloader, loss_function, device=\"cpu\")\n",
    "       \n",
    "    \n",
    "print(f\"Accuracy on the test set: {eval_metrics['accuracy']:.2%}\")\n",
    "\n",
    "print(f\"Precision: {eval_metrics['precision']:.2f}, Recall: {eval_metrics['recall']:.2f}, F1 score: {eval_metrics['f1']:.2f}, AUC: {eval_metrics['auc']:.2f}\")\n",
    "\n",
    "print(f'classification_report :{eval_metrics['classification report']}')\n",
    "\n",
    "\n",
    "# Calculate the confusion matrix using the true labels and predicision for the complete test set\n",
    "plot_confusionmatrix(eval_metrics['confusion matrix'])\n"
   ]
  },
  {
   "cell_type": "markdown",
   "id": "f55898fe",
   "metadata": {},
   "source": [
    "## 7. Reduce model size by global average pooling\n",
    "Our simple CNN already has few layers but another possibility to further reduce complexity is to replease the fully connected layer at the end of our model (Flatten -> Linear) with global average poolding layer + a linear layer (Linear(64,1)). This reduces the number of parameters \n",
    "### Model setup"
   ]
  },
  {
   "cell_type": "code",
   "execution_count": null,
   "id": "3bb8b396",
   "metadata": {},
   "outputs": [
    {
     "data": {
      "text/plain": [
       "==========================================================================================\n",
       "Layer (type:depth-idx)                   Output Shape              Param #\n",
       "==========================================================================================\n",
       "TinyCNN                                  [32, 1]                   --\n",
       "├─Sequential: 1-1                        [32, 16, 56, 56]          --\n",
       "│    └─Sequential: 2-1                   [32, 8, 112, 112]         --\n",
       "│    │    └─Conv2d: 3-1                  [32, 8, 224, 224]         80\n",
       "│    │    └─BatchNorm2d: 3-2             [32, 8, 224, 224]         16\n",
       "│    │    └─ReLU: 3-3                    [32, 8, 224, 224]         --\n",
       "│    │    └─MaxPool2d: 3-4               [32, 8, 112, 112]         --\n",
       "│    └─Sequential: 2-2                   [32, 16, 56, 56]          --\n",
       "│    │    └─Conv2d: 3-5                  [32, 16, 112, 112]        1,168\n",
       "│    │    └─BatchNorm2d: 3-6             [32, 16, 112, 112]        32\n",
       "│    │    └─ReLU: 3-7                    [32, 16, 112, 112]        --\n",
       "│    │    └─MaxPool2d: 3-8               [32, 16, 56, 56]          --\n",
       "├─Sequential: 1-2                        [32, 1]                   --\n",
       "│    └─AdaptiveAvgPool2d: 2-3            [32, 16, 1, 1]            --\n",
       "│    └─Flatten: 2-4                      [32, 16]                  --\n",
       "│    └─Dropout: 2-5                      [32, 16]                  --\n",
       "│    └─Linear: 2-6                       [32, 1]                   17\n",
       "==========================================================================================\n",
       "Total params: 1,313\n",
       "Trainable params: 1,313\n",
       "Non-trainable params: 0\n",
       "Total mult-adds (Units.MEGABYTES): 597.30\n",
       "==========================================================================================\n",
       "Input size (MB): 6.42\n",
       "Forward/backward pass size (MB): 308.28\n",
       "Params size (MB): 0.01\n",
       "Estimated Total Size (MB): 314.71\n",
       "=========================================================================================="
      ]
     },
     "execution_count": 5,
     "metadata": {},
     "output_type": "execute_result"
    }
   ],
   "source": [
    "model_reduced = simplecnn.get_simplecnnreduced(n_channels,use_batchnorm=True, use_dropout=True,dropout_prob=0.5)\n",
    "\n",
    "# loss function\n",
    "loss_function = torch.nn.BCEWithLogitsLoss()\n",
    "\n",
    "#optimizer with weight decay\n",
    "optimizer = torch.optim.Adam(model_reduced.parameters(), lr=learning_rate,weight_decay=1e-4)\n",
    "\n",
    "# scheduler \n",
    "scheduler = optim.lr_scheduler.CosineAnnealingLR(optimizer, T_max=epochs, eta_min=learning_rate*0.1)\n",
    "# print the model summary\n",
    "summary(model_reduced,input_size=[batch_size,n_channels,img_size,img_size])"
   ]
  },
  {
   "cell_type": "markdown",
   "id": "42b3bf22",
   "metadata": {},
   "source": [
    "### Train model"
   ]
  },
  {
   "cell_type": "code",
   "execution_count": 6,
   "id": "0e6cfa35",
   "metadata": {},
   "outputs": [
    {
     "name": "stdout",
     "output_type": "stream",
     "text": [
      " Epoch 1 / 10:\n"
     ]
    },
    {
     "name": "stderr",
     "output_type": "stream",
     "text": [
      "Training: 100%|██████████| 163/163 [04:15<00:00,  1.57s/it]\n"
     ]
    },
    {
     "name": "stdout",
     "output_type": "stream",
     "text": [
      "  Average train loss:0.615671  \n",
      " Accuracy on the train dataset: 69.11%\n"
     ]
    },
    {
     "name": "stderr",
     "output_type": "stream",
     "text": [
      "Validation: 100%|██████████| 20/20 [00:13<00:00,  1.45it/s]\n"
     ]
    },
    {
     "name": "stdout",
     "output_type": "stream",
     "text": [
      "  Average val loss:0.598323  \n",
      " Accuracy on the validation dataset: 76.44%\n",
      " Epoch 2 / 10:\n"
     ]
    },
    {
     "name": "stderr",
     "output_type": "stream",
     "text": [
      "Training: 100%|██████████| 163/163 [04:21<00:00,  1.60s/it]\n"
     ]
    },
    {
     "name": "stdout",
     "output_type": "stream",
     "text": [
      "  Average train loss:0.557874  \n",
      " Accuracy on the train dataset: 74.31%\n"
     ]
    },
    {
     "name": "stderr",
     "output_type": "stream",
     "text": [
      "Validation: 100%|██████████| 20/20 [00:13<00:00,  1.49it/s]\n"
     ]
    },
    {
     "name": "stdout",
     "output_type": "stream",
     "text": [
      "  Average val loss:0.588507  \n",
      " Accuracy on the validation dataset: 75.48%\n",
      " Epoch 3 / 10:\n"
     ]
    },
    {
     "name": "stderr",
     "output_type": "stream",
     "text": [
      "Training: 100%|██████████| 163/163 [04:21<00:00,  1.60s/it]\n"
     ]
    },
    {
     "name": "stdout",
     "output_type": "stream",
     "text": [
      "  Average train loss:0.541434  \n",
      " Accuracy on the train dataset: 74.19%\n"
     ]
    },
    {
     "name": "stderr",
     "output_type": "stream",
     "text": [
      "Validation: 100%|██████████| 20/20 [00:13<00:00,  1.45it/s]\n"
     ]
    },
    {
     "name": "stdout",
     "output_type": "stream",
     "text": [
      "  Average val loss:0.557742  \n",
      " Accuracy on the validation dataset: 76.28%\n",
      " Epoch 4 / 10:\n"
     ]
    },
    {
     "name": "stderr",
     "output_type": "stream",
     "text": [
      "Training: 100%|██████████| 163/163 [04:05<00:00,  1.51s/it]\n"
     ]
    },
    {
     "name": "stdout",
     "output_type": "stream",
     "text": [
      "  Average train loss:0.548593  \n",
      " Accuracy on the train dataset: 72.97%\n"
     ]
    },
    {
     "name": "stderr",
     "output_type": "stream",
     "text": [
      "Validation: 100%|██████████| 20/20 [00:13<00:00,  1.53it/s]\n"
     ]
    },
    {
     "name": "stdout",
     "output_type": "stream",
     "text": [
      "  Average val loss:0.544626  \n",
      " Accuracy on the validation dataset: 75.32%\n",
      " Epoch 5 / 10:\n"
     ]
    },
    {
     "name": "stderr",
     "output_type": "stream",
     "text": [
      "Training: 100%|██████████| 163/163 [04:03<00:00,  1.49s/it]\n"
     ]
    },
    {
     "name": "stdout",
     "output_type": "stream",
     "text": [
      "  Average train loss:0.534258  \n",
      " Accuracy on the train dataset: 74.39%\n"
     ]
    },
    {
     "name": "stderr",
     "output_type": "stream",
     "text": [
      "Validation: 100%|██████████| 20/20 [00:13<00:00,  1.52it/s]\n"
     ]
    },
    {
     "name": "stdout",
     "output_type": "stream",
     "text": [
      "  Average val loss:0.539305  \n",
      " Accuracy on the validation dataset: 77.56%\n",
      " Epoch 6 / 10:\n"
     ]
    },
    {
     "name": "stderr",
     "output_type": "stream",
     "text": [
      "Training: 100%|██████████| 163/163 [04:03<00:00,  1.49s/it]\n"
     ]
    },
    {
     "name": "stdout",
     "output_type": "stream",
     "text": [
      "  Average train loss:0.520988  \n",
      " Accuracy on the train dataset: 75.67%\n"
     ]
    },
    {
     "name": "stderr",
     "output_type": "stream",
     "text": [
      "Validation: 100%|██████████| 20/20 [00:13<00:00,  1.53it/s]\n"
     ]
    },
    {
     "name": "stdout",
     "output_type": "stream",
     "text": [
      "  Average val loss:0.520048  \n",
      " Accuracy on the validation dataset: 78.04%\n",
      " Epoch 7 / 10:\n"
     ]
    },
    {
     "name": "stderr",
     "output_type": "stream",
     "text": [
      "Training: 100%|██████████| 163/163 [04:07<00:00,  1.52s/it]\n"
     ]
    },
    {
     "name": "stdout",
     "output_type": "stream",
     "text": [
      "  Average train loss:0.512327  \n",
      " Accuracy on the train dataset: 75.54%\n"
     ]
    },
    {
     "name": "stderr",
     "output_type": "stream",
     "text": [
      "Validation: 100%|██████████| 20/20 [00:12<00:00,  1.54it/s]\n"
     ]
    },
    {
     "name": "stdout",
     "output_type": "stream",
     "text": [
      "  Average val loss:0.533507  \n",
      " Accuracy on the validation dataset: 77.24%\n",
      " Epoch 8 / 10:\n"
     ]
    },
    {
     "name": "stderr",
     "output_type": "stream",
     "text": [
      "Training: 100%|██████████| 163/163 [04:03<00:00,  1.49s/it]\n"
     ]
    },
    {
     "name": "stdout",
     "output_type": "stream",
     "text": [
      "  Average train loss:0.517843  \n",
      " Accuracy on the train dataset: 75.52%\n"
     ]
    },
    {
     "name": "stderr",
     "output_type": "stream",
     "text": [
      "Validation: 100%|██████████| 20/20 [00:13<00:00,  1.49it/s]\n"
     ]
    },
    {
     "name": "stdout",
     "output_type": "stream",
     "text": [
      "  Average val loss:0.534870  \n",
      " Accuracy on the validation dataset: 77.40%\n",
      " Epoch 9 / 10:\n"
     ]
    },
    {
     "name": "stderr",
     "output_type": "stream",
     "text": [
      "Training: 100%|██████████| 163/163 [03:58<00:00,  1.46s/it]\n"
     ]
    },
    {
     "name": "stdout",
     "output_type": "stream",
     "text": [
      "  Average train loss:0.511518  \n",
      " Accuracy on the train dataset: 76.09%\n"
     ]
    },
    {
     "name": "stderr",
     "output_type": "stream",
     "text": [
      "Validation: 100%|██████████| 20/20 [00:12<00:00,  1.57it/s]\n"
     ]
    },
    {
     "name": "stdout",
     "output_type": "stream",
     "text": [
      "  Average val loss:0.533275  \n",
      " Accuracy on the validation dataset: 76.12%\n",
      " Epoch 10 / 10:\n"
     ]
    },
    {
     "name": "stderr",
     "output_type": "stream",
     "text": [
      "Training: 100%|██████████| 163/163 [04:01<00:00,  1.48s/it]\n"
     ]
    },
    {
     "name": "stdout",
     "output_type": "stream",
     "text": [
      "  Average train loss:0.504581  \n",
      " Accuracy on the train dataset: 76.46%\n"
     ]
    },
    {
     "name": "stderr",
     "output_type": "stream",
     "text": [
      "Validation: 100%|██████████| 20/20 [00:13<00:00,  1.48it/s]"
     ]
    },
    {
     "name": "stdout",
     "output_type": "stream",
     "text": [
      "  Average val loss:0.524244  \n",
      " Accuracy on the validation dataset: 78.21%\n",
      "Done!\n"
     ]
    },
    {
     "name": "stderr",
     "output_type": "stream",
     "text": [
      "\n"
     ]
    }
   ],
   "source": [
    "metrics_history = train_model(model_reduced,balanced_train_dataloader,test_dataloader,optimizer, loss_function,scheduler,device,epochs)"
   ]
  },
  {
   "cell_type": "markdown",
   "id": "ba7310a1",
   "metadata": {},
   "source": [
    "### Save the model"
   ]
  },
  {
   "cell_type": "code",
   "execution_count": null,
   "id": "e7d9183d",
   "metadata": {},
   "outputs": [],
   "source": [
    "torch.save(model_reduced,'../models/simplecnn_reduced_10ep.tph')"
   ]
  },
  {
   "cell_type": "code",
   "execution_count": 7,
   "id": "d4425855",
   "metadata": {},
   "outputs": [
    {
     "name": "stderr",
     "output_type": "stream",
     "text": [
      "Validation: 100%|██████████| 20/20 [00:13<00:00,  1.48it/s]\n"
     ]
    },
    {
     "name": "stdout",
     "output_type": "stream",
     "text": [
      "Accuracy on the test set: 78.21%\n",
      "Precision: 0.85, Recall: 0.79, F1 score: 0.82, AUC: 0.78\n",
      "classification_report :              precision    recall  f1-score   support\n",
      "\n",
      "           0       0.69      0.76      0.72       234\n",
      "           1       0.85      0.79      0.82       390\n",
      "\n",
      "    accuracy                           0.78       624\n",
      "   macro avg       0.77      0.78      0.77       624\n",
      "weighted avg       0.79      0.78      0.78       624\n",
      "\n"
     ]
    },
    {
     "data": {
      "image/png": "[encoded data removed]",
      "text/plain": [
       "<Figure size 640x480 with 2 Axes>"
      ]
     },
     "metadata": {},
     "output_type": "display_data"
    },
    {
     "data": {
      "image/png": "[encoded data removed]",
      "text/plain": [
       "<Figure size 640x480 with 2 Axes>"
      ]
     },
     "metadata": {},
     "output_type": "display_data"
    }
   ],
   "source": [
    "plot_learningcurve(metrics_history)\n",
    "\n",
    "eval_metrics = evaluate_model(model_reduced, test_dataloader, loss_function, device=\"cpu\")\n",
    "       \n",
    "    \n",
    "print(f\"Accuracy on the test set: {eval_metrics['accuracy']:.2%}\")\n",
    "\n",
    "print(f\"Precision: {eval_metrics['precision']:.2f}, Recall: {eval_metrics['recall']:.2f}, F1 score: {eval_metrics['f1']:.2f}, AUC: {eval_metrics['auc']:.2f}\")\n",
    "\n",
    "print(f'classification_report :{eval_metrics['classification report']}')\n",
    "# Calculate the confusion matrix using the true labels and predicision for the complete test set\n",
    "plot_confusionmatrix(eval_metrics['confusion matrix'])"
   ]
  },
  {
   "cell_type": "code",
   "execution_count": null,
   "id": "f83b93ae",
   "metadata": {},
   "outputs": [],
   "source": []
  }
 ],
 "metadata": {
  "kernelspec": {
   "display_name": "deeplearning_pytorch",
   "language": "python",
   "name": "python3"
  },
  "language_info": {
   "codemirror_mode": {
    "name": "ipython",
    "version": 3
   },
   "file_extension": ".py",
   "mimetype": "text/x-python",
   "name": "python",
   "nbconvert_exporter": "python",
   "pygments_lexer": "ipython3",
   "version": "3.13.3"
  }
 },
 "nbformat": 4,
 "nbformat_minor": 5
}
