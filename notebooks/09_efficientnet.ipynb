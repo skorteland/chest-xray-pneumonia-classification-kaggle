{
 "cells": [
  {
   "cell_type": "markdown",
   "id": "34f0da3e",
   "metadata": {},
   "source": [
    "# EfficientNet B0 + Transfer learning\n",
    "This jupyter notebook explores the performance of a pretrained efficientnet B0 model on the chest X-ray Pneumonia dataset.\n",
    "\n",
    "We will use the efficientnet_b0 model from torchvision.models. The model is pretrained on the ImageNet dataset. The final layer of the model is modified to match the binary output of our Pneumonia classifier. The first layer is modified to work with grayscale images. We will first train the model for a warm-up period where the intermediate layers of the model are frozen. Then the deeper layers of the model are unfrozen. \n",
    "\n",
    "## Import required libraries"
   ]
  },
  {
   "cell_type": "code",
   "execution_count": 1,
   "id": "175e5ea0",
   "metadata": {},
   "outputs": [],
   "source": [
    "import os\n",
    "import sys\n",
    "import torch\n",
    "from torchinfo import summary\n",
    "module_path = os.path.abspath(os.path.join('..')) # project root\n",
    "# add project root to sys.path\n",
    "if module_path not in sys.path:\n",
    "    sys.path.append(module_path) \n",
    "from src.data_loader import get_dataloader\n",
    "from src.transforms import get_transforms\n",
    "from src.models import efficientnet\n",
    "from src.models.utils import unfreeze_layers, get_optimizer\n",
    "from src.train import train_model\n",
    "from src.evaluate import evaluate_model\n",
    "from src.plot_metrics import plot_learningcurve, plot_confusionmatrix, plot_learningrate"
   ]
  },
  {
   "cell_type": "markdown",
   "id": "7172c120",
   "metadata": {},
   "source": [
    "## Configuration"
   ]
  },
  {
   "cell_type": "code",
   "execution_count": 2,
   "id": "c9e75e35",
   "metadata": {},
   "outputs": [],
   "source": [
    "data_dir = \"../data/raw/chest_xray\"\n",
    "batch_size = 32\n",
    "epochs = 5\n",
    "learning_rate = 1e-3 # \n",
    "img_size = 224 #\n",
    "n_channels = 1 \n",
    "\n",
    "# get device for training\n",
    "#device  = torch.accelerator.current_accelerator().type if torch.accelerator.is_available() else \"cpu\"\n",
    "device = \"cuda\" if torch.cuda.is_available() else \"cpu\""
   ]
  },
  {
   "cell_type": "markdown",
   "id": "a99232b3",
   "metadata": {},
   "source": [
    "## Load data\n",
    "The training data is augmented to improve performance and balanced through resampling. For this model, we will convert the 1-channel grayscale images to 3-channel images, as EfficientNet expects 3-channel RGB input. The grayscale channel is repeated 3 times to match this expectation. By doing this, we do not have to replace the first conv layer in the model and can use the pretrained weights."
   ]
  },
  {
   "cell_type": "code",
   "execution_count": 3,
   "id": "f64387e0",
   "metadata": {},
   "outputs": [],
   "source": [
    "# augment and balance the data, convert to 3-channel grayscale \n",
    "\n",
    "train_transform = get_transforms(img_size,to_rgb=True,augment=True)\n",
    "val_transform = get_transforms(img_size,to_rgb=True, augment=False)\n",
    "# set num_workers to 0, safer on Windows with CPU\n",
    "train_dataloader = get_dataloader(os.path.join(data_dir,'train'), batch_size=batch_size, num_workers=0,transform=train_transform,balance=True)\n",
    "val_dataloader = get_dataloader(os.path.join(data_dir,'val'), batch_size=batch_size, num_workers=0,transform=val_transform)\n",
    "test_dataloader = get_dataloader(os.path.join(data_dir,'test'), batch_size=batch_size, num_workers=0,transform=val_transform)"
   ]
  },
  {
   "cell_type": "markdown",
   "id": "d3f71f5f",
   "metadata": {},
   "source": [
    "## Efficientnet B0 model (gradual unfreezing)\n",
    "Use a pre-trained EfficientnetB0 model (trained on ImageNet dataset) and initially freeze all layers except the final classification head. After a few epochs, fine-tune the model further by unfreezing some of the deeper layers, and continue training at a lower learning rate.\n",
    "\n",
    "### Model Setup\n"
   ]
  },
  {
   "cell_type": "code",
   "execution_count": 5,
   "id": "4434cf89",
   "metadata": {},
   "outputs": [
    {
     "data": {
      "text/plain": [
       "=========================================================================================================\n",
       "Layer (type:depth-idx)                                  Output Shape              Param #\n",
       "=========================================================================================================\n",
       "EfficientNet                                            [32, 1]                   --\n",
       "├─Sequential: 1-1                                       [32, 1280, 7, 7]          --\n",
       "│    └─Conv2dNormActivation: 2-1                        [32, 32, 112, 112]        --\n",
       "│    │    └─Conv2d: 3-1                                 [32, 32, 112, 112]        (864)\n",
       "│    │    └─BatchNorm2d: 3-2                            [32, 32, 112, 112]        (64)\n",
       "│    │    └─SiLU: 3-3                                   [32, 32, 112, 112]        --\n",
       "│    └─Sequential: 2-2                                  [32, 16, 112, 112]        --\n",
       "│    │    └─MBConv: 3-4                                 [32, 16, 112, 112]        (1,448)\n",
       "│    └─Sequential: 2-3                                  [32, 24, 56, 56]          --\n",
       "│    │    └─MBConv: 3-5                                 [32, 24, 56, 56]          (6,004)\n",
       "│    │    └─MBConv: 3-6                                 [32, 24, 56, 56]          (10,710)\n",
       "│    └─Sequential: 2-4                                  [32, 40, 28, 28]          --\n",
       "│    │    └─MBConv: 3-7                                 [32, 40, 28, 28]          (15,350)\n",
       "│    │    └─MBConv: 3-8                                 [32, 40, 28, 28]          (31,290)\n",
       "│    └─Sequential: 2-5                                  [32, 80, 14, 14]          --\n",
       "│    │    └─MBConv: 3-9                                 [32, 80, 14, 14]          (37,130)\n",
       "│    │    └─MBConv: 3-10                                [32, 80, 14, 14]          (102,900)\n",
       "│    │    └─MBConv: 3-11                                [32, 80, 14, 14]          (102,900)\n",
       "│    └─Sequential: 2-6                                  [32, 112, 14, 14]         --\n",
       "│    │    └─MBConv: 3-12                                [32, 112, 14, 14]         (126,004)\n",
       "│    │    └─MBConv: 3-13                                [32, 112, 14, 14]         (208,572)\n",
       "│    │    └─MBConv: 3-14                                [32, 112, 14, 14]         (208,572)\n",
       "│    └─Sequential: 2-7                                  [32, 192, 7, 7]           --\n",
       "│    │    └─MBConv: 3-15                                [32, 192, 7, 7]           (262,492)\n",
       "│    │    └─MBConv: 3-16                                [32, 192, 7, 7]           (587,952)\n",
       "│    │    └─MBConv: 3-17                                [32, 192, 7, 7]           (587,952)\n",
       "│    │    └─MBConv: 3-18                                [32, 192, 7, 7]           (587,952)\n",
       "│    └─Sequential: 2-8                                  [32, 320, 7, 7]           --\n",
       "│    │    └─MBConv: 3-19                                [32, 320, 7, 7]           (717,232)\n",
       "│    └─Conv2dNormActivation: 2-9                        [32, 1280, 7, 7]          --\n",
       "│    │    └─Conv2d: 3-20                                [32, 1280, 7, 7]          (409,600)\n",
       "│    │    └─BatchNorm2d: 3-21                           [32, 1280, 7, 7]          (2,560)\n",
       "│    │    └─SiLU: 3-22                                  [32, 1280, 7, 7]          --\n",
       "├─AdaptiveAvgPool2d: 1-2                                [32, 1280, 1, 1]          --\n",
       "├─Sequential: 1-3                                       [32, 1]                   --\n",
       "│    └─Dropout: 2-10                                    [32, 1280]                --\n",
       "│    └─Linear: 2-11                                     [32, 1]                   1,281\n",
       "=========================================================================================================\n",
       "Total params: 4,008,829\n",
       "Trainable params: 1,281\n",
       "Non-trainable params: 4,007,548\n",
       "Total mult-adds (Units.GIGABYTES): 12.31\n",
       "=========================================================================================================\n",
       "Input size (MB): 19.27\n",
       "Forward/backward pass size (MB): 3452.09\n",
       "Params size (MB): 16.04\n",
       "Estimated Total Size (MB): 3487.39\n",
       "========================================================================================================="
      ]
     },
     "execution_count": 5,
     "metadata": {},
     "output_type": "execute_result"
    }
   ],
   "source": [
    "model_efficientnet_freeze = efficientnet.get_efficientnetB0(pretrained=True, freeze=True).to(device)\n",
    "\n",
    "# loss function\n",
    "loss_function = torch.nn.BCEWithLogitsLoss()\n",
    "\n",
    "head_params = [\n",
    "    {'params': model_efficientnet_freeze.classifier.parameters(),'lr': learning_rate}\n",
    "    ]\n",
    "#optimizer with weightdecay\n",
    "# use AdamW optimizer as it decouples weight decay from gradient update, leading to more consistent regularization and better generalization than the Adam optimizer\n",
    "optimizer = torch.optim.AdamW(head_params, weight_decay=1e-4)\n",
    "\n",
    "# learning rate scheduler\n",
    "scheduler = torch.optim.lr_scheduler.CosineAnnealingLR(optimizer, T_max=epochs)\n",
    "\n",
    "# print the model summary\n",
    "summary(model_efficientnet_freeze,input_size=[batch_size,3,img_size,img_size])"
   ]
  },
  {
   "cell_type": "markdown",
   "id": "8e6470ba",
   "metadata": {},
   "source": [
    "### Train model (warm-up stage)"
   ]
  },
  {
   "cell_type": "code",
   "execution_count": 6,
   "id": "6564114f",
   "metadata": {},
   "outputs": [
    {
     "name": "stdout",
     "output_type": "stream",
     "text": [
      " Epoch 1 / 5:\n"
     ]
    },
    {
     "name": "stderr",
     "output_type": "stream",
     "text": [
      "Training: 100%|██████████| 163/163 [09:08<00:00,  3.36s/it]\n"
     ]
    },
    {
     "name": "stdout",
     "output_type": "stream",
     "text": [
      "  Average train loss:0.364046  \n",
      " Accuracy on the train dataset: 87.94%\n"
     ]
    },
    {
     "name": "stderr",
     "output_type": "stream",
     "text": [
      "Validation: 100%|██████████| 20/20 [00:28<00:00,  1.42s/it]\n"
     ]
    },
    {
     "name": "stdout",
     "output_type": "stream",
     "text": [
      "  Average val loss:0.339492  \n",
      " Accuracy on the validation dataset: 86.54%\n",
      " Epoch 2 / 5:\n"
     ]
    },
    {
     "name": "stderr",
     "output_type": "stream",
     "text": [
      "Training: 100%|██████████| 163/163 [09:05<00:00,  3.35s/it]\n"
     ]
    },
    {
     "name": "stdout",
     "output_type": "stream",
     "text": [
      "  Average train loss:0.236253  \n",
      " Accuracy on the train dataset: 91.83%\n"
     ]
    },
    {
     "name": "stderr",
     "output_type": "stream",
     "text": [
      "Validation: 100%|██████████| 20/20 [00:28<00:00,  1.45s/it]\n"
     ]
    },
    {
     "name": "stdout",
     "output_type": "stream",
     "text": [
      "  Average val loss:0.306043  \n",
      " Accuracy on the validation dataset: 88.46%\n",
      " Epoch 3 / 5:\n"
     ]
    },
    {
     "name": "stderr",
     "output_type": "stream",
     "text": [
      "Training: 100%|██████████| 163/163 [08:53<00:00,  3.27s/it]\n"
     ]
    },
    {
     "name": "stdout",
     "output_type": "stream",
     "text": [
      "  Average train loss:0.201197  \n",
      " Accuracy on the train dataset: 92.79%\n"
     ]
    },
    {
     "name": "stderr",
     "output_type": "stream",
     "text": [
      "Validation: 100%|██████████| 20/20 [00:24<00:00,  1.20s/it]\n"
     ]
    },
    {
     "name": "stdout",
     "output_type": "stream",
     "text": [
      "  Average val loss:0.291465  \n",
      " Accuracy on the validation dataset: 88.94%\n",
      " Epoch 4 / 5:\n"
     ]
    },
    {
     "name": "stderr",
     "output_type": "stream",
     "text": [
      "Training: 100%|██████████| 163/163 [07:52<00:00,  2.90s/it]\n"
     ]
    },
    {
     "name": "stdout",
     "output_type": "stream",
     "text": [
      "  Average train loss:0.187476  \n",
      " Accuracy on the train dataset: 93.40%\n"
     ]
    },
    {
     "name": "stderr",
     "output_type": "stream",
     "text": [
      "Validation: 100%|██████████| 20/20 [00:23<00:00,  1.19s/it]\n"
     ]
    },
    {
     "name": "stdout",
     "output_type": "stream",
     "text": [
      "  Average val loss:0.290710  \n",
      " Accuracy on the validation dataset: 89.10%\n",
      " Epoch 5 / 5:\n"
     ]
    },
    {
     "name": "stderr",
     "output_type": "stream",
     "text": [
      "Training: 100%|██████████| 163/163 [07:52<00:00,  2.90s/it]\n"
     ]
    },
    {
     "name": "stdout",
     "output_type": "stream",
     "text": [
      "  Average train loss:0.190014  \n",
      " Accuracy on the train dataset: 93.31%\n"
     ]
    },
    {
     "name": "stderr",
     "output_type": "stream",
     "text": [
      "Validation: 100%|██████████| 20/20 [00:23<00:00,  1.18s/it]"
     ]
    },
    {
     "name": "stdout",
     "output_type": "stream",
     "text": [
      "  Average val loss:0.290231  \n",
      " Accuracy on the validation dataset: 89.58%\n",
      "Done!\n"
     ]
    },
    {
     "name": "stderr",
     "output_type": "stream",
     "text": [
      "\n"
     ]
    }
   ],
   "source": [
    "metrics_history_efficientnet_warmup = train_model(model_efficientnet_freeze,train_dataloader,test_dataloader,optimizer, loss_function,device,epochs=epochs,scheduler=scheduler)"
   ]
  },
  {
   "cell_type": "markdown",
   "id": "f9cbbfe6",
   "metadata": {},
   "source": [
    "### Train Model (gradual unfreeze)\n",
    "Unfreeze the last 2 blocks and train for 5 epochs"
   ]
  },
  {
   "cell_type": "code",
   "execution_count": 7,
   "id": "54ee0d44",
   "metadata": {},
   "outputs": [
    {
     "name": "stdout",
     "output_type": "stream",
     "text": [
      " Epoch 1 / 5:\n"
     ]
    },
    {
     "name": "stderr",
     "output_type": "stream",
     "text": [
      "Training: 100%|██████████| 163/163 [10:35<00:00,  3.90s/it]\n"
     ]
    },
    {
     "name": "stdout",
     "output_type": "stream",
     "text": [
      "  Average train loss:0.124497  \n",
      " Accuracy on the train dataset: 95.34%\n"
     ]
    },
    {
     "name": "stderr",
     "output_type": "stream",
     "text": [
      "Validation: 100%|██████████| 20/20 [00:29<00:00,  1.49s/it]\n"
     ]
    },
    {
     "name": "stdout",
     "output_type": "stream",
     "text": [
      "  Average val loss:0.277205  \n",
      " Accuracy on the validation dataset: 89.42%\n",
      " Epoch 2 / 5:\n"
     ]
    },
    {
     "name": "stderr",
     "output_type": "stream",
     "text": [
      "Training: 100%|██████████| 163/163 [08:51<00:00,  3.26s/it]\n"
     ]
    },
    {
     "name": "stdout",
     "output_type": "stream",
     "text": [
      "  Average train loss:0.089616  \n",
      " Accuracy on the train dataset: 96.88%\n"
     ]
    },
    {
     "name": "stderr",
     "output_type": "stream",
     "text": [
      "Validation: 100%|██████████| 20/20 [00:24<00:00,  1.22s/it]\n"
     ]
    },
    {
     "name": "stdout",
     "output_type": "stream",
     "text": [
      "  Average val loss:0.275941  \n",
      " Accuracy on the validation dataset: 89.74%\n",
      " Epoch 3 / 5:\n"
     ]
    },
    {
     "name": "stderr",
     "output_type": "stream",
     "text": [
      "Training: 100%|██████████| 163/163 [08:47<00:00,  3.24s/it]\n"
     ]
    },
    {
     "name": "stdout",
     "output_type": "stream",
     "text": [
      "  Average train loss:0.064253  \n",
      " Accuracy on the train dataset: 97.70%\n"
     ]
    },
    {
     "name": "stderr",
     "output_type": "stream",
     "text": [
      "Validation: 100%|██████████| 20/20 [00:24<00:00,  1.22s/it]\n"
     ]
    },
    {
     "name": "stdout",
     "output_type": "stream",
     "text": [
      "  Average val loss:0.210365  \n",
      " Accuracy on the validation dataset: 91.83%\n",
      " Epoch 4 / 5:\n"
     ]
    },
    {
     "name": "stderr",
     "output_type": "stream",
     "text": [
      "Training: 100%|██████████| 163/163 [08:44<00:00,  3.22s/it]\n"
     ]
    },
    {
     "name": "stdout",
     "output_type": "stream",
     "text": [
      "  Average train loss:0.054167  \n",
      " Accuracy on the train dataset: 98.12%\n"
     ]
    },
    {
     "name": "stderr",
     "output_type": "stream",
     "text": [
      "Validation: 100%|██████████| 20/20 [00:25<00:00,  1.28s/it]\n"
     ]
    },
    {
     "name": "stdout",
     "output_type": "stream",
     "text": [
      "  Average val loss:0.209927  \n",
      " Accuracy on the validation dataset: 91.83%\n",
      " Epoch 5 / 5:\n"
     ]
    },
    {
     "name": "stderr",
     "output_type": "stream",
     "text": [
      "Training: 100%|██████████| 163/163 [08:43<00:00,  3.21s/it]\n"
     ]
    },
    {
     "name": "stdout",
     "output_type": "stream",
     "text": [
      "  Average train loss:0.053401  \n",
      " Accuracy on the train dataset: 98.35%\n"
     ]
    },
    {
     "name": "stderr",
     "output_type": "stream",
     "text": [
      "Validation: 100%|██████████| 20/20 [00:24<00:00,  1.21s/it]"
     ]
    },
    {
     "name": "stdout",
     "output_type": "stream",
     "text": [
      "  Average val loss:0.235609  \n",
      " Accuracy on the validation dataset: 91.51%\n",
      "Done!\n"
     ]
    },
    {
     "name": "stderr",
     "output_type": "stream",
     "text": [
      "\n"
     ]
    }
   ],
   "source": [
    "# unfreeze the last two blocks\n",
    "unfreeze_layers(model_efficientnet_freeze, [6,7], prefix='features')\n",
    "\n",
    "# loss function\n",
    "loss_function = torch.nn.BCEWithLogitsLoss()\n",
    "# optimzer\n",
    "optimizer = get_optimizer(model_efficientnet_freeze, backbone_lr=1e-4, head_lr=1e-3,backbone_prefixes=('features'), head_prefixes=('classifier',),weight_decay=1e-4)\n",
    "\n",
    "# learning rate scheduler\n",
    "scheduler = torch.optim.lr_scheduler.CosineAnnealingLR(optimizer, T_max=epochs)\n",
    "\n",
    "metrics_history_efficientnet_unfreeze = train_model(model_efficientnet_freeze,train_dataloader,test_dataloader,optimizer, loss_function,device,epochs=epochs,scheduler=scheduler)"
   ]
  },
  {
   "cell_type": "markdown",
   "id": "62b2e7bf",
   "metadata": {},
   "source": [
    "Unfreeze entire model and train for 5 epochs"
   ]
  },
  {
   "cell_type": "code",
   "execution_count": 9,
   "id": "4c9f41fa",
   "metadata": {},
   "outputs": [
    {
     "name": "stdout",
     "output_type": "stream",
     "text": [
      " Epoch 1 / 5:\n"
     ]
    },
    {
     "name": "stderr",
     "output_type": "stream",
     "text": [
      "Training: 100%|██████████| 163/163 [14:20<00:00,  5.28s/it]\n"
     ]
    },
    {
     "name": "stdout",
     "output_type": "stream",
     "text": [
      "  Average train loss:0.059540  \n",
      " Accuracy on the train dataset: 97.95%\n"
     ]
    },
    {
     "name": "stderr",
     "output_type": "stream",
     "text": [
      "Validation: 100%|██████████| 20/20 [00:24<00:00,  1.23s/it]\n"
     ]
    },
    {
     "name": "stdout",
     "output_type": "stream",
     "text": [
      "  Average val loss:0.245045  \n",
      " Accuracy on the validation dataset: 93.75%\n",
      " Epoch 2 / 5:\n"
     ]
    },
    {
     "name": "stderr",
     "output_type": "stream",
     "text": [
      "Training: 100%|██████████| 163/163 [12:57<00:00,  4.77s/it]\n"
     ]
    },
    {
     "name": "stdout",
     "output_type": "stream",
     "text": [
      "  Average train loss:0.048299  \n",
      " Accuracy on the train dataset: 98.24%\n"
     ]
    },
    {
     "name": "stderr",
     "output_type": "stream",
     "text": [
      "Validation: 100%|██████████| 20/20 [00:24<00:00,  1.23s/it]\n"
     ]
    },
    {
     "name": "stdout",
     "output_type": "stream",
     "text": [
      "  Average val loss:0.387859  \n",
      " Accuracy on the validation dataset: 88.30%\n",
      " Epoch 3 / 5:\n"
     ]
    },
    {
     "name": "stderr",
     "output_type": "stream",
     "text": [
      "Training: 100%|██████████| 163/163 [12:47<00:00,  4.71s/it]\n"
     ]
    },
    {
     "name": "stdout",
     "output_type": "stream",
     "text": [
      "  Average train loss:0.035853  \n",
      " Accuracy on the train dataset: 98.89%\n"
     ]
    },
    {
     "name": "stderr",
     "output_type": "stream",
     "text": [
      "Validation: 100%|██████████| 20/20 [00:24<00:00,  1.22s/it]\n"
     ]
    },
    {
     "name": "stdout",
     "output_type": "stream",
     "text": [
      "  Average val loss:0.270427  \n",
      " Accuracy on the validation dataset: 91.99%\n",
      " Epoch 4 / 5:\n"
     ]
    },
    {
     "name": "stderr",
     "output_type": "stream",
     "text": [
      "Training: 100%|██████████| 163/163 [12:52<00:00,  4.74s/it]\n"
     ]
    },
    {
     "name": "stdout",
     "output_type": "stream",
     "text": [
      "  Average train loss:0.025826  \n",
      " Accuracy on the train dataset: 99.04%\n"
     ]
    },
    {
     "name": "stderr",
     "output_type": "stream",
     "text": [
      "Validation: 100%|██████████| 20/20 [00:24<00:00,  1.21s/it]\n"
     ]
    },
    {
     "name": "stdout",
     "output_type": "stream",
     "text": [
      "  Average val loss:0.267043  \n",
      " Accuracy on the validation dataset: 91.19%\n",
      " Epoch 5 / 5:\n"
     ]
    },
    {
     "name": "stderr",
     "output_type": "stream",
     "text": [
      "Training: 100%|██████████| 163/163 [12:37<00:00,  4.65s/it]\n"
     ]
    },
    {
     "name": "stdout",
     "output_type": "stream",
     "text": [
      "  Average train loss:0.027770  \n",
      " Accuracy on the train dataset: 99.08%\n"
     ]
    },
    {
     "name": "stderr",
     "output_type": "stream",
     "text": [
      "Validation: 100%|██████████| 20/20 [00:23<00:00,  1.20s/it]"
     ]
    },
    {
     "name": "stdout",
     "output_type": "stream",
     "text": [
      "  Average val loss:0.299201  \n",
      " Accuracy on the validation dataset: 90.87%\n",
      "Done!\n"
     ]
    },
    {
     "name": "stderr",
     "output_type": "stream",
     "text": [
      "\n"
     ]
    }
   ],
   "source": [
    " # Unfreeze entire backbone (classifier head already unfrozen)\n",
    "for param in model_efficientnet_freeze.features.parameters():\n",
    "    param.requires_grad = True\n",
    "\n",
    "# loss function\n",
    "loss_function = torch.nn.BCEWithLogitsLoss()\n",
    "\n",
    "optimizer = get_optimizer(model_efficientnet_freeze, backbone_lr =1e-4, head_lr=1e-3,backbone_prefixes=('features',),head_prefixes=('classifier',))\n",
    "# learning rate scheduler\n",
    "scheduler = torch.optim.lr_scheduler.CosineAnnealingLR(optimizer, T_max=epochs)\n",
    "\n",
    "# train\n",
    "metrics_history_efficientnet_final = train_model(model_efficientnet_freeze,train_dataloader,test_dataloader,optimizer, loss_function,device,epochs=epochs,scheduler=scheduler)"
   ]
  },
  {
   "cell_type": "markdown",
   "id": "4cc7ad23",
   "metadata": {},
   "source": [
    "### Save the model"
   ]
  },
  {
   "cell_type": "code",
   "execution_count": 10,
   "id": "6c378927",
   "metadata": {},
   "outputs": [],
   "source": [
    "# only save weights\n",
    "torch.save(model_efficientnet_freeze.state_dict(),'../models/efficientnet_gradual_unfreeze_30ep_weights.pth')"
   ]
  },
  {
   "cell_type": "markdown",
   "id": "31ffe2ce",
   "metadata": {},
   "source": [
    "### Results"
   ]
  },
  {
   "cell_type": "code",
   "execution_count": 11,
   "id": "bae54b3c",
   "metadata": {},
   "outputs": [
    {
     "name": "stderr",
     "output_type": "stream",
     "text": [
      "Validation: 100%|██████████| 20/20 [00:29<00:00,  1.46s/it]\n"
     ]
    },
    {
     "name": "stdout",
     "output_type": "stream",
     "text": [
      "Accuracy on the test set: 90.87%\n",
      "Precision: 0.88, Recall: 0.98, F1 score: 0.93, AUC: 0.88\n",
      "classification_report :              precision    recall  f1-score   support\n",
      "\n",
      "           0       0.97      0.78      0.87       234\n",
      "           1       0.88      0.98      0.93       390\n",
      "\n",
      "    accuracy                           0.91       624\n",
      "   macro avg       0.93      0.88      0.90       624\n",
      "weighted avg       0.91      0.91      0.91       624\n",
      "\n"
     ]
    },
    {
     "data": {
      "image/png": "[encoded data removed]",
      "text/plain": [
       "<Figure size 1800x600 with 2 Axes>"
      ]
     },
     "metadata": {},
     "output_type": "display_data"
    },
    {
     "data": {
      "image/png": "[encoded data removed]",
      "text/plain": [
       "<Figure size 600x300 with 1 Axes>"
      ]
     },
     "metadata": {},
     "output_type": "display_data"
    },
    {
     "data": {
      "image/png": "[encoded data removed]",
      "text/plain": [
       "<Figure size 640x480 with 2 Axes>"
      ]
     },
     "metadata": {},
     "output_type": "display_data"
    }
   ],
   "source": [
    "plot_learningcurve(metrics_history_efficientnet_final)\n",
    "\n",
    "plot_learningrate(metrics_history_efficientnet_final['lrs'])\n",
    "\n",
    "eval_metrics_efficientnet_final = evaluate_model(model_efficientnet_freeze, test_dataloader, loss_function, device=\"cpu\")\n",
    "       \n",
    "print(f\"Accuracy on the test set: {eval_metrics_efficientnet_final['accuracy']:.2%}\")\n",
    "\n",
    "print(f\"Precision: {eval_metrics_efficientnet_final['precision']:.2f}, Recall: {eval_metrics_efficientnet_final['recall']:.2f}, F1 score: {eval_metrics_efficientnet_final['f1']:.2f}, AUC: {eval_metrics_efficientnet_final['auc']:.2f}\")\n",
    "\n",
    "print(f'classification_report :{eval_metrics_efficientnet_final['classification report']}')\n",
    "\n",
    "\n",
    "# Calculate the confusion matrix using the true labels and predicision for the complete test set\n",
    "plot_confusionmatrix(eval_metrics_efficientnet_final['confusion matrix'])"
   ]
  },
  {
   "cell_type": "code",
   "execution_count": null,
   "id": "6f248da5",
   "metadata": {},
   "outputs": [],
   "source": []
  }
 ],
 "metadata": {
  "kernelspec": {
   "display_name": "deeplearning_pytorch",
   "language": "python",
   "name": "python3"
  },
  "language_info": {
   "codemirror_mode": {
    "name": "ipython",
    "version": 3
   },
   "file_extension": ".py",
   "mimetype": "text/x-python",
   "name": "python",
   "nbconvert_exporter": "python",
   "pygments_lexer": "ipython3",
   "version": "3.13.3"
  }
 },
 "nbformat": 4,
 "nbformat_minor": 5
}
