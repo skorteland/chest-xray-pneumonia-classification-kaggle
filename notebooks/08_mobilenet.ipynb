{
 "cells": [
  {
   "cell_type": "markdown",
   "id": "91d62bbc",
   "metadata": {},
   "source": [
    "# MobileNet v2 + transfer learning\n",
    "This jupyter notebook explores the performance of a pretrained mobilenet v2 model on the chest X-ray Pneumonia dataset.\n",
    "\n",
    "We will use the MobileNetv2 model from torchvision.models. The model is pretrained on the ImageNet dataset. The final layer of the model is modified to match the binary output of our Pneumonia classifier. The first layer is modified to work with grayscale images. We will first train the model for a warm-up period where the intermediate layers of the model are frozen. Then the deeper layers of the model are unfrozen for finetuning the model. \n",
    "\n",
    "## Import required libraries"
   ]
  },
  {
   "cell_type": "code",
   "execution_count": 1,
   "id": "375be8e8",
   "metadata": {},
   "outputs": [],
   "source": [
    "import os\n",
    "import sys\n",
    "import torch\n",
    "from torchinfo import summary\n",
    "module_path = os.path.abspath(os.path.join('..')) # project root\n",
    "# add project root to sys.path\n",
    "if module_path not in sys.path:\n",
    "    sys.path.append(module_path) \n",
    "from src.data_loader import get_dataloader\n",
    "from src.transforms import get_transforms\n",
    "from src.models import mobilenet\n",
    "from src.models.utils import unfreeze_layers, get_optimizer\n",
    "from src.train import train_model\n",
    "from src.evaluate import evaluate_model\n",
    "from src.plot_metrics import plot_learningcurve, plot_confusionmatrix, plot_learningrate"
   ]
  },
  {
   "cell_type": "markdown",
   "id": "2dc4bce9",
   "metadata": {},
   "source": [
    "## Configuration"
   ]
  },
  {
   "cell_type": "code",
   "execution_count": 2,
   "id": "f12c97a2",
   "metadata": {},
   "outputs": [],
   "source": [
    "data_dir = \"../data/raw/chest_xray\"\n",
    "batch_size = 32\n",
    "epochs = 5\n",
    "learning_rate = 1e-3 # \n",
    "img_size = 224 #\n",
    "n_channels = 1 \n",
    "\n",
    "# get device for training\n",
    "#device  = torch.accelerator.current_accelerator().type if torch.accelerator.is_available() else \"cpu\"\n",
    "device = \"cuda\" if torch.cuda.is_available() else \"cpu\""
   ]
  },
  {
   "cell_type": "markdown",
   "id": "aaa39e58",
   "metadata": {},
   "source": [
    "## Load data\n",
    "The training data is augmented to improve performance and balanced through resampling"
   ]
  },
  {
   "cell_type": "code",
   "execution_count": 3,
   "id": "fc92259b",
   "metadata": {},
   "outputs": [],
   "source": [
    "# augment and balance the data\n",
    "\n",
    "train_transform = get_transforms(img_size,to_rgb=False,augment=True)\n",
    "val_transform = get_transforms(img_size,to_rgb=False, augment=False)\n",
    "# set num_workers to 0, safer on Windows with CPU\n",
    "train_dataloader = get_dataloader(os.path.join(data_dir,'train'), batch_size=batch_size, num_workers=0,transform=train_transform,balance=True)\n",
    "val_dataloader = get_dataloader(os.path.join(data_dir,'val'), batch_size=batch_size, num_workers=0,transform=val_transform)\n",
    "test_dataloader = get_dataloader(os.path.join(data_dir,'test'), batch_size=batch_size, num_workers=0,transform=val_transform)"
   ]
  },
  {
   "cell_type": "markdown",
   "id": "c6da57de",
   "metadata": {},
   "source": [
    "## MobilenetV2 model (gradual unfreezing layers)\n",
    "Use a pre-trained MobileNetV2 model and initially freeze all layers except the first layer (if using grayscale images) and the final classification head. After a few epochs, fine-tune the model further by unfreezing some of the deeper layers, and continue training at a lower learning rate.\n",
    "\n",
    "### Model Setup"
   ]
  },
  {
   "cell_type": "code",
   "execution_count": 4,
   "id": "3e681a1f",
   "metadata": {},
   "outputs": [
    {
     "data": {
      "text/plain": [
       "====================================================================================================\n",
       "Layer (type:depth-idx)                             Output Shape              Param #\n",
       "====================================================================================================\n",
       "MobileNetV2                                        [32, 1]                   --\n",
       "├─Sequential: 1-1                                  [32, 1280, 7, 7]          --\n",
       "│    └─Conv2dNormActivation: 2-1                   [32, 32, 112, 112]        --\n",
       "│    │    └─Conv2d: 3-1                            [32, 32, 112, 112]        288\n",
       "│    │    └─BatchNorm2d: 3-2                       [32, 32, 112, 112]        (64)\n",
       "│    │    └─ReLU6: 3-3                             [32, 32, 112, 112]        --\n",
       "│    └─InvertedResidual: 2-2                       [32, 16, 112, 112]        --\n",
       "│    │    └─Sequential: 3-4                        [32, 16, 112, 112]        (896)\n",
       "│    └─InvertedResidual: 2-3                       [32, 24, 56, 56]          --\n",
       "│    │    └─Sequential: 3-5                        [32, 24, 56, 56]          (5,136)\n",
       "│    └─InvertedResidual: 2-4                       [32, 24, 56, 56]          --\n",
       "│    │    └─Sequential: 3-6                        [32, 24, 56, 56]          (8,832)\n",
       "│    └─InvertedResidual: 2-5                       [32, 32, 28, 28]          --\n",
       "│    │    └─Sequential: 3-7                        [32, 32, 28, 28]          (10,000)\n",
       "│    └─InvertedResidual: 2-6                       [32, 32, 28, 28]          --\n",
       "│    │    └─Sequential: 3-8                        [32, 32, 28, 28]          (14,848)\n",
       "│    └─InvertedResidual: 2-7                       [32, 32, 28, 28]          --\n",
       "│    │    └─Sequential: 3-9                        [32, 32, 28, 28]          (14,848)\n",
       "│    └─InvertedResidual: 2-8                       [32, 64, 14, 14]          --\n",
       "│    │    └─Sequential: 3-10                       [32, 64, 14, 14]          (21,056)\n",
       "│    └─InvertedResidual: 2-9                       [32, 64, 14, 14]          --\n",
       "│    │    └─Sequential: 3-11                       [32, 64, 14, 14]          (54,272)\n",
       "│    └─InvertedResidual: 2-10                      [32, 64, 14, 14]          --\n",
       "│    │    └─Sequential: 3-12                       [32, 64, 14, 14]          (54,272)\n",
       "│    └─InvertedResidual: 2-11                      [32, 64, 14, 14]          --\n",
       "│    │    └─Sequential: 3-13                       [32, 64, 14, 14]          (54,272)\n",
       "│    └─InvertedResidual: 2-12                      [32, 96, 14, 14]          --\n",
       "│    │    └─Sequential: 3-14                       [32, 96, 14, 14]          (66,624)\n",
       "│    └─InvertedResidual: 2-13                      [32, 96, 14, 14]          --\n",
       "│    │    └─Sequential: 3-15                       [32, 96, 14, 14]          (118,272)\n",
       "│    └─InvertedResidual: 2-14                      [32, 96, 14, 14]          --\n",
       "│    │    └─Sequential: 3-16                       [32, 96, 14, 14]          (118,272)\n",
       "│    └─InvertedResidual: 2-15                      [32, 160, 7, 7]           --\n",
       "│    │    └─Sequential: 3-17                       [32, 160, 7, 7]           (155,264)\n",
       "│    └─InvertedResidual: 2-16                      [32, 160, 7, 7]           --\n",
       "│    │    └─Sequential: 3-18                       [32, 160, 7, 7]           (320,000)\n",
       "│    └─InvertedResidual: 2-17                      [32, 160, 7, 7]           --\n",
       "│    │    └─Sequential: 3-19                       [32, 160, 7, 7]           (320,000)\n",
       "│    └─InvertedResidual: 2-18                      [32, 320, 7, 7]           --\n",
       "│    │    └─Sequential: 3-20                       [32, 320, 7, 7]           (473,920)\n",
       "│    └─Conv2dNormActivation: 2-19                  [32, 1280, 7, 7]          --\n",
       "│    │    └─Conv2d: 3-21                           [32, 1280, 7, 7]          (409,600)\n",
       "│    │    └─BatchNorm2d: 3-22                      [32, 1280, 7, 7]          (2,560)\n",
       "│    │    └─ReLU6: 3-23                            [32, 1280, 7, 7]          --\n",
       "├─Sequential: 1-2                                  [32, 1]                   --\n",
       "│    └─Dropout: 2-20                               [32, 1280]                --\n",
       "│    └─Linear: 2-21                                [32, 1]                   1,281\n",
       "====================================================================================================\n",
       "Total params: 2,224,577\n",
       "Trainable params: 1,569\n",
       "Non-trainable params: 2,223,008\n",
       "Total mult-adds (Units.GIGABYTES): 9.35\n",
       "====================================================================================================\n",
       "Input size (MB): 6.42\n",
       "Forward/backward pass size (MB): 3419.19\n",
       "Params size (MB): 8.90\n",
       "Estimated Total Size (MB): 3434.51\n",
       "===================================================================================================="
      ]
     },
     "execution_count": 4,
     "metadata": {},
     "output_type": "execute_result"
    }
   ],
   "source": [
    "model_mobilenet_freeze = mobilenet.get_mobilenet(pretrained=True, grayscale=True, freeze=True).to(device)\n",
    "\n",
    "# loss function\n",
    "loss_function = torch.nn.BCEWithLogitsLoss()\n",
    "\n",
    "head_params = [\n",
    "    {'params': model_mobilenet_freeze.features[0][0].parameters(),'lr':learning_rate},\n",
    "    {'params': model_mobilenet_freeze.classifier.parameters(),'lr': learning_rate}\n",
    "    ]\n",
    "#optimizer with weightdecay\n",
    "# use AdamW optimizer as it decouples weight decay from gradient update, leading to more consistent regularization and better generalization than the Adam optimizer\n",
    "optimizer = torch.optim.AdamW(head_params, weight_decay=1e-4)\n",
    "\n",
    "# learning rate scheduler\n",
    "scheduler = torch.optim.lr_scheduler.CosineAnnealingLR(optimizer, T_max=epochs)\n",
    "\n",
    "# print the model summary\n",
    "summary(model_mobilenet_freeze,input_size=[batch_size,n_channels,img_size,img_size])"
   ]
  },
  {
   "cell_type": "markdown",
   "id": "64f5504a",
   "metadata": {},
   "source": [
    "### Train model (warm-up stage)"
   ]
  },
  {
   "cell_type": "code",
   "execution_count": 5,
   "id": "0cf22900",
   "metadata": {},
   "outputs": [
    {
     "name": "stdout",
     "output_type": "stream",
     "text": [
      " Epoch 1 / 5:\n"
     ]
    },
    {
     "name": "stderr",
     "output_type": "stream",
     "text": [
      "Training: 100%|██████████| 163/163 [11:49<00:00,  4.35s/it]\n"
     ]
    },
    {
     "name": "stdout",
     "output_type": "stream",
     "text": [
      "  Average train loss:0.432381  \n",
      " Accuracy on the train dataset: 83.44%\n"
     ]
    },
    {
     "name": "stderr",
     "output_type": "stream",
     "text": [
      "Validation: 100%|██████████| 20/20 [00:28<00:00,  1.41s/it]\n"
     ]
    },
    {
     "name": "stdout",
     "output_type": "stream",
     "text": [
      "  Average val loss:0.375787  \n",
      " Accuracy on the validation dataset: 84.29%\n",
      " Epoch 2 / 5:\n"
     ]
    },
    {
     "name": "stderr",
     "output_type": "stream",
     "text": [
      "Training: 100%|██████████| 163/163 [10:25<00:00,  3.84s/it]\n"
     ]
    },
    {
     "name": "stdout",
     "output_type": "stream",
     "text": [
      "  Average train loss:0.311526  \n",
      " Accuracy on the train dataset: 88.09%\n"
     ]
    },
    {
     "name": "stderr",
     "output_type": "stream",
     "text": [
      "Validation: 100%|██████████| 20/20 [00:25<00:00,  1.26s/it]\n"
     ]
    },
    {
     "name": "stdout",
     "output_type": "stream",
     "text": [
      "  Average val loss:0.325545  \n",
      " Accuracy on the validation dataset: 86.22%\n",
      " Epoch 3 / 5:\n"
     ]
    },
    {
     "name": "stderr",
     "output_type": "stream",
     "text": [
      "Training: 100%|██████████| 163/163 [10:21<00:00,  3.81s/it]\n"
     ]
    },
    {
     "name": "stdout",
     "output_type": "stream",
     "text": [
      "  Average train loss:0.292694  \n",
      " Accuracy on the train dataset: 88.65%\n"
     ]
    },
    {
     "name": "stderr",
     "output_type": "stream",
     "text": [
      "Validation: 100%|██████████| 20/20 [00:26<00:00,  1.30s/it]\n"
     ]
    },
    {
     "name": "stdout",
     "output_type": "stream",
     "text": [
      "  Average val loss:0.352207  \n",
      " Accuracy on the validation dataset: 83.65%\n",
      " Epoch 4 / 5:\n"
     ]
    },
    {
     "name": "stderr",
     "output_type": "stream",
     "text": [
      "Training: 100%|██████████| 163/163 [10:23<00:00,  3.82s/it]\n"
     ]
    },
    {
     "name": "stdout",
     "output_type": "stream",
     "text": [
      "  Average train loss:0.272131  \n",
      " Accuracy on the train dataset: 89.53%\n"
     ]
    },
    {
     "name": "stderr",
     "output_type": "stream",
     "text": [
      "Validation: 100%|██████████| 20/20 [00:25<00:00,  1.26s/it]\n"
     ]
    },
    {
     "name": "stdout",
     "output_type": "stream",
     "text": [
      "  Average val loss:0.330153  \n",
      " Accuracy on the validation dataset: 86.22%\n",
      " Epoch 5 / 5:\n"
     ]
    },
    {
     "name": "stderr",
     "output_type": "stream",
     "text": [
      "Training: 100%|██████████| 163/163 [10:18<00:00,  3.80s/it]\n"
     ]
    },
    {
     "name": "stdout",
     "output_type": "stream",
     "text": [
      "  Average train loss:0.263433  \n",
      " Accuracy on the train dataset: 90.05%\n"
     ]
    },
    {
     "name": "stderr",
     "output_type": "stream",
     "text": [
      "Validation: 100%|██████████| 20/20 [00:25<00:00,  1.26s/it]"
     ]
    },
    {
     "name": "stdout",
     "output_type": "stream",
     "text": [
      "  Average val loss:0.313231  \n",
      " Accuracy on the validation dataset: 87.66%\n",
      "Done!\n"
     ]
    },
    {
     "name": "stderr",
     "output_type": "stream",
     "text": [
      "\n"
     ]
    }
   ],
   "source": [
    "metrics_history_mobilenet_warmup = train_model(model_mobilenet_freeze,train_dataloader,test_dataloader,optimizer, loss_function,device,epochs=epochs,scheduler=scheduler)"
   ]
  },
  {
   "cell_type": "markdown",
   "id": "3ee15b39",
   "metadata": {},
   "source": [
    "### Train Model (gradual unfreeze)\n",
    "Unfreeze the last block and train for 5 epochs"
   ]
  },
  {
   "cell_type": "code",
   "execution_count": 6,
   "id": "009f7ea5",
   "metadata": {},
   "outputs": [
    {
     "name": "stdout",
     "output_type": "stream",
     "text": [
      " Epoch 1 / 5:\n"
     ]
    },
    {
     "name": "stderr",
     "output_type": "stream",
     "text": [
      "Training: 100%|██████████| 163/163 [11:03<00:00,  4.07s/it]\n"
     ]
    },
    {
     "name": "stdout",
     "output_type": "stream",
     "text": [
      "  Average train loss:0.256610  \n",
      " Accuracy on the train dataset: 90.43%\n"
     ]
    },
    {
     "name": "stderr",
     "output_type": "stream",
     "text": [
      "Validation: 100%|██████████| 20/20 [00:26<00:00,  1.33s/it]\n"
     ]
    },
    {
     "name": "stdout",
     "output_type": "stream",
     "text": [
      "  Average val loss:0.292555  \n",
      " Accuracy on the validation dataset: 88.94%\n",
      " Epoch 2 / 5:\n"
     ]
    },
    {
     "name": "stderr",
     "output_type": "stream",
     "text": [
      "Training: 100%|██████████| 163/163 [11:03<00:00,  4.07s/it]\n"
     ]
    },
    {
     "name": "stdout",
     "output_type": "stream",
     "text": [
      "  Average train loss:0.213824  \n",
      " Accuracy on the train dataset: 91.37%\n"
     ]
    },
    {
     "name": "stderr",
     "output_type": "stream",
     "text": [
      "Validation: 100%|██████████| 20/20 [00:25<00:00,  1.26s/it]\n"
     ]
    },
    {
     "name": "stdout",
     "output_type": "stream",
     "text": [
      "  Average val loss:0.306820  \n",
      " Accuracy on the validation dataset: 87.34%\n",
      " Epoch 3 / 5:\n"
     ]
    },
    {
     "name": "stderr",
     "output_type": "stream",
     "text": [
      "Training: 100%|██████████| 163/163 [10:15<00:00,  3.77s/it]\n"
     ]
    },
    {
     "name": "stdout",
     "output_type": "stream",
     "text": [
      "  Average train loss:0.195986  \n",
      " Accuracy on the train dataset: 92.62%\n"
     ]
    },
    {
     "name": "stderr",
     "output_type": "stream",
     "text": [
      "Validation: 100%|██████████| 20/20 [00:25<00:00,  1.26s/it]\n"
     ]
    },
    {
     "name": "stdout",
     "output_type": "stream",
     "text": [
      "  Average val loss:0.310509  \n",
      " Accuracy on the validation dataset: 88.14%\n",
      " Epoch 4 / 5:\n"
     ]
    },
    {
     "name": "stderr",
     "output_type": "stream",
     "text": [
      "Training: 100%|██████████| 163/163 [10:20<00:00,  3.81s/it]\n"
     ]
    },
    {
     "name": "stdout",
     "output_type": "stream",
     "text": [
      "  Average train loss:0.194279  \n",
      " Accuracy on the train dataset: 92.60%\n"
     ]
    },
    {
     "name": "stderr",
     "output_type": "stream",
     "text": [
      "Validation: 100%|██████████| 20/20 [00:25<00:00,  1.26s/it]\n"
     ]
    },
    {
     "name": "stdout",
     "output_type": "stream",
     "text": [
      "  Average val loss:0.292964  \n",
      " Accuracy on the validation dataset: 88.14%\n",
      " Epoch 5 / 5:\n"
     ]
    },
    {
     "name": "stderr",
     "output_type": "stream",
     "text": [
      "Training: 100%|██████████| 163/163 [10:14<00:00,  3.77s/it]\n"
     ]
    },
    {
     "name": "stdout",
     "output_type": "stream",
     "text": [
      "  Average train loss:0.174633  \n",
      " Accuracy on the train dataset: 93.52%\n"
     ]
    },
    {
     "name": "stderr",
     "output_type": "stream",
     "text": [
      "Validation: 100%|██████████| 20/20 [00:25<00:00,  1.26s/it]"
     ]
    },
    {
     "name": "stdout",
     "output_type": "stream",
     "text": [
      "  Average val loss:0.298988  \n",
      " Accuracy on the validation dataset: 88.62%\n",
      "Done!\n"
     ]
    },
    {
     "name": "stderr",
     "output_type": "stream",
     "text": [
      "\n"
     ]
    }
   ],
   "source": [
    "# unfreeze the last block\n",
    "unfreeze_layers(model_mobilenet_freeze, [18], prefix='features')\n",
    "\n",
    "# loss function\n",
    "loss_function = torch.nn.BCEWithLogitsLoss()\n",
    "\n",
    "optimizer = get_optimizer(model_mobilenet_freeze, backbone_lr=1e-4, head_lr=1e-3,backbone_prefixes=('features'), head_prefixes=('classifier',),weight_decay=1e-4)\n",
    "\n",
    "# learning rate scheduler\n",
    "scheduler = torch.optim.lr_scheduler.CosineAnnealingLR(optimizer, T_max=epochs)\n",
    "metrics_history_mobilenet_unfreeze = train_model(model_mobilenet_freeze,train_dataloader,test_dataloader,optimizer, loss_function,device,epochs=epochs,scheduler=scheduler)"
   ]
  },
  {
   "cell_type": "markdown",
   "id": "4dc0dff6",
   "metadata": {},
   "source": [
    "Unfreeze the blocks 16 and 17 and train for 10 epochs"
   ]
  },
  {
   "cell_type": "code",
   "execution_count": 7,
   "id": "83db2520",
   "metadata": {},
   "outputs": [
    {
     "name": "stdout",
     "output_type": "stream",
     "text": [
      " Epoch 1 / 10:\n"
     ]
    },
    {
     "name": "stderr",
     "output_type": "stream",
     "text": [
      "Training: 100%|██████████| 163/163 [11:39<00:00,  4.29s/it]\n"
     ]
    },
    {
     "name": "stdout",
     "output_type": "stream",
     "text": [
      "  Average train loss:0.159218  \n",
      " Accuracy on the train dataset: 93.81%\n"
     ]
    },
    {
     "name": "stderr",
     "output_type": "stream",
     "text": [
      "Validation: 100%|██████████| 20/20 [00:28<00:00,  1.41s/it]\n"
     ]
    },
    {
     "name": "stdout",
     "output_type": "stream",
     "text": [
      "  Average val loss:0.268464  \n",
      " Accuracy on the validation dataset: 89.74%\n",
      " Epoch 2 / 10:\n"
     ]
    },
    {
     "name": "stderr",
     "output_type": "stream",
     "text": [
      "Training: 100%|██████████| 163/163 [11:45<00:00,  4.33s/it]\n"
     ]
    },
    {
     "name": "stdout",
     "output_type": "stream",
     "text": [
      "  Average train loss:0.145025  \n",
      " Accuracy on the train dataset: 94.57%\n"
     ]
    },
    {
     "name": "stderr",
     "output_type": "stream",
     "text": [
      "Validation: 100%|██████████| 20/20 [00:27<00:00,  1.38s/it]\n"
     ]
    },
    {
     "name": "stdout",
     "output_type": "stream",
     "text": [
      "  Average val loss:0.295656  \n",
      " Accuracy on the validation dataset: 88.46%\n",
      " Epoch 3 / 10:\n"
     ]
    },
    {
     "name": "stderr",
     "output_type": "stream",
     "text": [
      "Training: 100%|██████████| 163/163 [11:46<00:00,  4.33s/it]\n"
     ]
    },
    {
     "name": "stdout",
     "output_type": "stream",
     "text": [
      "  Average train loss:0.128804  \n",
      " Accuracy on the train dataset: 95.34%\n"
     ]
    },
    {
     "name": "stderr",
     "output_type": "stream",
     "text": [
      "Validation: 100%|██████████| 20/20 [00:27<00:00,  1.39s/it]\n"
     ]
    },
    {
     "name": "stdout",
     "output_type": "stream",
     "text": [
      "  Average val loss:0.318464  \n",
      " Accuracy on the validation dataset: 88.78%\n",
      " Epoch 4 / 10:\n"
     ]
    },
    {
     "name": "stderr",
     "output_type": "stream",
     "text": [
      "Training: 100%|██████████| 163/163 [10:17<00:00,  3.79s/it]\n"
     ]
    },
    {
     "name": "stdout",
     "output_type": "stream",
     "text": [
      "  Average train loss:0.122613  \n",
      " Accuracy on the train dataset: 95.38%\n"
     ]
    },
    {
     "name": "stderr",
     "output_type": "stream",
     "text": [
      "Validation: 100%|██████████| 20/20 [00:25<00:00,  1.25s/it]\n"
     ]
    },
    {
     "name": "stdout",
     "output_type": "stream",
     "text": [
      "  Average val loss:0.307849  \n",
      " Accuracy on the validation dataset: 89.26%\n",
      " Epoch 5 / 10:\n"
     ]
    },
    {
     "name": "stderr",
     "output_type": "stream",
     "text": [
      "Training: 100%|██████████| 163/163 [10:09<00:00,  3.74s/it]\n"
     ]
    },
    {
     "name": "stdout",
     "output_type": "stream",
     "text": [
      "  Average train loss:0.117871  \n",
      " Accuracy on the train dataset: 96.13%\n"
     ]
    },
    {
     "name": "stderr",
     "output_type": "stream",
     "text": [
      "Validation: 100%|██████████| 20/20 [00:25<00:00,  1.27s/it]\n"
     ]
    },
    {
     "name": "stdout",
     "output_type": "stream",
     "text": [
      "  Average val loss:0.288648  \n",
      " Accuracy on the validation dataset: 89.42%\n",
      " Epoch 6 / 10:\n"
     ]
    },
    {
     "name": "stderr",
     "output_type": "stream",
     "text": [
      "Training: 100%|██████████| 163/163 [10:11<00:00,  3.75s/it]\n"
     ]
    },
    {
     "name": "stdout",
     "output_type": "stream",
     "text": [
      "  Average train loss:0.107197  \n",
      " Accuracy on the train dataset: 96.05%\n"
     ]
    },
    {
     "name": "stderr",
     "output_type": "stream",
     "text": [
      "Validation: 100%|██████████| 20/20 [00:25<00:00,  1.27s/it]\n"
     ]
    },
    {
     "name": "stdout",
     "output_type": "stream",
     "text": [
      "  Average val loss:0.277649  \n",
      " Accuracy on the validation dataset: 90.06%\n",
      " Epoch 7 / 10:\n"
     ]
    },
    {
     "name": "stderr",
     "output_type": "stream",
     "text": [
      "Training: 100%|██████████| 163/163 [10:11<00:00,  3.75s/it]\n"
     ]
    },
    {
     "name": "stdout",
     "output_type": "stream",
     "text": [
      "  Average train loss:0.117616  \n",
      " Accuracy on the train dataset: 95.82%\n"
     ]
    },
    {
     "name": "stderr",
     "output_type": "stream",
     "text": [
      "Validation: 100%|██████████| 20/20 [00:25<00:00,  1.26s/it]\n"
     ]
    },
    {
     "name": "stdout",
     "output_type": "stream",
     "text": [
      "  Average val loss:0.297220  \n",
      " Accuracy on the validation dataset: 89.26%\n",
      " Epoch 8 / 10:\n"
     ]
    },
    {
     "name": "stderr",
     "output_type": "stream",
     "text": [
      "Training: 100%|██████████| 163/163 [10:05<00:00,  3.72s/it]\n"
     ]
    },
    {
     "name": "stdout",
     "output_type": "stream",
     "text": [
      "  Average train loss:0.112713  \n",
      " Accuracy on the train dataset: 95.59%\n"
     ]
    },
    {
     "name": "stderr",
     "output_type": "stream",
     "text": [
      "Validation: 100%|██████████| 20/20 [00:25<00:00,  1.26s/it]\n"
     ]
    },
    {
     "name": "stdout",
     "output_type": "stream",
     "text": [
      "  Average val loss:0.318909  \n",
      " Accuracy on the validation dataset: 88.94%\n",
      " Epoch 9 / 10:\n"
     ]
    },
    {
     "name": "stderr",
     "output_type": "stream",
     "text": [
      "Training: 100%|██████████| 163/163 [10:12<00:00,  3.76s/it]\n"
     ]
    },
    {
     "name": "stdout",
     "output_type": "stream",
     "text": [
      "  Average train loss:0.119088  \n",
      " Accuracy on the train dataset: 95.69%\n"
     ]
    },
    {
     "name": "stderr",
     "output_type": "stream",
     "text": [
      "Validation: 100%|██████████| 20/20 [00:25<00:00,  1.26s/it]\n"
     ]
    },
    {
     "name": "stdout",
     "output_type": "stream",
     "text": [
      "  Average val loss:0.281881  \n",
      " Accuracy on the validation dataset: 88.94%\n",
      " Epoch 10 / 10:\n"
     ]
    },
    {
     "name": "stderr",
     "output_type": "stream",
     "text": [
      "Training: 100%|██████████| 163/163 [10:11<00:00,  3.75s/it]\n"
     ]
    },
    {
     "name": "stdout",
     "output_type": "stream",
     "text": [
      "  Average train loss:0.116225  \n",
      " Accuracy on the train dataset: 95.51%\n"
     ]
    },
    {
     "name": "stderr",
     "output_type": "stream",
     "text": [
      "Validation: 100%|██████████| 20/20 [00:25<00:00,  1.26s/it]"
     ]
    },
    {
     "name": "stdout",
     "output_type": "stream",
     "text": [
      "  Average val loss:0.263973  \n",
      " Accuracy on the validation dataset: 90.54%\n",
      "Done!\n"
     ]
    },
    {
     "name": "stderr",
     "output_type": "stream",
     "text": [
      "\n"
     ]
    }
   ],
   "source": [
    "# unfreeze blocks 16 and 17\n",
    "unfreeze_layers(model_mobilenet_freeze, [16,17], prefix='features')\n",
    "\n",
    "# loss function\n",
    "loss_function = torch.nn.BCEWithLogitsLoss()\n",
    "\n",
    "optimizer = get_optimizer(model_mobilenet_freeze, backbone_lr=1e-4, head_lr=1e-3,backbone_prefixes=('features'), head_prefixes=('classifier',),weight_decay=1e-4)\n",
    "\n",
    "# learning rate scheduler\n",
    "scheduler = torch.optim.lr_scheduler.CosineAnnealingLR(optimizer, T_max=epochs)\n",
    "\n",
    "#train\n",
    "metrics_history_mobilenet_unfreeze = train_model(model_mobilenet_freeze,train_dataloader,test_dataloader,optimizer, loss_function,device,epochs=2*epochs,scheduler=scheduler)"
   ]
  },
  {
   "cell_type": "markdown",
   "id": "5840d49c",
   "metadata": {},
   "source": [
    "For the final stage of gradual unfreezing, train the entire model: unfreeze all backbone layers and set the optimzer such that a lower LR for the backbone is used and a higher LR for the classifier"
   ]
  },
  {
   "cell_type": "code",
   "execution_count": 9,
   "id": "a3759fd8",
   "metadata": {},
   "outputs": [
    {
     "name": "stdout",
     "output_type": "stream",
     "text": [
      " Epoch 1 / 5:\n"
     ]
    },
    {
     "name": "stderr",
     "output_type": "stream",
     "text": [
      "Training: 100%|██████████| 163/163 [11:28<00:00,  4.23s/it]\n"
     ]
    },
    {
     "name": "stdout",
     "output_type": "stream",
     "text": [
      "  Average train loss:0.101519  \n",
      " Accuracy on the train dataset: 96.13%\n"
     ]
    },
    {
     "name": "stderr",
     "output_type": "stream",
     "text": [
      "Validation: 100%|██████████| 20/20 [00:30<00:00,  1.50s/it]\n"
     ]
    },
    {
     "name": "stdout",
     "output_type": "stream",
     "text": [
      "  Average val loss:0.244623  \n",
      " Accuracy on the validation dataset: 89.58%\n",
      " Epoch 2 / 5:\n"
     ]
    },
    {
     "name": "stderr",
     "output_type": "stream",
     "text": [
      "Training: 100%|██████████| 163/163 [10:57<00:00,  4.03s/it]\n"
     ]
    },
    {
     "name": "stdout",
     "output_type": "stream",
     "text": [
      "  Average train loss:0.078538  \n",
      " Accuracy on the train dataset: 97.03%\n"
     ]
    },
    {
     "name": "stderr",
     "output_type": "stream",
     "text": [
      "Validation: 100%|██████████| 20/20 [00:24<00:00,  1.23s/it]\n"
     ]
    },
    {
     "name": "stdout",
     "output_type": "stream",
     "text": [
      "  Average val loss:0.371003  \n",
      " Accuracy on the validation dataset: 88.78%\n",
      " Epoch 3 / 5:\n"
     ]
    },
    {
     "name": "stderr",
     "output_type": "stream",
     "text": [
      "Training: 100%|██████████| 163/163 [10:40<00:00,  3.93s/it]\n"
     ]
    },
    {
     "name": "stdout",
     "output_type": "stream",
     "text": [
      "  Average train loss:0.079174  \n",
      " Accuracy on the train dataset: 97.11%\n"
     ]
    },
    {
     "name": "stderr",
     "output_type": "stream",
     "text": [
      "Validation: 100%|██████████| 20/20 [00:24<00:00,  1.22s/it]\n"
     ]
    },
    {
     "name": "stdout",
     "output_type": "stream",
     "text": [
      "  Average val loss:0.334155  \n",
      " Accuracy on the validation dataset: 88.30%\n",
      " Epoch 4 / 5:\n"
     ]
    },
    {
     "name": "stderr",
     "output_type": "stream",
     "text": [
      "Training: 100%|██████████| 163/163 [10:30<00:00,  3.87s/it]\n"
     ]
    },
    {
     "name": "stdout",
     "output_type": "stream",
     "text": [
      "  Average train loss:0.067174  \n",
      " Accuracy on the train dataset: 97.60%\n"
     ]
    },
    {
     "name": "stderr",
     "output_type": "stream",
     "text": [
      "Validation: 100%|██████████| 20/20 [00:24<00:00,  1.23s/it]\n"
     ]
    },
    {
     "name": "stdout",
     "output_type": "stream",
     "text": [
      "  Average val loss:0.293100  \n",
      " Accuracy on the validation dataset: 90.38%\n",
      " Epoch 5 / 5:\n"
     ]
    },
    {
     "name": "stderr",
     "output_type": "stream",
     "text": [
      "Training: 100%|██████████| 163/163 [10:32<00:00,  3.88s/it]\n"
     ]
    },
    {
     "name": "stdout",
     "output_type": "stream",
     "text": [
      "  Average train loss:0.055453  \n",
      " Accuracy on the train dataset: 97.89%\n"
     ]
    },
    {
     "name": "stderr",
     "output_type": "stream",
     "text": [
      "Validation: 100%|██████████| 20/20 [00:24<00:00,  1.24s/it]"
     ]
    },
    {
     "name": "stdout",
     "output_type": "stream",
     "text": [
      "  Average val loss:0.319673  \n",
      " Accuracy on the validation dataset: 89.42%\n",
      "Done!\n"
     ]
    },
    {
     "name": "stderr",
     "output_type": "stream",
     "text": [
      "\n"
     ]
    }
   ],
   "source": [
    "# Unfreeze all layers (classifier already unfrozen)\n",
    "for param in model_mobilenet_freeze.parameters():\n",
    "    param.requires_grad = True\n",
    "# loss function\n",
    "loss_function = torch.nn.BCEWithLogitsLoss()\n",
    "\n",
    "optimizer = get_optimizer(model_mobilenet_freeze, backbone_lr =1e-4, head_lr=1e-3,backbone_prefixes=('features',),head_prefixes=('classifier',))\n",
    "# learning rate scheduler\n",
    "scheduler = torch.optim.lr_scheduler.CosineAnnealingLR(optimizer, T_max=epochs)\n",
    "\n",
    "# train\n",
    "metrics_history_mobilenet_final = train_model(model_mobilenet_freeze,train_dataloader,test_dataloader,optimizer, loss_function,device,epochs=epochs,scheduler=scheduler)"
   ]
  },
  {
   "cell_type": "markdown",
   "id": "fb444fef",
   "metadata": {},
   "source": [
    "### Save the model"
   ]
  },
  {
   "cell_type": "code",
   "execution_count": 10,
   "id": "5c7bb1f8",
   "metadata": {},
   "outputs": [],
   "source": [
    "# only save model weights\n",
    "torch.save(model_mobilenet_freeze.state_dict(),'../models/mobilenet_gradual_unfreeze_25ep_weights.pth')"
   ]
  },
  {
   "cell_type": "markdown",
   "id": "a8b7e7a8",
   "metadata": {},
   "source": [
    "### Results"
   ]
  },
  {
   "cell_type": "code",
   "execution_count": 11,
   "id": "44648261",
   "metadata": {},
   "outputs": [
    {
     "name": "stderr",
     "output_type": "stream",
     "text": [
      "Validation: 100%|██████████| 20/20 [00:27<00:00,  1.36s/it]\n"
     ]
    },
    {
     "name": "stdout",
     "output_type": "stream",
     "text": [
      "Accuracy on the test set: 89.42%\n",
      "Precision: 0.87, Recall: 0.98, F1 score: 0.92, AUC: 0.86\n",
      "classification_report :              precision    recall  f1-score   support\n",
      "\n",
      "           0       0.96      0.75      0.84       234\n",
      "           1       0.87      0.98      0.92       390\n",
      "\n",
      "    accuracy                           0.89       624\n",
      "   macro avg       0.91      0.86      0.88       624\n",
      "weighted avg       0.90      0.89      0.89       624\n",
      "\n"
     ]
    },
    {
     "data": {
      "image/png": "[encoded data removed]",
      "text/plain": [
       "<Figure size 1800x600 with 2 Axes>"
      ]
     },
     "metadata": {},
     "output_type": "display_data"
    },
    {
     "data": {
      "image/png": "[encoded data removed]",
      "text/plain": [
       "<Figure size 600x300 with 1 Axes>"
      ]
     },
     "metadata": {},
     "output_type": "display_data"
    },
    {
     "data": {
      "image/png": "[encoded data removed]",
      "text/plain": [
       "<Figure size 640x480 with 2 Axes>"
      ]
     },
     "metadata": {},
     "output_type": "display_data"
    }
   ],
   "source": [
    "plot_learningcurve(metrics_history_mobilenet_final)\n",
    "\n",
    "plot_learningrate(metrics_history_mobilenet_final['lrs'])\n",
    "\n",
    "eval_metrics_mobilenet_final = evaluate_model(model_mobilenet_freeze, test_dataloader, loss_function, device=\"cpu\")\n",
    "       \n",
    "print(f\"Accuracy on the test set: {eval_metrics_mobilenet_final['accuracy']:.2%}\")\n",
    "\n",
    "print(f\"Precision: {eval_metrics_mobilenet_final['precision']:.2f}, Recall: {eval_metrics_mobilenet_final['recall']:.2f}, F1 score: {eval_metrics_mobilenet_final['f1']:.2f}, AUC: {eval_metrics_mobilenet_final['auc']:.2f}\")\n",
    "\n",
    "print(f'classification_report :{eval_metrics_mobilenet_final['classification report']}')\n",
    "\n",
    "\n",
    "# Calculate the confusion matrix using the true labels and predicision for the complete test set\n",
    "plot_confusionmatrix(eval_metrics_mobilenet_final['confusion matrix'])"
   ]
  },
  {
   "cell_type": "markdown",
   "id": "887196c4",
   "metadata": {},
   "source": [
    "## MobileNetV2 (train all layers from beginning)\n",
    "Also try to train all layers of the pretrained MobileNetV2 model from the beginning. use different learning rates for:\n",
    "- backbone: lower LR\n",
    "- classifier and first conv: higher LR"
   ]
  },
  {
   "cell_type": "code",
   "execution_count": 12,
   "id": "6534ba16",
   "metadata": {},
   "outputs": [
    {
     "name": "stdout",
     "output_type": "stream",
     "text": [
      " Epoch 1 / 15:\n"
     ]
    },
    {
     "name": "stderr",
     "output_type": "stream",
     "text": [
      "Training: 100%|██████████| 163/163 [12:57<00:00,  4.77s/it]\n"
     ]
    },
    {
     "name": "stdout",
     "output_type": "stream",
     "text": [
      "  Average train loss:0.222878  \n",
      " Accuracy on the train dataset: 91.37%\n"
     ]
    },
    {
     "name": "stderr",
     "output_type": "stream",
     "text": [
      "Validation: 100%|██████████| 20/20 [00:27<00:00,  1.39s/it]\n"
     ]
    },
    {
     "name": "stdout",
     "output_type": "stream",
     "text": [
      "  Average val loss:0.315196  \n",
      " Accuracy on the validation dataset: 89.42%\n",
      " Epoch 2 / 15:\n"
     ]
    },
    {
     "name": "stderr",
     "output_type": "stream",
     "text": [
      "Training: 100%|██████████| 163/163 [11:31<00:00,  4.24s/it]\n"
     ]
    },
    {
     "name": "stdout",
     "output_type": "stream",
     "text": [
      "  Average train loss:0.103164  \n",
      " Accuracy on the train dataset: 96.15%\n"
     ]
    },
    {
     "name": "stderr",
     "output_type": "stream",
     "text": [
      "Validation: 100%|██████████| 20/20 [00:24<00:00,  1.25s/it]\n"
     ]
    },
    {
     "name": "stdout",
     "output_type": "stream",
     "text": [
      "  Average val loss:0.284577  \n",
      " Accuracy on the validation dataset: 89.42%\n",
      " Epoch 3 / 15:\n"
     ]
    },
    {
     "name": "stderr",
     "output_type": "stream",
     "text": [
      "Training: 100%|██████████| 163/163 [10:50<00:00,  3.99s/it]\n"
     ]
    },
    {
     "name": "stdout",
     "output_type": "stream",
     "text": [
      "  Average train loss:0.092810  \n",
      " Accuracy on the train dataset: 96.74%\n"
     ]
    },
    {
     "name": "stderr",
     "output_type": "stream",
     "text": [
      "Validation: 100%|██████████| 20/20 [00:24<00:00,  1.24s/it]\n"
     ]
    },
    {
     "name": "stdout",
     "output_type": "stream",
     "text": [
      "  Average val loss:0.316599  \n",
      " Accuracy on the validation dataset: 90.06%\n",
      " Epoch 4 / 15:\n"
     ]
    },
    {
     "name": "stderr",
     "output_type": "stream",
     "text": [
      "Training: 100%|██████████| 163/163 [10:58<00:00,  4.04s/it]\n"
     ]
    },
    {
     "name": "stdout",
     "output_type": "stream",
     "text": [
      "  Average train loss:0.074306  \n",
      " Accuracy on the train dataset: 97.41%\n"
     ]
    },
    {
     "name": "stderr",
     "output_type": "stream",
     "text": [
      "Validation: 100%|██████████| 20/20 [00:25<00:00,  1.26s/it]\n"
     ]
    },
    {
     "name": "stdout",
     "output_type": "stream",
     "text": [
      "  Average val loss:0.251241  \n",
      " Accuracy on the validation dataset: 91.99%\n",
      " Epoch 5 / 15:\n"
     ]
    },
    {
     "name": "stderr",
     "output_type": "stream",
     "text": [
      "Training: 100%|██████████| 163/163 [10:56<00:00,  4.03s/it]\n"
     ]
    },
    {
     "name": "stdout",
     "output_type": "stream",
     "text": [
      "  Average train loss:0.066881  \n",
      " Accuracy on the train dataset: 97.55%\n"
     ]
    },
    {
     "name": "stderr",
     "output_type": "stream",
     "text": [
      "Validation: 100%|██████████| 20/20 [00:24<00:00,  1.24s/it]\n"
     ]
    },
    {
     "name": "stdout",
     "output_type": "stream",
     "text": [
      "  Average val loss:0.227424  \n",
      " Accuracy on the validation dataset: 92.79%\n",
      " Epoch 6 / 15:\n"
     ]
    },
    {
     "name": "stderr",
     "output_type": "stream",
     "text": [
      "Training: 100%|██████████| 163/163 [10:46<00:00,  3.97s/it]\n"
     ]
    },
    {
     "name": "stdout",
     "output_type": "stream",
     "text": [
      "  Average train loss:0.058784  \n",
      " Accuracy on the train dataset: 97.97%\n"
     ]
    },
    {
     "name": "stderr",
     "output_type": "stream",
     "text": [
      "Validation: 100%|██████████| 20/20 [00:24<00:00,  1.24s/it]\n"
     ]
    },
    {
     "name": "stdout",
     "output_type": "stream",
     "text": [
      "  Average val loss:0.278546  \n",
      " Accuracy on the validation dataset: 92.47%\n",
      " Epoch 7 / 15:\n"
     ]
    },
    {
     "name": "stderr",
     "output_type": "stream",
     "text": [
      "Training: 100%|██████████| 163/163 [10:53<00:00,  4.01s/it]\n"
     ]
    },
    {
     "name": "stdout",
     "output_type": "stream",
     "text": [
      "  Average train loss:0.054664  \n",
      " Accuracy on the train dataset: 98.03%\n"
     ]
    },
    {
     "name": "stderr",
     "output_type": "stream",
     "text": [
      "Validation: 100%|██████████| 20/20 [00:26<00:00,  1.34s/it]\n"
     ]
    },
    {
     "name": "stdout",
     "output_type": "stream",
     "text": [
      "  Average val loss:0.321626  \n",
      " Accuracy on the validation dataset: 90.71%\n",
      " Epoch 8 / 15:\n"
     ]
    },
    {
     "name": "stderr",
     "output_type": "stream",
     "text": [
      "Training: 100%|██████████| 163/163 [11:25<00:00,  4.20s/it]\n"
     ]
    },
    {
     "name": "stdout",
     "output_type": "stream",
     "text": [
      "  Average train loss:0.044123  \n",
      " Accuracy on the train dataset: 98.47%\n"
     ]
    },
    {
     "name": "stderr",
     "output_type": "stream",
     "text": [
      "Validation: 100%|██████████| 20/20 [00:29<00:00,  1.48s/it]\n"
     ]
    },
    {
     "name": "stdout",
     "output_type": "stream",
     "text": [
      "  Average val loss:0.295543  \n",
      " Accuracy on the validation dataset: 92.79%\n",
      " Epoch 9 / 15:\n"
     ]
    },
    {
     "name": "stderr",
     "output_type": "stream",
     "text": [
      "Training: 100%|██████████| 163/163 [11:08<00:00,  4.10s/it]\n"
     ]
    },
    {
     "name": "stdout",
     "output_type": "stream",
     "text": [
      "  Average train loss:0.038341  \n",
      " Accuracy on the train dataset: 98.68%\n"
     ]
    },
    {
     "name": "stderr",
     "output_type": "stream",
     "text": [
      "Validation: 100%|██████████| 20/20 [00:24<00:00,  1.25s/it]\n"
     ]
    },
    {
     "name": "stdout",
     "output_type": "stream",
     "text": [
      "  Average val loss:0.320279  \n",
      " Accuracy on the validation dataset: 91.99%\n",
      " Epoch 10 / 15:\n"
     ]
    },
    {
     "name": "stderr",
     "output_type": "stream",
     "text": [
      "Training: 100%|██████████| 163/163 [10:52<00:00,  4.00s/it]\n"
     ]
    },
    {
     "name": "stdout",
     "output_type": "stream",
     "text": [
      "  Average train loss:0.041190  \n",
      " Accuracy on the train dataset: 98.43%\n"
     ]
    },
    {
     "name": "stderr",
     "output_type": "stream",
     "text": [
      "Validation: 100%|██████████| 20/20 [00:24<00:00,  1.24s/it]\n"
     ]
    },
    {
     "name": "stdout",
     "output_type": "stream",
     "text": [
      "  Average val loss:0.352211  \n",
      " Accuracy on the validation dataset: 91.51%\n",
      " Epoch 11 / 15:\n"
     ]
    },
    {
     "name": "stderr",
     "output_type": "stream",
     "text": [
      "Training: 100%|██████████| 163/163 [10:56<00:00,  4.03s/it]\n"
     ]
    },
    {
     "name": "stdout",
     "output_type": "stream",
     "text": [
      "  Average train loss:0.034309  \n",
      " Accuracy on the train dataset: 98.87%\n"
     ]
    },
    {
     "name": "stderr",
     "output_type": "stream",
     "text": [
      "Validation: 100%|██████████| 20/20 [00:24<00:00,  1.24s/it]\n"
     ]
    },
    {
     "name": "stdout",
     "output_type": "stream",
     "text": [
      "  Average val loss:0.416755  \n",
      " Accuracy on the validation dataset: 90.38%\n",
      " Epoch 12 / 15:\n"
     ]
    },
    {
     "name": "stderr",
     "output_type": "stream",
     "text": [
      "Training: 100%|██████████| 163/163 [10:52<00:00,  4.01s/it]\n"
     ]
    },
    {
     "name": "stdout",
     "output_type": "stream",
     "text": [
      "  Average train loss:0.031872  \n",
      " Accuracy on the train dataset: 98.73%\n"
     ]
    },
    {
     "name": "stderr",
     "output_type": "stream",
     "text": [
      "Validation: 100%|██████████| 20/20 [00:24<00:00,  1.24s/it]\n"
     ]
    },
    {
     "name": "stdout",
     "output_type": "stream",
     "text": [
      "  Average val loss:0.330204  \n",
      " Accuracy on the validation dataset: 92.15%\n",
      " Epoch 13 / 15:\n"
     ]
    },
    {
     "name": "stderr",
     "output_type": "stream",
     "text": [
      "Training: 100%|██████████| 163/163 [10:46<00:00,  3.97s/it]\n"
     ]
    },
    {
     "name": "stdout",
     "output_type": "stream",
     "text": [
      "  Average train loss:0.029921  \n",
      " Accuracy on the train dataset: 98.93%\n"
     ]
    },
    {
     "name": "stderr",
     "output_type": "stream",
     "text": [
      "Validation: 100%|██████████| 20/20 [00:24<00:00,  1.22s/it]\n"
     ]
    },
    {
     "name": "stdout",
     "output_type": "stream",
     "text": [
      "  Average val loss:0.397648  \n",
      " Accuracy on the validation dataset: 91.67%\n",
      " Epoch 14 / 15:\n"
     ]
    },
    {
     "name": "stderr",
     "output_type": "stream",
     "text": [
      "Training: 100%|██████████| 163/163 [10:44<00:00,  3.95s/it]\n"
     ]
    },
    {
     "name": "stdout",
     "output_type": "stream",
     "text": [
      "  Average train loss:0.031157  \n",
      " Accuracy on the train dataset: 98.85%\n"
     ]
    },
    {
     "name": "stderr",
     "output_type": "stream",
     "text": [
      "Validation: 100%|██████████| 20/20 [00:24<00:00,  1.22s/it]\n"
     ]
    },
    {
     "name": "stdout",
     "output_type": "stream",
     "text": [
      "  Average val loss:0.437067  \n",
      " Accuracy on the validation dataset: 90.71%\n",
      " Epoch 15 / 15:\n"
     ]
    },
    {
     "name": "stderr",
     "output_type": "stream",
     "text": [
      "Training: 100%|██████████| 163/163 [10:37<00:00,  3.91s/it]\n"
     ]
    },
    {
     "name": "stdout",
     "output_type": "stream",
     "text": [
      "  Average train loss:0.028063  \n",
      " Accuracy on the train dataset: 99.14%\n"
     ]
    },
    {
     "name": "stderr",
     "output_type": "stream",
     "text": [
      "Validation: 100%|██████████| 20/20 [00:24<00:00,  1.22s/it]"
     ]
    },
    {
     "name": "stdout",
     "output_type": "stream",
     "text": [
      "  Average val loss:0.464200  \n",
      " Accuracy on the validation dataset: 91.67%\n",
      "Done!\n"
     ]
    },
    {
     "name": "stderr",
     "output_type": "stream",
     "text": [
      "\n"
     ]
    }
   ],
   "source": [
    "epochs = 15\n",
    "\n",
    "model_mobilenet_all = mobilenet.get_mobilenet(pretrained=True, grayscale=True, freeze= False).to(device)\n",
    "\n",
    "# loss function\n",
    "loss_function = torch.nn.BCEWithLogitsLoss()\n",
    "\n",
    "optimizer = torch.optim.AdamW([\n",
    "        {'params': model_mobilenet_all.features.parameters(), 'lr': 1e-4},\n",
    "        {'params': model_mobilenet_all.classifier.parameters(), 'lr': 1e-3}\n",
    "    ], weight_decay=1e-4)\n",
    "\n",
    "metrics_history_mobilenet_all = train_model(model_mobilenet_all,train_dataloader,test_dataloader,optimizer, loss_function,device,epochs=epochs,scheduler=scheduler)"
   ]
  },
  {
   "cell_type": "markdown",
   "id": "3bca2d5e",
   "metadata": {},
   "source": [
    "### Save the model"
   ]
  },
  {
   "cell_type": "code",
   "execution_count": 13,
   "id": "3f23ce76",
   "metadata": {},
   "outputs": [],
   "source": [
    "torch.save(model_mobilenet_all.state_dict(),'../models/mobilenet_train_all_10ep_weights.pth')"
   ]
  },
  {
   "cell_type": "markdown",
   "id": "f1a5d15c",
   "metadata": {},
   "source": [
    "### Results"
   ]
  },
  {
   "cell_type": "code",
   "execution_count": 15,
   "id": "c9e06676",
   "metadata": {},
   "outputs": [
    {
     "name": "stderr",
     "output_type": "stream",
     "text": [
      "Validation: 100%|██████████| 20/20 [00:27<00:00,  1.38s/it]\n"
     ]
    },
    {
     "name": "stdout",
     "output_type": "stream",
     "text": [
      "Accuracy on the test set: 91.67%\n",
      "Precision: 0.89, Recall: 0.98, F1 score: 0.94, AUC: 0.89\n",
      "classification_report :              precision    recall  f1-score   support\n",
      "\n",
      "           0       0.96      0.81      0.88       234\n",
      "           1       0.89      0.98      0.94       390\n",
      "\n",
      "    accuracy                           0.92       624\n",
      "   macro avg       0.93      0.89      0.91       624\n",
      "weighted avg       0.92      0.92      0.91       624\n",
      "\n"
     ]
    },
    {
     "data": {
      "image/png": "[encoded data removed]",
      "text/plain": [
       "<Figure size 1800x600 with 2 Axes>"
      ]
     },
     "metadata": {},
     "output_type": "display_data"
    },
    {
     "data": {
      "image/png": "[encoded data removed]",
      "text/plain": [
       "<Figure size 600x300 with 1 Axes>"
      ]
     },
     "metadata": {},
     "output_type": "display_data"
    },
    {
     "data": {
      "image/png": "[encoded data removed]",
      "text/plain": [
       "<Figure size 640x480 with 2 Axes>"
      ]
     },
     "metadata": {},
     "output_type": "display_data"
    }
   ],
   "source": [
    "plot_learningcurve(metrics_history_mobilenet_all)\n",
    "\n",
    "plot_learningrate(metrics_history_mobilenet_all['lrs'])\n",
    "\n",
    "eval_metrics_mobilenet_all = evaluate_model(model_mobilenet_all, test_dataloader, loss_function, device=\"cpu\")\n",
    "       \n",
    "print(f\"Accuracy on the test set: {eval_metrics_mobilenet_all['accuracy']:.2%}\")\n",
    "\n",
    "print(f\"Precision: {eval_metrics_mobilenet_all['precision']:.2f}, Recall: {eval_metrics_mobilenet_all['recall']:.2f}, F1 score: {eval_metrics_mobilenet_all['f1']:.2f}, AUC: {eval_metrics_mobilenet_all['auc']:.2f}\")\n",
    "\n",
    "print(f'classification_report :{eval_metrics_mobilenet_all['classification report']}')\n",
    "\n",
    "\n",
    "# Calculate the confusion matrix using the true labels and predicision for the complete test set\n",
    "plot_confusionmatrix(eval_metrics_mobilenet_all['confusion matrix'])"
   ]
  },
  {
   "cell_type": "code",
   "execution_count": null,
   "id": "435c9c28",
   "metadata": {},
   "outputs": [],
   "source": []
  }
 ],
 "metadata": {
  "kernelspec": {
   "display_name": "deeplearning_pytorch",
   "language": "python",
   "name": "python3"
  },
  "language_info": {
   "codemirror_mode": {
    "name": "ipython",
    "version": 3
   },
   "file_extension": ".py",
   "mimetype": "text/x-python",
   "name": "python",
   "nbconvert_exporter": "python",
   "pygments_lexer": "ipython3",
   "version": "3.13.3"
  }
 },
 "nbformat": 4,
 "nbformat_minor": 5
}
