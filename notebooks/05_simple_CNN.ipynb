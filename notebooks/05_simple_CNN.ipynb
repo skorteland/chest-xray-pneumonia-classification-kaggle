{
 "cells": [
  {
   "cell_type": "markdown",
   "id": "d0bedde6",
   "metadata": {},
   "source": [
    "# A simple CNN"
   ]
  },
  {
   "cell_type": "markdown",
   "id": "f82490ad",
   "metadata": {},
   "source": [
    "Now let's test a model that is a little bit bigger than the tiny CNN: a 'simple' CNN, with three convolutional layers and two fully connected layers."
   ]
  },
  {
   "cell_type": "markdown",
   "id": "c56f26cf",
   "metadata": {},
   "source": [
    "## import required libraries"
   ]
  },
  {
   "cell_type": "code",
   "execution_count": 1,
   "id": "70aab055",
   "metadata": {},
   "outputs": [],
   "source": [
    "import os\n",
    "import sys\n",
    "import matplotlib.pyplot as plt\n",
    "import torch\n",
    "from torchinfo import summary\n",
    "from tqdm import tqdm\n",
    "\n",
    "module_path = os.path.abspath(os.path.join('..')) # project root\n",
    "# add project root to sys.path\n",
    "if module_path not in sys.path:\n",
    "    sys.path.append(module_path) \n",
    "from src.data_loader import get_dataloader\n",
    "from src.transforms import get_train_transforms, get_val_transforms\n",
    "from src.models import simplecnn\n",
    "from src.train import train_model\n",
    "from src.evaluate import evaluate_model\n",
    "from src.plot_metrics import plot_learningcurve, plot_confusionmatrix\n"
   ]
  },
  {
   "cell_type": "markdown",
   "id": "a11f39f1",
   "metadata": {},
   "source": [
    "## Configuration\n",
    "Set hyperparameters and device for training. Use GPU if available, otherwise use the CPU"
   ]
  },
  {
   "cell_type": "code",
   "execution_count": 2,
   "id": "7f07d137",
   "metadata": {},
   "outputs": [],
   "source": [
    "data_dir = \"../data/raw/chest_xray\"\n",
    "batch_size = 32\n",
    "epochs = 10\n",
    "learning_rate = 0.001\n",
    "img_size = 224 # make smaller for faster CPU training\n",
    "n_channels = 1 \n",
    "\n",
    "# get device for training\n",
    "#device  = torch.accelerator.current_accelerator().type if torch.accelerator.is_available() else \"cpu\"\n",
    "device = \"cuda\" if torch.cuda.is_available() else \"cpu\"\n"
   ]
  },
  {
   "cell_type": "markdown",
   "id": "740cc55d",
   "metadata": {},
   "source": [
    "## Load data"
   ]
  },
  {
   "cell_type": "code",
   "execution_count": 3,
   "id": "af904253",
   "metadata": {},
   "outputs": [],
   "source": [
    "# set num_workers to 0, safer on Windows with CPU\n",
    "train_transform = get_train_transforms(img_size,augment=False)\n",
    "val_transform = get_val_transforms(img_size)\n",
    "train_dataloader = get_dataloader(os.path.join(data_dir,'train'), batch_size=batch_size, num_workers=0,transform=train_transform)\n",
    "val_dataloader = get_dataloader(os.path.join(data_dir,'val'), batch_size=batch_size, num_workers=0,transform=val_transform)\n",
    "test_dataloader = get_dataloader(os.path.join(data_dir,'test'), batch_size=batch_size, num_workers=0,transform=val_transform)"
   ]
  },
  {
   "cell_type": "markdown",
   "id": "e7a45718",
   "metadata": {},
   "source": [
    "## Model setup\n",
    "### Create instance of SimpleCNN model "
   ]
  },
  {
   "cell_type": "code",
   "execution_count": null,
   "id": "a85957fe",
   "metadata": {},
   "outputs": [
    {
     "data": {
      "text/plain": [
       "==========================================================================================\n",
       "Layer (type:depth-idx)                   Output Shape              Param #\n",
       "==========================================================================================\n",
       "SimpleCNN                                [32, 1]                   --\n",
       "├─Sequential: 1-1                        [32, 64, 28, 28]          --\n",
       "│    └─Sequential: 2-1                   [32, 16, 112, 112]        --\n",
       "│    │    └─Conv2d: 3-1                  [32, 16, 224, 224]        160\n",
       "│    │    └─ReLU: 3-2                    [32, 16, 224, 224]        --\n",
       "│    │    └─MaxPool2d: 3-3               [32, 16, 112, 112]        --\n",
       "│    └─Sequential: 2-2                   [32, 32, 56, 56]          --\n",
       "│    │    └─Conv2d: 3-4                  [32, 32, 112, 112]        4,640\n",
       "│    │    └─ReLU: 3-5                    [32, 32, 112, 112]        --\n",
       "│    │    └─MaxPool2d: 3-6               [32, 32, 56, 56]          --\n",
       "│    └─Sequential: 2-3                   [32, 64, 28, 28]          --\n",
       "│    │    └─Conv2d: 3-7                  [32, 64, 56, 56]          18,496\n",
       "│    │    └─ReLU: 3-8                    [32, 64, 56, 56]          --\n",
       "│    │    └─MaxPool2d: 3-9               [32, 64, 28, 28]          --\n",
       "├─Sequential: 1-2                        [32, 1]                   --\n",
       "│    └─Flatten: 2-4                      [32, 50176]               --\n",
       "│    └─Linear: 2-5                       [32, 128]                 6,422,656\n",
       "│    └─ReLU: 2-6                         [32, 128]                 --\n",
       "│    └─Linear: 2-7                       [32, 1]                   129\n",
       "==========================================================================================\n",
       "Total params: 6,446,081\n",
       "Trainable params: 6,446,081\n",
       "Non-trainable params: 0\n",
       "Total mult-adds (Units.GIGABYTES): 4.18\n",
       "==========================================================================================\n",
       "Input size (MB): 6.42\n",
       "Forward/backward pass size (MB): 359.69\n",
       "Params size (MB): 25.78\n",
       "Estimated Total Size (MB): 391.90\n",
       "=========================================================================================="
      ]
     },
     "execution_count": 4,
     "metadata": {},
     "output_type": "execute_result"
    }
   ],
   "source": [
    "model = simplecnn.get_simplecnn(img_size,n_channels,use_batchnorm=False,use_dropout=False)\n",
    "\n",
    "# print the model summary\n",
    "summary(model,input_size=[batch_size,n_channels,img_size,img_size])"
   ]
  },
  {
   "cell_type": "markdown",
   "id": "3fdeb560",
   "metadata": {},
   "source": [
    "### Loss Function\n",
    "During training, we need a measure to determine the performance of the model. This is measure is called a loss-function, which measures the degree of dissimilarity between the obtained result and the target value. The loss function is minimized during training. For binary problems (two classes) a commonly used Loss function is the \"Binary Cross Entropy Loss\". In Pytorch, we will use the \"BCEWithLogitsLoss\" loss function. A loss function called \"BCELoss\" also exists but BCEWithLogitsLoss is numerically more stable, and it applies the sigmoid function internally, which BCELoss does not (so then it should be applied in the forward function)."
   ]
  },
  {
   "cell_type": "code",
   "execution_count": 5,
   "id": "e42b9e00",
   "metadata": {},
   "outputs": [],
   "source": [
    "loss_function = torch.nn.BCEWithLogitsLoss()"
   ]
  },
  {
   "cell_type": "markdown",
   "id": "5ed73734",
   "metadata": {},
   "source": [
    "### Optimizer\n",
    "During the training process, the weights of the model are updated according to the loss function. How much the weights are changed is important as we don't want to overshoot the mimimum of the loss function, but also do not want to change them too slow otherwise the optimization will take a long time. Here we choose the Adam optimizer, which is a popular adaptive optmizer algorithm. The optimizer is initialized by registering the model's parameters that need to be trained and passing the learning rate hyperparameter."
   ]
  },
  {
   "cell_type": "code",
   "execution_count": 6,
   "id": "86258d11",
   "metadata": {},
   "outputs": [],
   "source": [
    "optimizer = torch.optim.Adam(model.parameters(), lr=learning_rate)"
   ]
  },
  {
   "cell_type": "markdown",
   "id": "967bda6e",
   "metadata": {},
   "source": [
    "## Train the model\n",
    "The model is trained by looping over the epochs. The training loop iterates over the training dataset and tries to converge to optimal parameters. Inside the training loop, optimization happens in three steps:\n",
    "- Call optimizer.zero_grad() to reset the gradients of model prameters.\n",
    "- Backpropagate the prediction loss with a call to loss.backward(). \n",
    "- call optimizer.step() to adjust the parameters by the gradients collected during the backward propagation.\n",
    "At the end of each epoch, the validation dataset is evaluated to check if model performance is improving."
   ]
  },
  {
   "cell_type": "code",
   "execution_count": 7,
   "id": "68cb0519",
   "metadata": {},
   "outputs": [
    {
     "name": "stdout",
     "output_type": "stream",
     "text": [
      " Epoch 1 / 10:\n"
     ]
    },
    {
     "name": "stderr",
     "output_type": "stream",
     "text": [
      "Training: 100%|██████████| 163/163 [03:09<00:00,  1.16s/it]\n"
     ]
    },
    {
     "name": "stdout",
     "output_type": "stream",
     "text": [
      "  Average train loss:0.195669  \n",
      " Accuracy on the train dataset: 92.33%\n"
     ]
    },
    {
     "name": "stderr",
     "output_type": "stream",
     "text": [
      "Validation: 100%|██████████| 20/20 [00:15<00:00,  1.27it/s]\n"
     ]
    },
    {
     "name": "stdout",
     "output_type": "stream",
     "text": [
      "  Average val loss:0.689586  \n",
      " Accuracy on the validation dataset: 78.85%\n",
      " Epoch 2 / 10:\n"
     ]
    },
    {
     "name": "stderr",
     "output_type": "stream",
     "text": [
      "Training: 100%|██████████| 163/163 [02:58<00:00,  1.09s/it]\n"
     ]
    },
    {
     "name": "stdout",
     "output_type": "stream",
     "text": [
      "  Average train loss:0.087672  \n",
      " Accuracy on the train dataset: 96.88%\n"
     ]
    },
    {
     "name": "stderr",
     "output_type": "stream",
     "text": [
      "Validation: 100%|██████████| 20/20 [00:16<00:00,  1.25it/s]\n"
     ]
    },
    {
     "name": "stdout",
     "output_type": "stream",
     "text": [
      "  Average val loss:1.311724  \n",
      " Accuracy on the validation dataset: 75.80%\n",
      " Epoch 3 / 10:\n"
     ]
    },
    {
     "name": "stderr",
     "output_type": "stream",
     "text": [
      "Training: 100%|██████████| 163/163 [03:03<00:00,  1.13s/it]\n"
     ]
    },
    {
     "name": "stdout",
     "output_type": "stream",
     "text": [
      "  Average train loss:0.058237  \n",
      " Accuracy on the train dataset: 97.99%\n"
     ]
    },
    {
     "name": "stderr",
     "output_type": "stream",
     "text": [
      "Validation: 100%|██████████| 20/20 [00:15<00:00,  1.26it/s]\n"
     ]
    },
    {
     "name": "stdout",
     "output_type": "stream",
     "text": [
      "  Average val loss:1.887682  \n",
      " Accuracy on the validation dataset: 67.31%\n",
      " Epoch 4 / 10:\n"
     ]
    },
    {
     "name": "stderr",
     "output_type": "stream",
     "text": [
      "Training: 100%|██████████| 163/163 [03:07<00:00,  1.15s/it]\n"
     ]
    },
    {
     "name": "stdout",
     "output_type": "stream",
     "text": [
      "  Average train loss:0.057367  \n",
      " Accuracy on the train dataset: 97.93%\n"
     ]
    },
    {
     "name": "stderr",
     "output_type": "stream",
     "text": [
      "Validation: 100%|██████████| 20/20 [00:17<00:00,  1.17it/s]\n"
     ]
    },
    {
     "name": "stdout",
     "output_type": "stream",
     "text": [
      "  Average val loss:1.113866  \n",
      " Accuracy on the validation dataset: 76.76%\n",
      " Epoch 5 / 10:\n"
     ]
    },
    {
     "name": "stderr",
     "output_type": "stream",
     "text": [
      "Training: 100%|██████████| 163/163 [03:04<00:00,  1.13s/it]\n"
     ]
    },
    {
     "name": "stdout",
     "output_type": "stream",
     "text": [
      "  Average train loss:0.040852  \n",
      " Accuracy on the train dataset: 98.35%\n"
     ]
    },
    {
     "name": "stderr",
     "output_type": "stream",
     "text": [
      "Validation: 100%|██████████| 20/20 [00:15<00:00,  1.26it/s]\n"
     ]
    },
    {
     "name": "stdout",
     "output_type": "stream",
     "text": [
      "  Average val loss:1.161670  \n",
      " Accuracy on the validation dataset: 78.53%\n",
      " Epoch 6 / 10:\n"
     ]
    },
    {
     "name": "stderr",
     "output_type": "stream",
     "text": [
      "Training: 100%|██████████| 163/163 [03:02<00:00,  1.12s/it]\n"
     ]
    },
    {
     "name": "stdout",
     "output_type": "stream",
     "text": [
      "  Average train loss:0.036234  \n",
      " Accuracy on the train dataset: 98.68%\n"
     ]
    },
    {
     "name": "stderr",
     "output_type": "stream",
     "text": [
      "Validation: 100%|██████████| 20/20 [00:16<00:00,  1.25it/s]\n"
     ]
    },
    {
     "name": "stdout",
     "output_type": "stream",
     "text": [
      "  Average val loss:1.818115  \n",
      " Accuracy on the validation dataset: 73.40%\n",
      " Epoch 7 / 10:\n"
     ]
    },
    {
     "name": "stderr",
     "output_type": "stream",
     "text": [
      "Training: 100%|██████████| 163/163 [03:04<00:00,  1.13s/it]\n"
     ]
    },
    {
     "name": "stdout",
     "output_type": "stream",
     "text": [
      "  Average train loss:0.022003  \n",
      " Accuracy on the train dataset: 99.29%\n"
     ]
    },
    {
     "name": "stderr",
     "output_type": "stream",
     "text": [
      "Validation: 100%|██████████| 20/20 [00:15<00:00,  1.25it/s]\n"
     ]
    },
    {
     "name": "stdout",
     "output_type": "stream",
     "text": [
      "  Average val loss:2.384952  \n",
      " Accuracy on the validation dataset: 72.28%\n",
      " Epoch 8 / 10:\n"
     ]
    },
    {
     "name": "stderr",
     "output_type": "stream",
     "text": [
      "Training: 100%|██████████| 163/163 [02:57<00:00,  1.09s/it]\n"
     ]
    },
    {
     "name": "stdout",
     "output_type": "stream",
     "text": [
      "  Average train loss:0.017756  \n",
      " Accuracy on the train dataset: 99.39%\n"
     ]
    },
    {
     "name": "stderr",
     "output_type": "stream",
     "text": [
      "Validation: 100%|██████████| 20/20 [00:14<00:00,  1.37it/s]\n"
     ]
    },
    {
     "name": "stdout",
     "output_type": "stream",
     "text": [
      "  Average val loss:1.920854  \n",
      " Accuracy on the validation dataset: 76.28%\n",
      " Epoch 9 / 10:\n"
     ]
    },
    {
     "name": "stderr",
     "output_type": "stream",
     "text": [
      "Training: 100%|██████████| 163/163 [02:43<00:00,  1.00s/it]\n"
     ]
    },
    {
     "name": "stdout",
     "output_type": "stream",
     "text": [
      "  Average train loss:0.019428  \n",
      " Accuracy on the train dataset: 99.39%\n"
     ]
    },
    {
     "name": "stderr",
     "output_type": "stream",
     "text": [
      "Validation: 100%|██████████| 20/20 [00:15<00:00,  1.32it/s]\n"
     ]
    },
    {
     "name": "stdout",
     "output_type": "stream",
     "text": [
      "  Average val loss:2.020536  \n",
      " Accuracy on the validation dataset: 75.00%\n",
      " Epoch 10 / 10:\n"
     ]
    },
    {
     "name": "stderr",
     "output_type": "stream",
     "text": [
      "Training: 100%|██████████| 163/163 [02:47<00:00,  1.03s/it]\n"
     ]
    },
    {
     "name": "stdout",
     "output_type": "stream",
     "text": [
      "  Average train loss:0.005186  \n",
      " Accuracy on the train dataset: 99.85%\n"
     ]
    },
    {
     "name": "stderr",
     "output_type": "stream",
     "text": [
      "Validation: 100%|██████████| 20/20 [00:15<00:00,  1.32it/s]"
     ]
    },
    {
     "name": "stdout",
     "output_type": "stream",
     "text": [
      "  Average val loss:2.326567  \n",
      " Accuracy on the validation dataset: 75.80%\n",
      "Done!\n"
     ]
    },
    {
     "name": "stderr",
     "output_type": "stream",
     "text": [
      "\n"
     ]
    }
   ],
   "source": [
    "train_metrics_history = train_model(model,train_dataloader,test_dataloader,optimizer, loss_function,device,epochs,scheduler=None)"
   ]
  },
  {
   "cell_type": "markdown",
   "id": "207f2ce2",
   "metadata": {},
   "source": [
    "## Save the model"
   ]
  },
  {
   "cell_type": "code",
   "execution_count": 12,
   "id": "a931b4a5",
   "metadata": {},
   "outputs": [],
   "source": [
    "torch.save(model,'../models/simplecnn_10epochs.pth')"
   ]
  },
  {
   "cell_type": "markdown",
   "id": "d9a46491",
   "metadata": {},
   "source": [
    "## Results\n",
    "### Learning curve"
   ]
  },
  {
   "cell_type": "code",
   "execution_count": 8,
   "id": "51bf2915",
   "metadata": {},
   "outputs": [
    {
     "data": {
      "image/png": "[encoded data removed]",
      "text/plain": [
       "<Figure size 640x480 with 2 Axes>"
      ]
     },
     "metadata": {},
     "output_type": "display_data"
    }
   ],
   "source": [
    "# plot the evolution of the losses and accuracy over the epochs\n",
    "plot_learningcurve(train_metrics_history)"
   ]
  },
  {
   "cell_type": "markdown",
   "id": "b79285fa",
   "metadata": {},
   "source": [
    "### Precision, recall and F1 score\n",
    "The F1 score is a harmonic mean of precision and recall. It is useful for evaluating models when there is class imbalance, as it provides a more balanced measure of the model's performance. The F1 score ranges from 0 (worst) to 1 (best)."
   ]
  },
  {
   "cell_type": "code",
   "execution_count": 9,
   "id": "b5f9e2c1",
   "metadata": {},
   "outputs": [
    {
     "name": "stderr",
     "output_type": "stream",
     "text": [
      "Validation: 100%|██████████| 20/20 [00:15<00:00,  1.32it/s]"
     ]
    },
    {
     "name": "stdout",
     "output_type": "stream",
     "text": [
      "Accuracy on the test set: 75.80%\n",
      "Precision: 0.72, Recall: 0.99, F1 score: 0.84\n",
      "classification report:               precision    recall  f1-score   support\n",
      "\n",
      "           0       0.97      0.37      0.53       234\n",
      "           1       0.72      0.99      0.84       390\n",
      "\n",
      "    accuracy                           0.76       624\n",
      "   macro avg       0.84      0.68      0.68       624\n",
      "weighted avg       0.81      0.76      0.72       624\n",
      "\n"
     ]
    },
    {
     "name": "stderr",
     "output_type": "stream",
     "text": [
      "\n"
     ]
    }
   ],
   "source": [
    "metrics = evaluate_model(model, test_dataloader, loss_function, device=\"cpu\")\n",
    "# Compute precision, recall, and F1 score\n",
    "\n",
    "print(f\"Accuracy on the test set: {metrics['accuracy']:.2%}\")\n",
    "print(f\"Precision: {metrics['precision']:.2f}, Recall: {metrics['recall']:.2f}, F1 score: {metrics['f1']:.2f}\")\n",
    "\n",
    "print(f\"classification report: {metrics['classification report']}\")"
   ]
  },
  {
   "cell_type": "markdown",
   "id": "0dbad174",
   "metadata": {},
   "source": [
    "### Confusion Matrix\n",
    "A confusion matrix is a table that describes the performance of a classification model on a set of test data for which the true labels are known. It helps with identifying misclassifications and better understand model's performance. The confusion matrix displays the number of true positives, true negatives, false positives and false negatives for each class. "
   ]
  },
  {
   "cell_type": "code",
   "execution_count": 11,
   "id": "e990ec26",
   "metadata": {},
   "outputs": [
    {
     "data": {
      "image/png": "[encoded data removed]",
      "text/plain": [
       "<Figure size 640x480 with 2 Axes>"
      ]
     },
     "metadata": {},
     "output_type": "display_data"
    }
   ],
   "source": [
    "# Calculate the confusion matrix using the true labels and predicision for the complete test set\n",
    "plot_confusionmatrix(metrics['confusion matrix'])"
   ]
  },
  {
   "cell_type": "markdown",
   "id": "e2aec190",
   "metadata": {},
   "source": [
    "## Conclusion\n",
    "- Our simple CNN reached an accuracy of 76 % on the provided test set. A model that would simply label every image as Pneumonia has an accuracy of 62.5% (due to imbalance in the classes)\n",
    "- The learning curve shows that the accuracy on the training set is much higher (around 99%).As the number of epochs increase, the accuracy of the training set increases while the accuracy of validation set decreases. This indicates the model is overfitting the training data. The model becomes too specialized to the training data, fitting noise, while it fails to generalize well to unseen data.\n",
    "- The confusion matrix shows that the model has a high sensitivity (Recall) for the Pneumonia class. The model is able to correctly identify 387 out of 390 pneumonia cases (so many true positives). For the Normal class, it has lower precision. The model incorrectly classifies a significant number of the normal cases as pneumonia (148 out of 234). The precision for the Normal class is relatively low. The model seems to be indentifying the Pneumonia cases better than the Normal cases, which could be due to the imbalance in the dataset.This can lead the model to be biased towards the Pneumonia class.\n",
    "- The F1 score is 0.84."
   ]
  },
  {
   "cell_type": "markdown",
   "id": "a8317b30",
   "metadata": {},
   "source": [
    "## Possible improvements\n",
    "general improvements:\n",
    "- Create new validation set for tuning hyperparameters (as the current validation set is too small, and not used here)\n",
    "- fix class imbalance\n",
    "- learning rate updating during training\n",
    "- batchnormalization?\n",
    "\n",
    "Steps for reducing the overfitting:\n",
    " - Add more images -> data augmentation\n",
    " - Add regularization -> Dropout, Early Stopping\n",
    " - Use L2 weight decay -> penalizes large weights in the model\n",
    " - Reduce Architecture complexity -> reduce the number of filters, or the number of layers, check fully connected layer sizes\n",
    " - Use label smoothing. This prevends the model from being overly confident in predictions\n",
    " - Batch normalization: this can stabilize training and help generalization\n",
    " - Use a learning rate scheduler to reduce the learning rate as training plateaus\n",
    "\n",
    "Test other models:\n",
    "We could use transfer learning with more complex pre-trained models:\n",
    "- ResNet-18 (fast on CPU) or ResNet-34 (slower on CPU but more accurate)\n",
    "- MobileNet v2\n",
    "- EfficientNet-b0 (reasonably fast on CPU) or EfficientNet-b1 (slower but still possible on CPU)\n",
    "Other bigger models, such as ResNet-101 or EfficientNet-b4+ will be very slow to train on a CPU, so training on a GPU is preferred.\n",
    "When using pretrained models with transfer learning we should: freeze earlier layers, and only train the last few layers.\n",
    "\n",
    "We will explore the options in the next notebooks."
   ]
  },
  {
   "cell_type": "markdown",
   "id": "0cae750b",
   "metadata": {},
   "source": []
  }
 ],
 "metadata": {
  "kernelspec": {
   "display_name": "deeplearning_pytorch",
   "language": "python",
   "name": "python3"
  },
  "language_info": {
   "codemirror_mode": {
    "name": "ipython",
    "version": 3
   },
   "file_extension": ".py",
   "mimetype": "text/x-python",
   "name": "python",
   "nbconvert_exporter": "python",
   "pygments_lexer": "ipython3",
   "version": "3.13.3"
  }
 },
 "nbformat": 4,
 "nbformat_minor": 5
}
